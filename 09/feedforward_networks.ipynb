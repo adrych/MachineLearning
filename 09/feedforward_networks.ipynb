{
 "metadata": {
  "kernelspec": {
   "display_name": "Python 2",
   "language": "python",
   "name": "python2"
  },
  "language_info": {
   "codemirror_mode": {
    "name": "ipython",
    "version": 2
   },
   "file_extension": ".py",
   "mimetype": "text/x-python",
   "name": "python",
   "nbconvert_exporter": "python",
   "pygments_lexer": "ipython2",
   "version": "2.7.6"
  },
  "name": "",
  "signature": "sha256:ea891cc22e4ceff3505aba73ea1cda55d7225cab8eb72b667030136306b8e178"
 },
 "nbformat": 3,
 "nbformat_minor": 0,
 "worksheets": [
  {
   "cells": [
    {
     "cell_type": "markdown",
     "metadata": {},
     "source": [
      "# Klasyfikacja za pomoc\u0105 sieci neuronowych \n",
      "\n",
      "## Przypomnienie materia\u0142u z wyk\u0142adu\n",
      "\n",
      "Podczas klasyfikowania danych wej\u015bciowych za pomoc\u0105 prostych jednokierunkowych sieci neuronowych (*ang.* **feedforward**) obliczamy warto\u015bci neuron\u00f3w na podstawie warto\u015bci neuron\u00f3w poprzedniej warstwy.\n",
      "\n",
      "* Maj\u0105c dan\u0105 $n$-warstwow\u0105 sie\u0107 neuronow\u0105 oraz jej parametry $\\Theta^{(1)}, \\ldots, \\Theta^{(n)} $ oraz $\\beta^{(1)}, \\ldots, \\beta^{(n)} $ liczymy: \n",
      "$$a^{(i)} = g^{(i-1)}\\left( a^{(i-1)} \\Theta^{(i)} + \\beta^{(i)} \\right). $$ \n",
      "* Funkcje $g^{(i)}$ to tzw. **funkcje aktywacji**.\n",
      "* Dla $i = 0$ przyjmujemy $a^{(0)} = \\mathrm{x}$ (wektor wierszowy cech) oraz $g^{(0)}(x) = x$ (identyczno\u015b\u0107).\n",
      "* W przypadku klasyfikacji, cz\u0119sto dla ostatniej warstwy $n$ (o rozmiarze r\u00f3wnym liczbie klas) przyjmuje si\u0119 $g^{(n)}(x) = \\mathop{\\mathrm{softmax}}(x)$.\n",
      "* Wtedy funkcja decyzyjna ma posta\u0107:\n",
      "$$c = \\mathop{\\mathrm{argmax}}_{i}\\left(a^{(n)}_i\\right)$$\n",
      "* Pozosta\u0142e funkcje aktywacji najcze\u015bciej maj\u0105 posta\u0107 sigmoidy (np. funkcja logistyczna lub tangens hiperboliczny, $\\tanh$).\n",
      "* Parametry $\\Theta$ to wagi na po\u0142\u0105czeniach miedzy neuronami dw\u00f3ch warstw. Rozmiar macierzy $\\Theta^{(i)}$, czyli macierzy wag na po\u0142\u0105czeniach warstw $a^{(i-1)}$ i $a^{(i)}$, to $\\dim(a^{(i-1)}) \\times \\dim(a^{(i)})$. \n",
      "* Parametry $\\beta$ zast\u0119puj\u0105 tutaj dodawanie kolumny z jedynkami do naszej macierzy cech. Macierz $\\beta^{(i)}$ ma rozmiar r\u00f3wny liczbie neuron\u00f3w w odpowiedniej warstwie, czyli $1 \\times \\dim(a^{(i)})$.\n",
      "\n",
      "## Zadania (cze\u015b\u0107 teoretyczna)\n",
      "\n",
      "* Rozwin rekurencj\u0119\u00a0dla dwuwarstowej sieci neuronowej (zapisz r\u00f3wnania w postaci Latexowej dla $a^{(0)}$, $a^{(1)}$, $a^{(2)}$) wraz z funkcj\u0105\u00a0decyzyjn\u0105 dla klasyfikacji.\n",
      "* Pomy\u015blmy ponownie o danych MNIST. Za\u0142o\u017cmy, \u017ce mamy dwuwarstwow\u0105 sie\u0107 neuronow\u0105 z warstw\u0105\u00a0ukryt\u0105 o liczbie 100 neuron\u00f3w. Podaj wymiary macierzy  $\\Theta^{(1)}, \\Theta^{(2)} $ oraz $\\beta^{(1)}, \\beta^{(2)} $. Uzasadnij.\n",
      "* Jakie b\u0119d\u0105 wymiary odpowiednich macierzy w przypadku trzywarstowej sieci z ukrytymi warstwami o rozmiarach 200 i 50? "
     ]
    },
    {
     "cell_type": "markdown",
     "metadata": {},
     "source": [
      "## Zadania (cz\u0119\u015b\u0107 praktyczna)\n",
      "\n",
      "### Dwuwarstwowa sie\u0107 neuronowa"
     ]
    },
    {
     "cell_type": "code",
     "collapsed": false,
     "input": [
      "import numpy as np\n",
      "\n",
      "Theta1 = np.matrix(np.load(\"2layers/Theta1.npy\"))\n",
      "Beta1 = np.matrix(np.load(\"2layers/Beta1.npy\"))\n",
      "\n",
      "Theta2 = np.matrix(np.load(\"2layers/Theta2.npy\"))\n",
      "Beta2 = np.matrix(np.load(\"2layers/Beta2.npy\"))"
     ],
     "language": "python",
     "metadata": {},
     "outputs": [],
     "prompt_number": 1
    },
    {
     "cell_type": "markdown",
     "metadata": {},
     "source": [
      "* Powy\u017cej odczytano z dysku cztery macierze  $\\Theta^{(1)}, \\beta^{(1)} $ oraz $ \\Theta^{(2)}, \\beta^{(2)} $ dla zagadnienia MNIST. Macierze te s\u0105 wynikiem pewnego trenowania i mo\u017cna je ju\u017c wykorzysta\u0107 do klasyfikacji za pomoc\u0105 odpowiedniej sieci dwuwarstwowej. Sprawd\u017a ich wymiary. Jaki jest rozmiar warstwy ukrytej?\n",
      "* Zaimplementuj tak\u0105\u00a0sie\u0107 zgodnie z powy\u017cszymi wzorami i za pomoc\u0105\u00a0podanych macierzy. Jako funkcj\u0119\u00a0aktywacji przyjmij odpowiednio $g^{(1)}(x) = \\tanh(x)$ oraz $g^{(2)}(x) = \\mathop{\\mathrm{softmax}}(x)$.\n",
      "* Zastosuj do zestawu MNIST i podaj poprawno\u015b\u0107 klasyfikacyjn\u0105, kt\u00f3r\u0105 ta sie\u0107 uzyskuje (powinna by\u0107 bardzo wysoka). <br/> **UWAGA**: Ju\u017c nie jest potrzebny *bias term* w naszej macierzy cech, dodawanie parametr\u00f3w $\\beta$ jest odpowiednikiem tej operacji. Wektory cech powinny mie\u0107\u00a0zatem d\u0142ugo\u015b\u0107\u00a0$28 \\times 28$ (same piksele) a nie $28 \\times 28 + 1$ jak do tej pory."
     ]
    },
    {
     "cell_type": "code",
     "collapsed": false,
     "input": [
      "print Theta1.shape\n",
      "print Beta1.shape\n",
      "print Theta2.shape\n",
      "print Beta2.shape"
     ],
     "language": "python",
     "metadata": {},
     "outputs": [
      {
       "output_type": "stream",
       "stream": "stdout",
       "text": [
        "(784, 300)\n",
        "(1, 300)\n",
        "(300, 10)\n",
        "(1, 10)\n"
       ]
      }
     ],
     "prompt_number": 2
    },
    {
     "cell_type": "markdown",
     "metadata": {
      "collapsed": true
     },
     "source": [
      "### 6-ciowarstwowa sie\u0107 neuronowa\n",
      "\n",
      "Analogicznie, w katalogu \"6layers\" mamy sie\u0107 6-ciowarstwow\u0105. \n",
      "* Zaimplementuj sie\u0107. \n",
      "* Wykonaj analogicznie obliczenia jak dla sieci dwuwarstwowej i podaj jako\u015b\u0107 kasyfikacji. Podobnie jak wy\u017cej ostatnia warstwa ma funkcj\u0119 aktywacji $\\mathrm{softmax}$, pozosta\u0142e to $\\mathrm{tanh}$."
     ]
    },
    {
     "cell_type": "code",
     "collapsed": false,
     "input": [
      "import os\n",
      "import struct\n",
      "import numpy as np\n",
      "\n",
      "%matplotlib inline\n",
      "\n",
      "def read(dataset = \"training\", path = \".\"):\n",
      "    \"\"\"\n",
      "    Python function for importing the MNIST data set.  It returns an iterator\n",
      "    of 2-tuples with the first element being the label and the second element\n",
      "    being a numpy.uint8 2D array of pixel data for the given image.\n",
      "    \"\"\"\n",
      "\n",
      "    if dataset is \"training\":\n",
      "        fname_img = os.path.join(path, 'train-images.idx3-ubyte')\n",
      "        fname_lbl = os.path.join(path, 'train-labels.idx1-ubyte')\n",
      "    elif dataset is \"testing\":\n",
      "        fname_img = os.path.join(path, 't10k-images.idx3-ubyte')\n",
      "        fname_lbl = os.path.join(path, 't10k-labels.idx1-ubyte')\n",
      "    else:\n",
      "        raise ValueError, \"dataset must be 'testing' or 'training'\"\n",
      "\n",
      "    # Load everything in some numpy arrays\n",
      "    with open(fname_lbl, 'rb') as flbl:\n",
      "        magic, num = struct.unpack(\">II\", flbl.read(8))\n",
      "        lbl = np.fromfile(flbl, dtype=np.int8)\n",
      "\n",
      "    with open(fname_img, 'rb') as fimg:\n",
      "        magic, num, rows, cols = struct.unpack(\">IIII\", fimg.read(16))\n",
      "        img = np.fromfile(fimg, dtype=np.uint8).reshape(len(lbl), rows, cols)\n",
      "\n",
      "    get_img = lambda idx: (lbl[idx], img[idx])\n",
      "\n",
      "    # Create an iterator which returns each image in turn\n",
      "    for i in xrange(len(lbl)):\n",
      "        yield get_img(i)\n",
      "\n",
      "def show(image):\n",
      "    \"\"\"\n",
      "    Render a given numpy.uint8 2D array of pixel data.\n",
      "    \"\"\"\n",
      "    from matplotlib import pyplot\n",
      "    import matplotlib as mpl\n",
      "    fig = pyplot.figure()\n",
      "    ax = fig.add_subplot(1,1,1)\n",
      "    imgplot = ax.imshow(image, cmap=mpl.cm.Greys)\n",
      "    imgplot.set_interpolation('nearest')\n",
      "    ax.xaxis.set_ticks_position('top')\n",
      "    ax.yaxis.set_ticks_position('left')\n",
      "    pyplot.show()"
     ],
     "language": "python",
     "metadata": {},
     "outputs": [],
     "prompt_number": 3
    },
    {
     "cell_type": "code",
     "collapsed": false,
     "input": [
      "def toMatrix(data, maxItems=1000):\n",
      "    datalist = [t for t in data]\n",
      "    m = maxItems\n",
      "    n = 28 * 28 + 1\n",
      "    X = np.matrix(np.zeros(m * n)).reshape(m, n)\n",
      "    Y = np.matrix(np.zeros(m)).reshape(m, 1)\n",
      "    for i, (label, image) in enumerate(datalist[:m]):\n",
      "        X[i, 0] = 1 # bias term\n",
      "        X[i, 1:] = image.reshape(28*28,)\n",
      "        Y[i] = label\n",
      "    return X, Y\n",
      "\n",
      "def softmax(X):\n",
      "    return np.exp(X)/np.sum(np.exp(X))"
     ],
     "language": "python",
     "metadata": {},
     "outputs": [],
     "prompt_number": 4
    },
    {
     "cell_type": "code",
     "collapsed": false,
     "input": [
      "data_train = list(read())\n",
      "data_test = list(read(\"testing\"))\n",
      "\n",
      "train = toMatrix(data_train)\n",
      "test = toMatrix(data_test)"
     ],
     "language": "python",
     "metadata": {},
     "outputs": [
      {
       "ename": "IOError",
       "evalue": "[Errno 2] No such file or directory: './train-labels.idx1-ubyte'",
       "output_type": "pyerr",
       "traceback": [
        "\u001b[1;31m---------------------------------------------------------------------------\u001b[0m\n\u001b[1;31mIOError\u001b[0m                                   Traceback (most recent call last)",
        "\u001b[1;32m<ipython-input-5-55053c335345>\u001b[0m in \u001b[0;36m<module>\u001b[1;34m()\u001b[0m\n\u001b[1;32m----> 1\u001b[1;33m \u001b[0mdata_train\u001b[0m \u001b[1;33m=\u001b[0m \u001b[0mlist\u001b[0m\u001b[1;33m(\u001b[0m\u001b[0mread\u001b[0m\u001b[1;33m(\u001b[0m\u001b[1;33m)\u001b[0m\u001b[1;33m)\u001b[0m\u001b[1;33m\u001b[0m\u001b[0m\n\u001b[0m\u001b[0;32m      2\u001b[0m \u001b[0mdata_test\u001b[0m \u001b[1;33m=\u001b[0m \u001b[0mlist\u001b[0m\u001b[1;33m(\u001b[0m\u001b[0mread\u001b[0m\u001b[1;33m(\u001b[0m\u001b[1;34m\"testing\"\u001b[0m\u001b[1;33m)\u001b[0m\u001b[1;33m)\u001b[0m\u001b[1;33m\u001b[0m\u001b[0m\n\u001b[0;32m      3\u001b[0m \u001b[1;33m\u001b[0m\u001b[0m\n\u001b[0;32m      4\u001b[0m \u001b[0mtrain\u001b[0m \u001b[1;33m=\u001b[0m \u001b[0mtoMatrix\u001b[0m\u001b[1;33m(\u001b[0m\u001b[0mdata_train\u001b[0m\u001b[1;33m)\u001b[0m\u001b[1;33m\u001b[0m\u001b[0m\n\u001b[0;32m      5\u001b[0m \u001b[0mtest\u001b[0m \u001b[1;33m=\u001b[0m \u001b[0mtoMatrix\u001b[0m\u001b[1;33m(\u001b[0m\u001b[0mdata_test\u001b[0m\u001b[1;33m)\u001b[0m\u001b[1;33m\u001b[0m\u001b[0m\n",
        "\u001b[1;32m<ipython-input-3-7839d34b0706>\u001b[0m in \u001b[0;36mread\u001b[1;34m(dataset, path)\u001b[0m\n\u001b[0;32m     22\u001b[0m \u001b[1;33m\u001b[0m\u001b[0m\n\u001b[0;32m     23\u001b[0m     \u001b[1;31m# Load everything in some numpy arrays\u001b[0m\u001b[1;33m\u001b[0m\u001b[1;33m\u001b[0m\u001b[0m\n\u001b[1;32m---> 24\u001b[1;33m     \u001b[1;32mwith\u001b[0m \u001b[0mopen\u001b[0m\u001b[1;33m(\u001b[0m\u001b[0mfname_lbl\u001b[0m\u001b[1;33m,\u001b[0m \u001b[1;34m'rb'\u001b[0m\u001b[1;33m)\u001b[0m \u001b[1;32mas\u001b[0m \u001b[0mflbl\u001b[0m\u001b[1;33m:\u001b[0m\u001b[1;33m\u001b[0m\u001b[0m\n\u001b[0m\u001b[0;32m     25\u001b[0m         \u001b[0mmagic\u001b[0m\u001b[1;33m,\u001b[0m \u001b[0mnum\u001b[0m \u001b[1;33m=\u001b[0m \u001b[0mstruct\u001b[0m\u001b[1;33m.\u001b[0m\u001b[0munpack\u001b[0m\u001b[1;33m(\u001b[0m\u001b[1;34m\">II\"\u001b[0m\u001b[1;33m,\u001b[0m \u001b[0mflbl\u001b[0m\u001b[1;33m.\u001b[0m\u001b[0mread\u001b[0m\u001b[1;33m(\u001b[0m\u001b[1;36m8\u001b[0m\u001b[1;33m)\u001b[0m\u001b[1;33m)\u001b[0m\u001b[1;33m\u001b[0m\u001b[0m\n\u001b[0;32m     26\u001b[0m         \u001b[0mlbl\u001b[0m \u001b[1;33m=\u001b[0m \u001b[0mnp\u001b[0m\u001b[1;33m.\u001b[0m\u001b[0mfromfile\u001b[0m\u001b[1;33m(\u001b[0m\u001b[0mflbl\u001b[0m\u001b[1;33m,\u001b[0m \u001b[0mdtype\u001b[0m\u001b[1;33m=\u001b[0m\u001b[0mnp\u001b[0m\u001b[1;33m.\u001b[0m\u001b[0mint8\u001b[0m\u001b[1;33m)\u001b[0m\u001b[1;33m\u001b[0m\u001b[0m\n",
        "\u001b[1;31mIOError\u001b[0m: [Errno 2] No such file or directory: './train-labels.idx1-ubyte'"
       ]
      }
     ],
     "prompt_number": 5
    },
    {
     "cell_type": "code",
     "collapsed": false,
     "input": [
      "train[0].shape\n",
      "\n",
      "a = test[0][1][:,1:]"
     ],
     "language": "python",
     "metadata": {},
     "outputs": [],
     "prompt_number": 6
    },
    {
     "cell_type": "code",
     "collapsed": false,
     "input": [
      "a.shape"
     ],
     "language": "python",
     "metadata": {},
     "outputs": [
      {
       "metadata": {},
       "output_type": "pyout",
       "prompt_number": 7,
       "text": [
        "(1, 784)"
       ]
      }
     ],
     "prompt_number": 7
    },
    {
     "cell_type": "code",
     "collapsed": false,
     "input": [
      "print np.argmax(softmax((np.tanh((a*Theta1)+Beta1)*Theta2)+Beta2))\n",
      "print (softmax((np.tanh((a*Theta1)+Beta1)*Theta2)+Beta2)).shape\n"
     ],
     "language": "python",
     "metadata": {},
     "outputs": [
      {
       "output_type": "stream",
       "stream": "stdout",
       "text": [
        "2\n",
        "(1, 10)\n"
       ]
      }
     ],
     "prompt_number": 8
    },
    {
     "cell_type": "code",
     "collapsed": false,
     "input": [
      "acc = 0.0\n",
      "for i in range(len(test[1][:])):\n",
      "    probs = softmax((np.tanh((test[0][i][:,1:]*Theta1)+Beta1)*Theta2)+Beta2)\n",
      "    cls = np.argmax(probs)\n",
      "    correct = int(test[1][i])\n",
      "    print correct, \"<=>\", cls, \" - \", correct == cls, #np.round(probs, 4).tolist()\n",
      "    print ' '\n",
      "    acc += correct == cls\n",
      "print \"Accuracy =\", acc/float(len(test[0]))"
     ],
     "language": "python",
     "metadata": {},
     "outputs": [
      {
       "output_type": "stream",
       "stream": "stdout",
       "text": [
        "7 <=> 7  -  True  \n",
        "2 <=> 2  -  True  \n",
        "1 <=> 1  -  True  \n",
        "0 <=> 0  -  True  \n",
        "4 <=> 4  -  True  \n",
        "1 <=> 1  -  True  \n",
        "4 <=> 4  -  True  \n",
        "9 <=> 9  -  True  \n",
        "5 <=> 6  -  False  \n",
        "9 <=> 9  -  True  \n",
        "0 <=> 0  -  True  \n",
        "6 <=> 6  -  True  \n",
        "9 <=> 9  -  True  \n",
        "0 <=> 0  -  True  \n",
        "1 <=> 1  -  True  \n",
        "5 <=> 5  -  True  \n",
        "9 <=> 9  -  True  \n",
        "7 <=> 7  -  True  \n",
        "3 <=> 3  -  True  \n",
        "4 <=> 4  -  True  \n",
        "9 <=> 9  -  True  \n",
        "6 <=> 6  -  True  \n",
        "6 <=> 6  -  True  \n",
        "5 <=> 5  -  True  \n",
        "4 <=> 4  -  True  \n",
        "0 <=> 0  -  True  \n",
        "7 <=> 7  -  True  \n",
        "4 <=> 4  -  True  \n",
        "0 <=> 0  -  True  \n",
        "1 <=> 1  -  True  \n",
        "3 <=> 3  -  True  \n",
        "1 <=> 1  -  True  \n",
        "3 <=> 3  -  True  \n",
        "4 <=> 4  -  True  \n",
        "7 <=> 7  -  True  \n",
        "2 <=> 2  -  True  \n",
        "7 <=> 7  -  True  \n",
        "1 <=> 1  -  True  \n",
        "2 <=> 2  -  True  \n",
        "1 <=> 1  -  True  \n",
        "1 <=> 1  -  True  \n",
        "7 <=> 7  -  True  \n",
        "4 <=> 4  -  True  \n",
        "2 <=> 2  -  True  \n",
        "3 <=> 3  -  True  \n",
        "5 <=> 5  -  True  \n",
        "1 <=> 1  -  True  \n",
        "2 <=> 2  -  True  \n",
        "4 <=> 4  -  True  \n",
        "4 <=> 4  -  True  \n",
        "6 <=> 6  -  True  \n",
        "3 <=> 3  -  True  \n",
        "5 <=> 5  -  True  \n",
        "5 <=> 5  -  True  \n",
        "6 <=> 6  -  True  \n",
        "0 <=> 0  -  True  \n",
        "4 <=> 4  -  True  \n",
        "1 <=> 1  -  True  \n",
        "9 <=> 9  -  True  \n",
        "5 <=> 5  -  True  \n",
        "7 <=> 7  -  True  \n",
        "8 <=> 8  -  True  \n",
        "9 <=> 9  -  True  \n",
        "3 <=> 3  -  True  \n",
        "7 <=> 7  -  True  \n",
        "4 <=> 4  -  True  \n",
        "6 <=> 6  -  True  \n",
        "4 <=> 4  -  True  \n",
        "3 <=> 3  -  True  \n",
        "0 <=> 0  -  True  \n",
        "7 <=> 7  -  True  \n",
        "0 <=> 0  -  True  \n",
        "2 <=> 2  -  True  \n",
        "9 <=> 9  -  True  \n",
        "1 <=> 1  -  True  \n",
        "7 <=> 7  -  True  \n",
        "3 <=> 3  -  True  \n",
        "2 <=> 2  -  True  \n",
        "9 <=> 9  -  True  \n",
        "7 <=> 7  -  True  \n",
        "7 <=> 7  -  True  \n",
        "6 <=> 6  -  True  \n",
        "2 <=> 2  -  True  \n",
        "7 <=> 7  -  True  \n",
        "8 <=> 8  -  True  \n",
        "4 <=> 4  -  True  \n",
        "7 <=> 7  -  True  \n",
        "3 <=> 3  -  True  \n",
        "6 <=> 6  -  True  \n",
        "1 <=> 1  -  True  \n",
        "3 <=> 3  -  True  \n",
        "6 <=> 6  -  True  \n",
        "9 <=> 9  -  True  \n",
        "3 <=> 3  -  True  \n",
        "1 <=> 1  -  True  \n",
        "4 <=> 4  -  True  \n",
        "1 <=> 1  -  True  \n",
        "7 <=> 7  -  True  \n",
        "6 <=> 6  -  True  \n",
        "9 <=> 9  -  True  \n",
        "6 <=> 6  -  True  \n",
        "0 <=> 0  -  True  \n",
        "5 <=> 5  -  True  \n",
        "4 <=> 4  -  True  \n",
        "9 <=> 9  -  True  \n",
        "9 <=> 9  -  True  \n",
        "2 <=> 2  -  True  \n",
        "1 <=> 1  -  True  \n",
        "9"
       ]
      },
      {
       "output_type": "stream",
       "stream": "stdout",
       "text": [
        " <=> 9  -  True  \n",
        "4 <=> 4  -  True  \n",
        "8 <=> 8  -  True  \n",
        "7 <=> 7  -  True  \n",
        "3 <=> 3  -  True  \n",
        "9 <=> 9  -  True  \n",
        "7 <=> 7  -  True  \n",
        "4 <=> 9  -  False  \n",
        "4 <=> 4  -  True  \n",
        "4 <=> 4  -  True  \n",
        "9 <=> 9  -  True  \n",
        "2 <=> 2  -  True  \n",
        "5 <=> 5  -  True  \n",
        "4 <=> 4  -  True  \n",
        "7 <=> 7  -  True  \n",
        "6 <=> 6  -  True  \n",
        "7 <=> 7  -  True  \n",
        "9 <=> 9  -  True  \n",
        "0 <=> 0  -  True  \n",
        "5 <=> 5  -  True  \n",
        "8 <=> 8  -  True  \n",
        "5 <=> 5  -  True  \n",
        "6 <=> 6  -  True  \n",
        "6 <=> 6  -  True  \n",
        "5 <=> 5  -  True  \n",
        "7 <=> 7  -  True  \n",
        "8 <=> 8  -  True  \n",
        "1 <=> 1  -  True  \n",
        "0 <=> 0  -  True  \n",
        "1 <=> 1  -  True  \n",
        "6 <=> 6  -  True  \n",
        "4 <=> 4  -  True  \n",
        "6 <=> 6  -  True  \n",
        "7 <=> 7  -  True  \n",
        "3 <=> 3  -  True  \n",
        "1 <=> 1  -  True  \n",
        "7 <=> 7  -  True  \n",
        "1 <=> 1  -  True  \n",
        "8 <=> 8  -  True  \n",
        "2 <=> 2  -  True  \n",
        "0 <=> 0  -  True  \n",
        "2 <=> 2  -  True  \n",
        "9 <=> 9  -  True  \n",
        "9 <=> 9  -  True  \n",
        "5 <=> 5  -  True  \n",
        "5 <=> 5  -  True  \n",
        "1 <=> 1  -  True  \n",
        "5 <=> 5  -  True  \n",
        "6 <=> 6  -  True  \n",
        "0 <=> 0  -  True  \n",
        "3 <=> 3  -  True  \n",
        "4 <=> 4  -  True  \n",
        "4 <=> 4  -  True  \n",
        "6 <=> 6  -  True  \n",
        "5 <=> 5  -  True  \n",
        "4 <=> 4  -  True  \n",
        "6 <=> 6  -  True  \n",
        "5 <=> 5  -  True  \n",
        "4 <=> 4  -  True  \n",
        "5 <=> 5  -  True  \n",
        "1 <=> 1  -  True  \n",
        "4 <=> 4  -  True  \n",
        "4 <=> 4  -  True  \n",
        "7 <=> 7  -  True  \n",
        "2 <=> 2  -  True  \n",
        "3 <=> 3  -  True  \n",
        "2 <=> 2  -  True  \n",
        "7 <=> 7  -  True  \n",
        "1 <=> 1  -  True  \n",
        "8 <=> 8  -  True  \n",
        "1 <=> 1  -  True  \n",
        "8 <=> 8  -  True  \n",
        "1 <=> 1  -  True  \n",
        "8 <=> 8  -  True  \n",
        "5 <=> 5  -  True  \n",
        "0 <=> 0  -  True  \n",
        "8 <=> 8  -  True  \n",
        "9 <=> 9  -  True  \n",
        "2 <=> 2  -  True  \n",
        "5 <=> 5  -  True  \n",
        "0 <=> 0  -  True  \n",
        "1 <=> 1  -  True  \n",
        "1 <=> 1  -  True  \n",
        "1 <=> 1  -  True  \n",
        "0 <=> 0  -  True  \n",
        "9 <=> 9  -  True  \n",
        "0 <=> 0  -  True  \n",
        "3 <=> 3  -  True  \n",
        "1 <=> 1  -  True  \n",
        "6 <=> 6  -  True  \n",
        "4 <=> 4  -  True  \n",
        "2 <=> 2  -  True  \n",
        "3 <=> 3  -  True  \n",
        "6 <=> 6  -  True  \n",
        "1 <=> 1  -  True  \n",
        "1 <=> 1  -  True  \n",
        "1 <=> 1  -  True  \n",
        "3"
       ]
      },
      {
       "output_type": "stream",
       "stream": "stdout",
       "text": [
        " <=> 3  -  True  \n",
        "9 <=> 9  -  True  \n",
        "5 <=> 5  -  True  \n",
        "2 <=> 2  -  True  \n",
        "9 <=> 9  -  True  \n",
        "4 <=> 4  -  True  \n",
        "5 <=> 5  -  True  \n",
        "9 <=> 9  -  True  \n",
        "3 <=> 3  -  True  \n",
        "9 <=> 9  -  True  \n",
        "0 <=> 0  -  True  \n",
        "3 <=> 3  -  True  \n",
        "6 <=> 6  -  True  \n",
        "5 <=> 5  -  True  \n",
        "5 <=> 5  -  True  \n",
        "7 <=> 7  -  True  \n",
        "2 <=> 2  -  True  \n",
        "2 <=> 2  -  True  \n",
        "7 <=> 7  -  True  \n",
        "1 <=> 1  -  True  \n",
        "2 <=> 2  -  True  \n",
        "8 <=> 8  -  True  \n",
        "4 <=> 4  -  True  \n",
        "1 <=> 1  -  True  \n",
        "7 <=> 7  -  True  \n",
        "3 <=> 3  -  True  \n",
        "3 <=> 3  -  True  \n",
        "8 <=> 8  -  True  \n",
        "8 <=> 8  -  True  \n",
        "7 <=> 7  -  True  \n",
        "9 <=> 9  -  True  \n",
        "2 <=> 2  -  True  \n",
        "2 <=> 2  -  True  \n",
        "4 <=> 4  -  True  \n",
        "1 <=> 1  -  True  \n",
        "5 <=> 5  -  True  \n",
        "9 <=> 9  -  True  \n",
        "8 <=> 8  -  True  \n",
        "7 <=> 7  -  True  \n",
        "2 <=> 2  -  True  \n",
        "3 <=> 3  -  True  \n",
        "0 <=> 0  -  True  \n",
        "4 <=> 2  -  False  \n",
        "4 <=> 4  -  True  \n",
        "2 <=> 2  -  True  \n",
        "4 <=> 4  -  True  \n",
        "1 <=> 1  -  True  \n",
        "9 <=> 9  -  True  \n",
        "5 <=> 5  -  True  \n",
        "7 <=> 7  -  True  \n",
        "7 <=> 7  -  True  \n",
        "2 <=> 2  -  True  \n",
        "8 <=> 8  -  True  \n",
        "2 <=> 2  -  True  \n",
        "6 <=> 0  -  False  \n",
        "8 <=> 8  -  True  \n",
        "5 <=> 5  -  True  \n",
        "7 <=> 7  -  True  \n",
        "7 <=> 7  -  True  \n",
        "9 <=> 9  -  True  \n",
        "1 <=> 1  -  True  \n",
        "8 <=> 8  -  True  \n",
        "1 <=> 1  -  True  \n",
        "8 <=> 8  -  True  \n",
        "0 <=> 0  -  True  \n",
        "3 <=> 3  -  True  \n",
        "0 <=> 0  -  True  \n",
        "1 <=> 1  -  True  \n",
        "9 <=> 9  -  True  \n",
        "9 <=> 9  -  True  \n",
        "4 <=> 4  -  True  \n",
        "1 <=> 1  -  True  \n",
        "8 <=> 8  -  True  \n",
        "2 <=> 2  -  True  \n",
        "1 <=> 1  -  True  \n",
        "2 <=> 2  -  True  \n",
        "9 <=> 9  -  True  \n",
        "7 <=> 7  -  True  \n",
        "5 <=> 5  -  True  \n",
        "9 <=> 9  -  True  \n",
        "2 <=> 2  -  True  \n",
        "6 <=> 6  -  True  \n",
        "4 <=> 4  -  True  \n",
        "1 <=> 1  -  True  \n",
        "5 <=> 5  -  True  \n",
        "8 <=> 8  -  True  \n",
        "2 <=> 2  -  True  \n",
        "9"
       ]
      },
      {
       "output_type": "stream",
       "stream": "stdout",
       "text": [
        " <=> 9  -  True  \n",
        "2 <=> 2  -  True  \n",
        "0 <=> 0  -  True  \n",
        "4 <=> 4  -  True  \n",
        "0 <=> 0  -  True  \n",
        "0 <=> 0  -  True  \n",
        "2 <=> 2  -  True  \n",
        "8 <=> 8  -  True  \n",
        "4 <=> 4  -  True  \n",
        "7 <=> 7  -  True  \n",
        "1 <=> 1  -  True  \n",
        "2 <=> 2  -  True  \n",
        "4 <=> 4  -  True  \n",
        "0 <=> 0  -  True  \n",
        "2 <=> 2  -  True  \n",
        "7 <=> 7  -  True  \n",
        "4 <=> 4  -  True  \n",
        "3 <=> 3  -  True  \n",
        "3 <=> 3  -  True  \n",
        "0 <=> 0  -  True  \n",
        "0 <=> 0  -  True  \n",
        "3 <=> 3  -  True  \n",
        "1 <=> 1  -  True  \n",
        "9 <=> 9  -  True  \n",
        "6 <=> 6  -  True  \n",
        "5 <=> 5  -  True  \n",
        "2 <=> 2  -  True  \n",
        "5 <=> 5  -  True  \n",
        "9 <=> 9  -  True  \n",
        "2 <=> 7  -  False  \n",
        "9 <=> 9  -  True  \n",
        "3 <=> 3  -  True  \n",
        "0 <=> 0  -  True  \n",
        "4 <=> 4  -  True  \n",
        "2 <=> 2  -  True  \n",
        "0 <=> 0  -  True  \n",
        "7 <=> 7  -  True  \n",
        "1 <=> 1  -  True  \n",
        "1 <=> 1  -  True  \n",
        "2 <=> 2  -  True  \n",
        "1 <=> 1  -  True  \n",
        "5 <=> 5  -  True  \n",
        "3 <=> 3  -  True  \n",
        "3 <=> 3  -  True  \n",
        "9 <=> 9  -  True  \n",
        "7 <=> 7  -  True  \n",
        "8 <=> 8  -  True  \n",
        "6 <=> 6  -  True  \n",
        "5 <=> 3  -  False  \n",
        "6 <=> 6  -  True  \n",
        "1 <=> 1  -  True  \n",
        "3 <=> 3  -  True  \n",
        "8 <=> 8  -  True  \n",
        "1 <=> 1  -  True  \n",
        "0 <=> 0  -  True  \n",
        "5 <=> 5  -  True  \n",
        "1 <=> 1  -  True  \n",
        "3 <=> 3  -  True  \n",
        "1 <=> 1  -  True  \n",
        "5 <=> 5  -  True  \n",
        "5 <=> 5  -  True  \n",
        "6 <=> 6  -  True  \n",
        "1 <=> 1  -  True  \n",
        "8 <=> 8  -  True  \n",
        "5 <=> 5  -  True  \n",
        "1 <=> 1  -  True  \n",
        "7 <=> 7  -  True  \n",
        "9 <=> 9  -  True  \n",
        "4 <=> 4  -  True  \n",
        "6 <=> 6  -  True  \n",
        "2 <=> 2  -  True  \n",
        "2 <=> 2  -  True  \n",
        "5 <=> 5  -  True  \n",
        "0 <=> 0  -  True  \n",
        "6 <=> 6  -  True  \n",
        "5 <=> 5  -  True  \n",
        "6 <=> 6  -  True  \n",
        "3 <=> 3  -  True  \n",
        "7 <=> 7  -  True  \n",
        "2 <=> 2  -  True  \n",
        "0 <=> 0  -  True  \n",
        "8 <=> 8  -  True  \n",
        "8 <=> 8  -  True  \n",
        "5 <=> 5  -  True  \n",
        "4 <=> 4  -  True  \n",
        "1 <=> 1  -  True  \n",
        "1 <=> 1  -  True  \n",
        "4 <=> 4  -  True  \n",
        "0"
       ]
      },
      {
       "output_type": "stream",
       "stream": "stdout",
       "text": [
        " <=> 0  -  True  \n",
        "3 <=> 3  -  True  \n",
        "3 <=> 3  -  True  \n",
        "7 <=> 7  -  True  \n",
        "6 <=> 6  -  True  \n",
        "1 <=> 1  -  True  \n",
        "6 <=> 6  -  True  \n",
        "2 <=> 2  -  True  \n",
        "1 <=> 1  -  True  \n",
        "9 <=> 9  -  True  \n",
        "2 <=> 2  -  True  \n",
        "8 <=> 8  -  True  \n",
        "6 <=> 6  -  True  \n",
        "1 <=> 1  -  True  \n",
        "9 <=> 9  -  True  \n",
        "5 <=> 5  -  True  \n",
        "2 <=> 2  -  True  \n",
        "5 <=> 5  -  True  \n",
        "4 <=> 4  -  True  \n",
        "4 <=> 4  -  True  \n",
        "2 <=> 2  -  True  \n",
        "8 <=> 8  -  True  \n",
        "3 <=> 3  -  True  \n",
        "8 <=> 8  -  True  \n",
        "2 <=> 2  -  True  \n",
        "4 <=> 4  -  True  \n",
        "5 <=> 5  -  True  \n",
        "0 <=> 0  -  True  \n",
        "3 <=> 3  -  True  \n",
        "1 <=> 1  -  True  \n",
        "7 <=> 7  -  True  \n",
        "7 <=> 7  -  True  \n",
        "5 <=> 3  -  False  \n",
        "7 <=> 7  -  True  \n",
        "9 <=> 9  -  True  \n",
        "7 <=> 7  -  True  \n",
        "1 <=> 1  -  True  \n",
        "9 <=> 9  -  True  \n",
        "2 <=> 2  -  True  \n",
        "1 <=> 1  -  True  \n",
        "4 <=> 4  -  True  \n",
        "2 <=> 2  -  True  \n",
        "9 <=> 9  -  True  \n",
        "2 <=> 2  -  True  \n",
        "0 <=> 0  -  True  \n",
        "4 <=> 4  -  True  \n",
        "9 <=> 9  -  True  \n",
        "1 <=> 1  -  True  \n",
        "4 <=> 4  -  True  \n",
        "8 <=> 8  -  True  \n",
        "1 <=> 1  -  True  \n",
        "8 <=> 8  -  True  \n",
        "4 <=> 4  -  True  \n",
        "5 <=> 5  -  True  \n",
        "9 <=> 9  -  True  \n",
        "8 <=> 8  -  True  \n",
        "8 <=> 8  -  True  \n",
        "3 <=> 3  -  True  \n",
        "7 <=> 7  -  True  \n",
        "6 <=> 6  -  True  \n",
        "0 <=> 0  -  True  \n",
        "0 <=> 0  -  True  \n",
        "3 <=> 3  -  True  \n",
        "0 <=> 0  -  True  \n",
        "2 <=> 2  -  True  \n",
        "6 <=> 0  -  False  \n",
        "6 <=> 6  -  True  \n",
        "4 <=> 4  -  True  \n",
        "9 <=> 3  -  False  \n",
        "3 <=> 3  -  True  \n",
        "3 <=> 3  -  True  \n",
        "3 <=> 3  -  True  \n",
        "2 <=> 2  -  True  \n",
        "3 <=> 3  -  True  \n",
        "9 <=> 9  -  True  \n",
        "1 <=> 1  -  True  \n",
        "2 <=> 2  -  True  \n",
        "6 <=> 6  -  True  \n",
        "8 <=> 8  -  True  \n",
        "0 <=> 0  -  True  \n",
        "5 <=> 5  -  True  \n",
        "6 <=> 6  -  True  \n",
        "6 <=> 6  -  True  \n",
        "6 <=> 6  -  True  \n",
        "3 <=> 3  -  True  \n",
        "8 <=> 8  -  True  \n",
        "8"
       ]
      },
      {
       "output_type": "stream",
       "stream": "stdout",
       "text": [
        " <=> 8  -  True  \n",
        "2 <=> 2  -  True  \n",
        "7 <=> 7  -  True  \n",
        "5 <=> 5  -  True  \n",
        "8 <=> 8  -  True  \n",
        "9 <=> 9  -  True  \n",
        "6 <=> 6  -  True  \n",
        "1 <=> 1  -  True  \n",
        "8 <=> 8  -  True  \n",
        "4 <=> 4  -  True  \n",
        "1 <=> 1  -  True  \n",
        "2 <=> 2  -  True  \n",
        "5 <=> 8  -  False  \n",
        "9 <=> 9  -  True  \n",
        "1 <=> 1  -  True  \n",
        "9 <=> 9  -  True  \n",
        "7 <=> 7  -  True  \n",
        "5 <=> 5  -  True  \n",
        "4 <=> 4  -  True  \n",
        "0 <=> 0  -  True  \n",
        "8 <=> 8  -  True  \n",
        "9 <=> 9  -  True  \n",
        "9 <=> 9  -  True  \n",
        "1 <=> 1  -  True  \n",
        "0 <=> 0  -  True  \n",
        "5 <=> 5  -  True  \n",
        "2 <=> 2  -  True  \n",
        "3 <=> 3  -  True  \n",
        "7 <=> 7  -  True  \n",
        "8 <=> 2  -  False  \n",
        "9 <=> 9  -  True  \n",
        "4 <=> 4  -  True  \n",
        "0 <=> 0  -  True  \n",
        "6 <=> 6  -  True  \n",
        "3 <=> 3  -  True  \n",
        "9 <=> 9  -  True  \n",
        "5 <=> 5  -  True  \n",
        "2 <=> 2  -  True  \n",
        "1 <=> 1  -  True  \n",
        "3 <=> 3  -  True  \n",
        "1 <=> 1  -  True  \n",
        "3 <=> 3  -  True  \n",
        "6 <=> 6  -  True  \n",
        "5 <=> 5  -  True  \n",
        "7 <=> 7  -  True  \n",
        "4 <=> 4  -  True  \n",
        "2 <=> 2  -  True  \n",
        "2 <=> 2  -  True  \n",
        "6 <=> 6  -  True  \n",
        "3 <=> 3  -  True  \n",
        "2 <=> 2  -  True  \n",
        "6 <=> 6  -  True  \n",
        "5 <=> 5  -  True  \n",
        "4 <=> 4  -  True  \n",
        "8 <=> 8  -  True  \n",
        "9 <=> 9  -  True  \n",
        "7 <=> 7  -  True  \n",
        "1 <=> 1  -  True  \n",
        "3 <=> 3  -  True  \n",
        "0 <=> 0  -  True  \n",
        "3 <=> 3  -  True  \n",
        "8 <=> 8  -  True  \n",
        "3 <=> 3  -  True  \n",
        "1 <=> 1  -  True  \n",
        "9 <=> 9  -  True  \n",
        "3 <=> 3  -  True  \n",
        "4 <=> 4  -  True  \n",
        "4 <=> 4  -  True  \n",
        "6 <=> 6  -  True  \n",
        "4 <=> 4  -  True  \n",
        "2 <=> 2  -  True  \n",
        "1 <=> 1  -  True  \n",
        "8 <=> 8  -  True  \n",
        "2 <=> 2  -  True  \n",
        "5 <=> 5  -  True  \n",
        "4 <=> 4  -  True  \n",
        "8 <=> 8  -  True  \n",
        "8 <=> 8  -  True  \n",
        "4 <=> 4  -  True  \n",
        "0 <=> 0  -  True  \n",
        "0 <=> 0  -  True  \n",
        "2 <=> 2  -  True  \n",
        "3 <=> 3  -  True  \n",
        "2 <=> 2  -  True  \n",
        "7 <=> 7  -  True  \n",
        "7 <=> 3  -  False  \n",
        "0 <=> 0  -  True  \n",
        "8 <=> 8  -  True  \n",
        "7 <=> 7  -  True  \n",
        "4"
       ]
      },
      {
       "output_type": "stream",
       "stream": "stdout",
       "text": [
        " <=> 4  -  True  \n",
        "4 <=> 4  -  True  \n",
        "7 <=> 2  -  False  \n",
        "9 <=> 9  -  True  \n",
        "6 <=> 6  -  True  \n",
        "9 <=> 9  -  True  \n",
        "0 <=> 0  -  True  \n",
        "9 <=> 9  -  True  \n",
        "8 <=> 8  -  True  \n",
        "0 <=> 0  -  True  \n",
        "4 <=> 4  -  True  \n",
        "6 <=> 6  -  True  \n",
        "0 <=> 0  -  True  \n",
        "6 <=> 6  -  True  \n",
        "3 <=> 3  -  True  \n",
        "5 <=> 5  -  True  \n",
        "4 <=> 4  -  True  \n",
        "8 <=> 8  -  True  \n",
        "3 <=> 3  -  True  \n",
        "3 <=> 3  -  True  \n",
        "9 <=> 9  -  True  \n",
        "3 <=> 3  -  True  \n",
        "3 <=> 3  -  True  \n",
        "3 <=> 3  -  True  \n",
        "7 <=> 7  -  True  \n",
        "8 <=> 8  -  True  \n",
        "0 <=> 0  -  True  \n",
        "8 <=> 2  -  False  \n",
        "2 <=> 2  -  True  \n",
        "1 <=> 1  -  True  \n",
        "7 <=> 7  -  True  \n",
        "0 <=> 0  -  True  \n",
        "6 <=> 6  -  True  \n",
        "5 <=> 5  -  True  \n",
        "4 <=> 4  -  True  \n",
        "3 <=> 3  -  True  \n",
        "8 <=> 8  -  True  \n",
        "0 <=> 0  -  True  \n",
        "9 <=> 9  -  True  \n",
        "6 <=> 6  -  True  \n",
        "3 <=> 3  -  True  \n",
        "8 <=> 8  -  True  \n",
        "0 <=> 0  -  True  \n",
        "9 <=> 9  -  True  \n",
        "9 <=> 9  -  True  \n",
        "6 <=> 6  -  True  \n",
        "8 <=> 8  -  True  \n",
        "6 <=> 6  -  True  \n",
        "8 <=> 8  -  True  \n",
        "5 <=> 5  -  True  \n",
        "7 <=> 7  -  True  \n",
        "8 <=> 8  -  True  \n",
        "6 <=> 6  -  True  \n",
        "0 <=> 0  -  True  \n",
        "2 <=> 2  -  True  \n",
        "4 <=> 4  -  True  \n",
        "0 <=> 0  -  True  \n",
        "2 <=> 2  -  True  \n",
        "2 <=> 2  -  True  \n",
        "3 <=> 3  -  True  \n",
        "1 <=> 1  -  True  \n",
        "9 <=> 9  -  True  \n",
        "7 <=> 7  -  True  \n",
        "5 <=> 5  -  True  \n",
        "1 <=> 8  -  False  \n",
        "0 <=> 0  -  True  \n",
        "8 <=> 8  -  True  \n",
        "4 <=> 4  -  True  \n",
        "6 <=> 6  -  True  \n",
        "2 <=> 2  -  True  \n",
        "6 <=> 6  -  True  \n",
        "7 <=> 7  -  True  \n",
        "9 <=> 9  -  True  \n",
        "3 <=> 3  -  True  \n",
        "2 <=> 2  -  True  \n",
        "9 <=> 9  -  True  \n",
        "8 <=> 8  -  True  \n",
        "2 <=> 2  -  True  \n",
        "2 <=> 2  -  True  \n",
        "9 <=> 9  -  True  \n",
        "2 <=> 2  -  True  \n",
        "7 <=> 7  -  True  \n",
        "3 <=> 3  -  True  \n",
        "5 <=> 5  -  True  \n",
        "9 <=> 9  -  True  \n",
        "1 <=> 1  -  True  \n",
        "8 <=> 8  -  True  \n",
        "0 <=> 0  -  True  \n",
        "2 <=> 2  -  True  \n",
        "0 <=> 0  -  True  \n",
        "5 <=> 5  -  True  \n",
        "2 <=> 2  -  True  \n",
        "1 <=> 1  -  True  \n",
        "3 <=> 3  -  True  \n",
        "7 <=> 7  -  True  \n",
        "6 <=> 6  -  True  \n",
        "7"
       ]
      },
      {
       "output_type": "stream",
       "stream": "stdout",
       "text": [
        " <=> 7  -  True  \n",
        "1 <=> 1  -  True  \n",
        "2 <=> 2  -  True  \n",
        "5 <=> 5  -  True  \n",
        "8 <=> 8  -  True  \n",
        "0 <=> 0  -  True  \n",
        "3 <=> 3  -  True  \n",
        "7 <=> 7  -  True  \n",
        "2 <=> 2  -  True  \n",
        "4 <=> 4  -  True  \n",
        "0 <=> 0  -  True  \n",
        "9 <=> 9  -  True  \n",
        "1 <=> 1  -  True  \n",
        "8 <=> 8  -  True  \n",
        "6 <=> 6  -  True  \n",
        "7 <=> 7  -  True  \n",
        "7 <=> 7  -  True  \n",
        "4 <=> 4  -  True  \n",
        "3 <=> 3  -  True  \n",
        "4 <=> 4  -  True  \n",
        "9 <=> 9  -  True  \n",
        "1 <=> 1  -  True  \n",
        "9 <=> 9  -  True  \n",
        "5 <=> 5  -  True  \n",
        "1 <=> 1  -  True  \n",
        "7 <=> 7  -  True  \n",
        "3 <=> 3  -  True  \n",
        "9 <=> 9  -  True  \n",
        "7 <=> 7  -  True  \n",
        "6 <=> 6  -  True  \n",
        "9 <=> 9  -  True  \n",
        "1 <=> 1  -  True  \n",
        "3 <=> 3  -  True  \n",
        "7 <=> 3  -  False  \n",
        "8 <=> 8  -  True  \n",
        "3 <=> 3  -  True  \n",
        "3 <=> 3  -  True  \n",
        "6 <=> 6  -  True  \n",
        "7 <=> 7  -  True  \n",
        "2 <=> 2  -  True  \n",
        "8 <=> 8  -  True  \n",
        "5 <=> 5  -  True  \n",
        "8 <=> 8  -  True  \n",
        "5 <=> 5  -  True  \n",
        "1 <=> 1  -  True  \n",
        "1 <=> 1  -  True  \n",
        "4 <=> 4  -  True  \n",
        "4 <=> 4  -  True  \n",
        "3 <=> 3  -  True  \n",
        "1 <=> 1  -  True  \n",
        "0 <=> 0  -  True  \n",
        "7 <=> 7  -  True  \n",
        "7 <=> 7  -  True  \n",
        "0 <=> 0  -  True  \n",
        "7 <=> 7  -  True  \n",
        "9 <=> 9  -  True  \n",
        "4 <=> 9  -  False  \n",
        "4 <=> 4  -  True  \n",
        "8 <=> 8  -  True  \n",
        "5 <=> 5  -  True  \n",
        "5 <=> 5  -  True  \n",
        "4 <=> 4  -  True  \n",
        "0 <=> 0  -  True  \n",
        "8 <=> 8  -  True  \n",
        "2 <=> 2  -  True  \n",
        "1 <=> 1  -  True  \n",
        "0 <=> 0  -  True  \n",
        "8 <=> 8  -  True  \n",
        "4 <=> 4  -  True  \n",
        "5 <=> 5  -  True  \n",
        "0 <=> 0  -  True  \n",
        "4 <=> 4  -  True  \n",
        "0 <=> 0  -  True  \n",
        "6 <=> 6  -  True  \n",
        "1 <=> 1  -  True  \n",
        "7 <=> 7  -  True  \n",
        "3 <=> 3  -  True  \n",
        "2 <=> 2  -  True  \n",
        "6 <=> 6  -  True  \n",
        "7 <=> 7  -  True  \n",
        "2 <=> 2  -  True  \n",
        "6 <=> 6  -  True  \n",
        "9 <=> 9  -  True  \n",
        "3 <=> 3  -  True  \n",
        "1 <=> 1  -  True  \n",
        "4 <=> 4  -  True  \n",
        "6 <=> 6  -  True  \n",
        "2 <=> 2  -  True  \n",
        "5 <=> 5  -  True  \n",
        "4 <=> 9  -  False  \n",
        "2 <=> 2  -  True  \n",
        "0 <=> 0  -  True  \n",
        "6 <=> 6  -  True  \n",
        "2 <=> 2  -  True  \n",
        "1 <=> 1  -  True  \n",
        "7 <=> 7  -  True  \n",
        "3 <=> 3  -  True  \n",
        "4 <=> 4  -  True  \n",
        "1 <=> 1  -  True  \n",
        "0 <=> 0  -  True  \n",
        "5"
       ]
      },
      {
       "output_type": "stream",
       "stream": "stdout",
       "text": [
        " <=> 5  -  True  \n",
        "4 <=> 4  -  True  \n",
        "3 <=> 3  -  True  \n",
        "1 <=> 1  -  True  \n",
        "1 <=> 1  -  True  \n",
        "7 <=> 7  -  True  \n",
        "4 <=> 4  -  True  \n",
        "9 <=> 9  -  True  \n",
        "9 <=> 9  -  True  \n",
        "4 <=> 4  -  True  \n",
        "8 <=> 8  -  True  \n",
        "4 <=> 4  -  True  \n",
        "0 <=> 0  -  True  \n",
        "2 <=> 2  -  True  \n",
        "4 <=> 4  -  True  \n",
        "5 <=> 5  -  True  \n",
        "1 <=> 1  -  True  \n",
        "1 <=> 1  -  True  \n",
        "6 <=> 6  -  True  \n",
        "4 <=> 4  -  True  \n",
        "7 <=> 7  -  True  \n",
        "1 <=> 1  -  True  \n",
        "9 <=> 9  -  True  \n",
        "4 <=> 4  -  True  \n",
        "2 <=> 2  -  True  \n",
        "4 <=> 4  -  True  \n",
        "1 <=> 1  -  True  \n",
        "5 <=> 5  -  True  \n",
        "5 <=> 5  -  True  \n",
        "3 <=> 3  -  True  \n",
        "8 <=> 8  -  True  \n",
        "3 <=> 3  -  True  \n",
        "1 <=> 1  -  True  \n",
        "4 <=> 4  -  True  \n",
        "5 <=> 5  -  True  \n",
        "6 <=> 6  -  True  \n",
        "8 <=> 8  -  True  \n",
        "9 <=> 9  -  True  \n",
        "4 <=> 4  -  True  \n",
        "1 <=> 1  -  True  \n",
        "5 <=> 5  -  True  \n",
        "3 <=> 3  -  True  \n",
        "8 <=> 8  -  True  \n",
        "0 <=> 0  -  True  \n",
        "3 <=> 3  -  True  \n",
        "2 <=> 2  -  True  \n",
        "5 <=> 5  -  True  \n",
        "1 <=> 1  -  True  \n",
        "2 <=> 2  -  True  \n",
        "8 <=> 8  -  True  \n",
        "3 <=> 3  -  True  \n",
        "4 <=> 4  -  True  \n",
        "4 <=> 4  -  True  \n",
        "0 <=> 0  -  True  \n",
        "8 <=> 8  -  True  \n",
        "8 <=> 8  -  True  \n",
        "3 <=> 3  -  True  \n",
        "3 <=> 3  -  True  \n",
        "1 <=> 1  -  True  \n",
        "7 <=> 2  -  False  \n",
        "3 <=> 3  -  True  \n",
        "5 <=> 5  -  True  \n",
        "9 <=> 8  -  False  \n",
        "6 <=> 6  -  True  \n",
        "3 <=> 3  -  True  \n",
        "2 <=> 2  -  True  \n",
        "6 <=> 6  -  True  \n",
        "1 <=> 1  -  True  \n",
        "3 <=> 3  -  True  \n",
        "6 <=> 6  -  True  \n",
        "0 <=> 0  -  True  \n",
        "7 <=> 7  -  True  \n",
        "2 <=> 2  -  True  \n",
        "1 <=> 1  -  True  \n",
        "7 <=> 7  -  True  \n",
        "1 <=> 1  -  True  \n",
        "4 <=> 4  -  True  \n",
        "2 <=> 2  -  True  \n",
        "4 <=> 4  -  True  \n",
        "2 <=> 2  -  True  \n",
        "1 <=> 1  -  True  \n",
        "7 <=> 7  -  True  \n",
        "9 <=> 9  -  True  \n",
        "6 <=> 6  -  True  \n",
        "1 <=> 1  -  True  \n",
        "1 <=> 1  -  True  \n",
        "2 <=> 2  -  True  \n",
        "4 <=> 4  -  True  \n",
        "8 <=> 8  -  True  \n",
        "1 <=> 1  -  True  \n",
        "7 <=> 7  -  True  \n",
        "7 <=> 7  -  True  \n",
        "4 <=> 4  -  True  \n",
        "8 <=> 8  -  True  \n",
        "0 <=> 0  -  True  \n",
        "7 <=> 7  -  True  \n",
        "3 <=> 3  -  True  \n",
        "1 <=> 1  -  True  \n",
        "3 <=> 3  -  True  \n",
        "1 <=> 1  -  True  \n",
        "0"
       ]
      },
      {
       "output_type": "stream",
       "stream": "stdout",
       "text": [
        " <=> 0  -  True  \n",
        "7 <=> 7  -  True  \n",
        "7 <=> 7  -  True  \n",
        "0 <=> 0  -  True  \n",
        "3 <=> 3  -  True  \n",
        "5 <=> 5  -  True  \n",
        "5 <=> 5  -  True  \n",
        "2 <=> 2  -  True  \n",
        "7 <=> 7  -  True  \n",
        "6 <=> 6  -  True  \n",
        "6 <=> 6  -  True  \n",
        "9 <=> 9  -  True  \n",
        "2 <=> 2  -  True  \n",
        "8 <=> 8  -  True  \n",
        "3 <=> 3  -  True  \n",
        "5 <=> 5  -  True  \n",
        "2 <=> 2  -  True  \n",
        "2 <=> 2  -  True  \n",
        "5 <=> 5  -  True  \n",
        "6 <=> 6  -  True  \n",
        "0 <=> 0  -  True  \n",
        "8 <=> 8  -  True  \n",
        "2 <=> 2  -  True  \n",
        "9 <=> 9  -  True  \n",
        "2 <=> 2  -  True  \n",
        "8 <=> 8  -  True  \n",
        "8 <=> 8  -  True  \n",
        "8 <=> 8  -  True  \n",
        "8 <=> 8  -  True  \n",
        "7 <=> 7  -  True  \n",
        "4 <=> 4  -  True  \n",
        "9 <=> 9  -  True  \n",
        "3 <=> 3  -  True  \n",
        "0 <=> 0  -  True  \n",
        "6 <=> 6  -  True  \n",
        "6 <=> 6  -  True  \n",
        "3 <=> 3  -  True  \n",
        "2 <=> 2  -  True  \n",
        "1 <=> 1  -  True  \n",
        "3 <=> 3  -  True  \n",
        "2 <=> 2  -  True  \n",
        "2 <=> 2  -  True  \n",
        "9 <=> 9  -  True  \n",
        "3 <=> 3  -  True  \n",
        "0 <=> 0  -  True  \n",
        "0 <=> 0  -  True  \n",
        "5 <=> 5  -  True  \n",
        "7 <=> 7  -  True  \n",
        "8 <=> 8  -  True  \n",
        "1 <=> 1  -  True  \n",
        "4 <=> 4  -  True  \n",
        "4 <=> 4  -  True  \n",
        "6 <=> 6  -  True  \n",
        "0 <=> 0  -  True  \n",
        "2 <=> 2  -  True  \n",
        "9 <=> 9  -  True  \n",
        "1 <=> 1  -  True  \n",
        "4 <=> 4  -  True  \n",
        "7 <=> 7  -  True  \n",
        "4 <=> 4  -  True  \n",
        "7 <=> 7  -  True  \n",
        "3 <=> 3  -  True  \n",
        "9 <=> 9  -  True  \n",
        "8 <=> 8  -  True  \n",
        "8 <=> 8  -  True  \n",
        "4 <=> 4  -  True  \n",
        "7 <=> 7  -  True  \n",
        "1 <=> 1  -  True  \n",
        "2 <=> 2  -  True  \n",
        "1 <=> 1  -  True  \n",
        "2 <=> 2  -  True  \n",
        "2 <=> 2  -  True  \n",
        "3 <=> 3  -  True  \n",
        "2 <=> 2  -  True  \n",
        "3 <=> 3  -  True  \n",
        "2 <=> 2  -  True  \n",
        "3 <=> 3  -  True  \n",
        "9 <=> 9  -  True  \n",
        "1 <=> 1  -  True  \n",
        "7 <=> 7  -  True  \n",
        "4 <=> 4  -  True  \n",
        "0 <=> 0  -  True  \n",
        "3 <=> 3  -  True  \n",
        "5 <=> 5  -  True  \n",
        "5 <=> 5  -  True  \n",
        "8 <=> 8  -  True  \n",
        "6 <=> 6  -  True  \n",
        "3 <=> 3  -  True  \n",
        "2 <=> 2  -  True  \n",
        "6 <=> 6  -  True  \n",
        "7 <=> 7  -  True  \n",
        "6 <=> 6  -  True  \n",
        "6 <=> 6  -  True  \n",
        "3 <=> 3  -  True  \n",
        "2 <=> 2  -  True  \n",
        "7 <=> 7  -  True  \n",
        "8 <=> 9  -  False  \n",
        "1 <=> 1  -  True  \n",
        "1 <=> 1  -  True  \n",
        "7 <=> 7  -  True  \n",
        "5 <=> 4  -  False  \n"
       ]
      },
      {
       "output_type": "stream",
       "stream": "stdout",
       "text": [
        "6 <=> 6  -  True  \n",
        "4 <=> 4  -  True  \n",
        "9 <=> 9  -  True  \n",
        "5 <=> 5  -  True  \n",
        "1 <=> 3  -  False  \n",
        "3 <=> 3  -  True  \n",
        "3 <=> 3  -  True  \n",
        "4 <=> 4  -  True  \n",
        "7 <=> 7  -  True  \n",
        "8 <=> 8  -  True  \n",
        "9 <=> 9  -  True  \n",
        "1 <=> 1  -  True  \n",
        "1 <=> 1  -  True  \n",
        "6 <=> 0  -  False  \n",
        "9 <=> 9  -  True  \n",
        "1 <=> 1  -  True  \n",
        "4 <=> 4  -  True  \n",
        "4 <=> 4  -  True  \n",
        "5 <=> 5  -  True  \n",
        "4 <=> 4  -  True  \n",
        "0 <=> 0  -  True  \n",
        "6 <=> 6  -  True  \n",
        "2 <=> 2  -  True  \n",
        "2 <=> 2  -  True  \n",
        "3 <=> 3  -  True  \n",
        "1 <=> 1  -  True  \n",
        "5 <=> 5  -  True  \n",
        "1 <=> 1  -  True  \n",
        "2 <=> 2  -  True  \n",
        "0 <=> 0  -  True  \n",
        "3 <=> 3  -  True  \n",
        "8 <=> 8  -  True  \n",
        "1 <=> 1  -  True  \n",
        "2 <=> 2  -  True  \n",
        "6 <=> 6  -  True  \n",
        "7 <=> 7  -  True  \n",
        "1 <=> 1  -  True  \n",
        "6 <=> 6  -  True  \n",
        "2 <=> 2  -  True  \n",
        "3 <=> 3  -  True  \n",
        "9 <=> 9  -  True  \n",
        "0 <=> 0  -  True  \n",
        "1 <=> 1  -  True  \n",
        "2 <=> 2  -  True  \n",
        "2 <=> 2  -  True  \n",
        "0 <=> 0  -  True  \n",
        "8 <=> 8  -  True  \n",
        "9 <=> 9  -  True  \n",
        "Accuracy = 0.976\n"
       ]
      }
     ],
     "prompt_number": 9
    },
    {
     "cell_type": "code",
     "collapsed": false,
     "input": [
      "Theta1 = np.matrix(np.load(\"6layers/Theta1.npy\"))\n",
      "Beta1 = np.matrix(np.load(\"6layers/Beta1.npy\"))\n",
      "\n",
      "Theta2 = np.matrix(np.load(\"6layers/Theta2.npy\"))\n",
      "Beta2 = np.matrix(np.load(\"6layers/Beta2.npy\"))\n",
      "\n",
      "Theta3 = np.matrix(np.load(\"6layers/Theta3.npy\"))\n",
      "Beta3 = np.matrix(np.load(\"6layers/Beta3.npy\"))\n",
      "\n",
      "Theta4 = np.matrix(np.load(\"6layers/Theta4.npy\"))\n",
      "Beta4 = np.matrix(np.load(\"6layers/Beta4.npy\"))\n",
      "\n",
      "Theta5 = np.matrix(np.load(\"6layers/Theta5.npy\"))\n",
      "Beta5 = np.matrix(np.load(\"6layers/Beta5.npy\"))\n",
      "\n",
      "Theta6 = np.matrix(np.load(\"6layers/Theta6.npy\"))\n",
      "Beta6 = np.matrix(np.load(\"6layers/Beta6.npy\"))\n"
     ],
     "language": "python",
     "metadata": {},
     "outputs": [],
     "prompt_number": 19
    },
    {
     "cell_type": "code",
     "collapsed": false,
     "input": [
      "acc = 0.0\n",
      "for i in range(len(test[1][:])):\n",
      "    probs = softmax((np.tanh((np.tanh((np.tanh((np.tanh((np.tanh((test[0][i][:,1:]*Theta1)+Beta1)*Theta2)+Beta2)*Theta3)+Beta3)*Theta4)+Beta4)*Theta5)+Beta5)*Theta6)+Beta6)\n",
      "    cls = np.argmax(probs)\n",
      "    correct = int(test[1][i])\n",
      "    print correct, \"<=>\", cls, \" - \", correct == cls, #np.round(probs, 4).tolist()\n",
      "    print ' '\n",
      "    acc += correct == cls\n",
      "print \"Accuracy =\", acc/float(len(test[0]))"
     ],
     "language": "python",
     "metadata": {},
     "outputs": [
      {
       "output_type": "stream",
       "stream": "stdout",
       "text": [
        "7 <=> 7  -  True  \n",
        "2 <=> 2  -  True  \n",
        "1"
       ]
      },
      {
       "output_type": "stream",
       "stream": "stdout",
       "text": [
        " <=> 1  -  True  \n",
        "0 <=> 0  -  True  \n",
        "4"
       ]
      },
      {
       "output_type": "stream",
       "stream": "stdout",
       "text": [
        " <=> 4  -  True  \n",
        "1 <=> 1  -  True  \n",
        "4"
       ]
      },
      {
       "output_type": "stream",
       "stream": "stdout",
       "text": [
        " <=> 4  -  True  \n",
        "9 <=> 9  -  True  \n",
        "5"
       ]
      },
      {
       "output_type": "stream",
       "stream": "stdout",
       "text": [
        " <=> 5  -  True  \n",
        "9 <=> 9  -  True  \n",
        "0"
       ]
      },
      {
       "output_type": "stream",
       "stream": "stdout",
       "text": [
        " <=> 0  -  True  \n",
        "6 <=> 6  -  True  \n",
        "9"
       ]
      },
      {
       "output_type": "stream",
       "stream": "stdout",
       "text": [
        " <=> 9  -  True  \n",
        "0 <=> 0  -  True  \n",
        "1"
       ]
      },
      {
       "output_type": "stream",
       "stream": "stdout",
       "text": [
        " <=> 1  -  True  \n",
        "5 <=> 5  -  True  \n",
        "9"
       ]
      },
      {
       "output_type": "stream",
       "stream": "stdout",
       "text": [
        " <=> 9  -  True  \n",
        "7 <=> 7  -  True  \n",
        "3"
       ]
      },
      {
       "output_type": "stream",
       "stream": "stdout",
       "text": [
        " <=> 3  -  True  \n",
        "4 <=> 4  -  True  \n",
        "9"
       ]
      },
      {
       "output_type": "stream",
       "stream": "stdout",
       "text": [
        " <=> 9  -  True  \n",
        "6 <=> 6  -  True  \n",
        "6"
       ]
      },
      {
       "output_type": "stream",
       "stream": "stdout",
       "text": [
        " <=> 6  -  True  \n",
        "5 <=> 5  -  True  \n",
        "4"
       ]
      },
      {
       "output_type": "stream",
       "stream": "stdout",
       "text": [
        " <=> 4  -  True  \n",
        "0 <=> 0  -  True  \n",
        "7"
       ]
      },
      {
       "output_type": "stream",
       "stream": "stdout",
       "text": [
        " <=> 7  -  True  \n",
        "4 <=> 4  -  True  \n",
        "0"
       ]
      },
      {
       "output_type": "stream",
       "stream": "stdout",
       "text": [
        " <=> 0  -  True  \n",
        "1 <=> 1  -  True  \n",
        "3"
       ]
      },
      {
       "output_type": "stream",
       "stream": "stdout",
       "text": [
        " <=> 3  -  True  \n",
        "1 <=> 1  -  True  \n",
        "3"
       ]
      },
      {
       "output_type": "stream",
       "stream": "stdout",
       "text": [
        " <=> 3  -  True  \n",
        "4 <=> 4  -  True  \n",
        "7"
       ]
      },
      {
       "output_type": "stream",
       "stream": "stdout",
       "text": [
        " <=> 7  -  True  \n",
        "2 <=> 2  -  True  \n",
        "7"
       ]
      },
      {
       "output_type": "stream",
       "stream": "stdout",
       "text": [
        " <=> 7  -  True  \n",
        "1 <=> 1  -  True  \n",
        "2"
       ]
      },
      {
       "output_type": "stream",
       "stream": "stdout",
       "text": [
        " <=> 2  -  True  \n",
        "1 <=> 1  -  True  \n",
        "1"
       ]
      },
      {
       "output_type": "stream",
       "stream": "stdout",
       "text": [
        " <=> 1  -  True  \n",
        "7 <=> 7  -  True  \n",
        "4"
       ]
      },
      {
       "output_type": "stream",
       "stream": "stdout",
       "text": [
        " <=> 4  -  True  \n",
        "2 <=> 2  -  True  \n",
        "3"
       ]
      },
      {
       "output_type": "stream",
       "stream": "stdout",
       "text": [
        " <=> 3  -  True  \n",
        "5 <=> 5  -  True  \n",
        "1"
       ]
      },
      {
       "output_type": "stream",
       "stream": "stdout",
       "text": [
        " <=> 1  -  True  \n",
        "2 <=> 2  -  True  \n",
        "4"
       ]
      },
      {
       "output_type": "stream",
       "stream": "stdout",
       "text": [
        " <=> 4  -  True  \n",
        "4 <=> 4  -  True  \n",
        "6"
       ]
      },
      {
       "output_type": "stream",
       "stream": "stdout",
       "text": [
        " <=> 6  -  True  \n",
        "3 <=> 3  -  True  \n",
        "5"
       ]
      },
      {
       "output_type": "stream",
       "stream": "stdout",
       "text": [
        " <=> 5  -  True  \n",
        "5 <=> 5  -  True  \n",
        "6"
       ]
      },
      {
       "output_type": "stream",
       "stream": "stdout",
       "text": [
        " <=> 6  -  True  \n",
        "0 <=> 0  -  True  \n",
        "4"
       ]
      },
      {
       "output_type": "stream",
       "stream": "stdout",
       "text": [
        " <=> 4  -  True  \n",
        "1 <=> 1  -  True  \n",
        "9"
       ]
      },
      {
       "output_type": "stream",
       "stream": "stdout",
       "text": [
        " <=> 9  -  True  \n",
        "5 <=> 5  -  True  \n",
        "7"
       ]
      },
      {
       "output_type": "stream",
       "stream": "stdout",
       "text": [
        " <=> 7  -  True  \n",
        "8 <=> 8  -  True  \n",
        "9"
       ]
      },
      {
       "output_type": "stream",
       "stream": "stdout",
       "text": [
        " <=> 9  -  True  \n",
        "3 <=> 3  -  True  \n",
        "7"
       ]
      },
      {
       "output_type": "stream",
       "stream": "stdout",
       "text": [
        " <=> 7  -  True  \n",
        "4 <=> 4  -  True  \n",
        "6"
       ]
      },
      {
       "output_type": "stream",
       "stream": "stdout",
       "text": [
        " <=> 6  -  True  \n",
        "4 <=> 4  -  True  \n",
        "3"
       ]
      },
      {
       "output_type": "stream",
       "stream": "stdout",
       "text": [
        " <=> 3  -  True  \n",
        "0 <=> 0  -  True  \n",
        "7"
       ]
      },
      {
       "output_type": "stream",
       "stream": "stdout",
       "text": [
        " <=> 7  -  True  \n",
        "0 <=> 0  -  True  \n",
        "2"
       ]
      },
      {
       "output_type": "stream",
       "stream": "stdout",
       "text": [
        " <=> 2  -  True  \n",
        "9 <=> 9  -  True  \n",
        "1"
       ]
      },
      {
       "output_type": "stream",
       "stream": "stdout",
       "text": [
        " <=> 1  -  True  \n",
        "7 <=> 7  -  True  \n",
        "3"
       ]
      },
      {
       "output_type": "stream",
       "stream": "stdout",
       "text": [
        " <=> 3  -  True  \n",
        "2 <=> 2  -  True  \n",
        "9"
       ]
      },
      {
       "output_type": "stream",
       "stream": "stdout",
       "text": [
        " <=> 9  -  True  \n",
        "7 <=> 7  -  True  \n",
        "7"
       ]
      },
      {
       "output_type": "stream",
       "stream": "stdout",
       "text": [
        " <=> 7  -  True  \n",
        "6 <=> 6  -  True  \n",
        "2"
       ]
      },
      {
       "output_type": "stream",
       "stream": "stdout",
       "text": [
        " <=> 2  -  True  \n",
        "7 <=> 7  -  True  \n",
        "8"
       ]
      },
      {
       "output_type": "stream",
       "stream": "stdout",
       "text": [
        " <=> 8  -  True  \n",
        "4 <=> 4  -  True  \n",
        "7"
       ]
      },
      {
       "output_type": "stream",
       "stream": "stdout",
       "text": [
        " <=> 7  -  True  \n",
        "3 <=> 3  -  True  \n",
        "6"
       ]
      },
      {
       "output_type": "stream",
       "stream": "stdout",
       "text": [
        " <=> 6  -  True  \n",
        "1 <=> 1  -  True  \n",
        "3"
       ]
      },
      {
       "output_type": "stream",
       "stream": "stdout",
       "text": [
        " <=> 3  -  True  \n",
        "6 <=> 6  -  True  \n",
        "9"
       ]
      },
      {
       "output_type": "stream",
       "stream": "stdout",
       "text": [
        " <=> 9  -  True  \n",
        "3 <=> 3  -  True  \n",
        "1"
       ]
      },
      {
       "output_type": "stream",
       "stream": "stdout",
       "text": [
        " <=> 1  -  True  \n",
        "4 <=> 4  -  True  \n",
        "1"
       ]
      },
      {
       "output_type": "stream",
       "stream": "stdout",
       "text": [
        " <=> 1  -  True  \n",
        "7 <=> 7  -  True  \n",
        "6"
       ]
      },
      {
       "output_type": "stream",
       "stream": "stdout",
       "text": [
        " <=> 6  -  True  \n",
        "9 <=> 9  -  True  \n",
        "6"
       ]
      },
      {
       "output_type": "stream",
       "stream": "stdout",
       "text": [
        " <=> 6  -  True  \n",
        "0 <=> 0  -  True  \n",
        "5"
       ]
      },
      {
       "output_type": "stream",
       "stream": "stdout",
       "text": [
        " <=> 5  -  True  \n",
        "4 <=> 4  -  True  \n",
        "9"
       ]
      },
      {
       "output_type": "stream",
       "stream": "stdout",
       "text": [
        " <=> 5  -  False  \n",
        "9 <=> 9  -  True  \n",
        "2"
       ]
      },
      {
       "output_type": "stream",
       "stream": "stdout",
       "text": [
        " <=> 2  -  True  \n",
        "1 <=> 1  -  True  \n",
        "9"
       ]
      },
      {
       "output_type": "stream",
       "stream": "stdout",
       "text": [
        " <=> 9  -  True  \n",
        "4 <=> 4  -  True  \n",
        "8"
       ]
      },
      {
       "output_type": "stream",
       "stream": "stdout",
       "text": [
        " <=> 8  -  True  \n",
        "7 <=> 7  -  True  \n",
        "3"
       ]
      },
      {
       "output_type": "stream",
       "stream": "stdout",
       "text": [
        " <=> 3  -  True  \n",
        "9 <=> 9  -  True  \n",
        "7"
       ]
      },
      {
       "output_type": "stream",
       "stream": "stdout",
       "text": [
        " <=> 7  -  True  \n",
        "4 <=> 9  -  False  \n",
        "4"
       ]
      },
      {
       "output_type": "stream",
       "stream": "stdout",
       "text": [
        " <=> 4  -  True  \n",
        "4 <=> 4  -  True  \n",
        "9"
       ]
      },
      {
       "output_type": "stream",
       "stream": "stdout",
       "text": [
        " <=> 9  -  True  \n",
        "2 <=> 2  -  True  \n",
        "5"
       ]
      },
      {
       "output_type": "stream",
       "stream": "stdout",
       "text": [
        " <=> 5  -  True  \n",
        "4 <=> 4  -  True  \n",
        "7"
       ]
      },
      {
       "output_type": "stream",
       "stream": "stdout",
       "text": [
        " <=> 7  -  True  \n",
        "6 <=> 6  -  True  \n",
        "7"
       ]
      },
      {
       "output_type": "stream",
       "stream": "stdout",
       "text": [
        " <=> 7  -  True  \n",
        "9 <=> 9  -  True  \n",
        "0"
       ]
      },
      {
       "output_type": "stream",
       "stream": "stdout",
       "text": [
        " <=> 0  -  True  \n",
        "5 <=> 5  -  True  \n",
        "8"
       ]
      },
      {
       "output_type": "stream",
       "stream": "stdout",
       "text": [
        " <=> 8  -  True  \n",
        "5 <=> 5  -  True  \n",
        "6"
       ]
      },
      {
       "output_type": "stream",
       "stream": "stdout",
       "text": [
        " <=> 6  -  True  \n",
        "6 <=> 6  -  True  \n",
        "5"
       ]
      },
      {
       "output_type": "stream",
       "stream": "stdout",
       "text": [
        " <=> 5  -  True  \n",
        "7 <=> 7  -  True  \n",
        "8"
       ]
      },
      {
       "output_type": "stream",
       "stream": "stdout",
       "text": [
        " <=> 8  -  True  \n",
        "1 <=> 1  -  True  \n",
        "0"
       ]
      },
      {
       "output_type": "stream",
       "stream": "stdout",
       "text": [
        " <=> 0  -  True  \n",
        "1 <=> 1  -  True  \n",
        "6"
       ]
      },
      {
       "output_type": "stream",
       "stream": "stdout",
       "text": [
        " <=> 6  -  True  \n",
        "4 <=> 4  -  True  \n",
        "6"
       ]
      },
      {
       "output_type": "stream",
       "stream": "stdout",
       "text": [
        " <=> 6  -  True  \n",
        "7 <=> 7  -  True  \n",
        "3"
       ]
      },
      {
       "output_type": "stream",
       "stream": "stdout",
       "text": [
        " <=> 3  -  True  \n",
        "1 <=> 1  -  True  \n",
        "7"
       ]
      },
      {
       "output_type": "stream",
       "stream": "stdout",
       "text": [
        " <=> 7  -  True  \n",
        "1 <=> 1  -  True  \n",
        "8"
       ]
      },
      {
       "output_type": "stream",
       "stream": "stdout",
       "text": [
        " <=> 8  -  True  \n",
        "2 <=> 2  -  True  \n",
        "0"
       ]
      },
      {
       "output_type": "stream",
       "stream": "stdout",
       "text": [
        " <=> 0  -  True  \n",
        "2 <=> 2  -  True  \n",
        "9"
       ]
      },
      {
       "output_type": "stream",
       "stream": "stdout",
       "text": [
        " <=> 9  -  True  \n",
        "9 <=> 8  -  False  \n",
        "5"
       ]
      },
      {
       "output_type": "stream",
       "stream": "stdout",
       "text": [
        " <=> 5  -  True  \n",
        "5 <=> 5  -  True  \n",
        "1"
       ]
      },
      {
       "output_type": "stream",
       "stream": "stdout",
       "text": [
        " <=> 1  -  True  \n",
        "5 <=> 5  -  True  \n",
        "6"
       ]
      },
      {
       "output_type": "stream",
       "stream": "stdout",
       "text": [
        " <=> 6  -  True  \n",
        "0 <=> 0  -  True  \n",
        "3"
       ]
      },
      {
       "output_type": "stream",
       "stream": "stdout",
       "text": [
        " <=> 3  -  True  \n",
        "4 <=> 4  -  True  \n",
        "4"
       ]
      },
      {
       "output_type": "stream",
       "stream": "stdout",
       "text": [
        " <=> 4  -  True  \n",
        "6 <=> 6  -  True  \n",
        "5"
       ]
      },
      {
       "output_type": "stream",
       "stream": "stdout",
       "text": [
        " <=> 5  -  True  \n",
        "4 <=> 4  -  True  \n",
        "6"
       ]
      },
      {
       "output_type": "stream",
       "stream": "stdout",
       "text": [
        " <=> 6  -  True  \n",
        "5 <=> 5  -  True  \n",
        "4"
       ]
      },
      {
       "output_type": "stream",
       "stream": "stdout",
       "text": [
        " <=> 4  -  True  \n",
        "5 <=> 5  -  True  \n",
        "1"
       ]
      },
      {
       "output_type": "stream",
       "stream": "stdout",
       "text": [
        " <=> 1  -  True  \n",
        "4 <=> 4  -  True  \n",
        "4"
       ]
      },
      {
       "output_type": "stream",
       "stream": "stdout",
       "text": [
        " <=> 4  -  True  \n",
        "7 <=> 7  -  True  \n",
        "2"
       ]
      },
      {
       "output_type": "stream",
       "stream": "stdout",
       "text": [
        " <=> 2  -  True  \n",
        "3 <=> 3  -  True  \n",
        "2"
       ]
      },
      {
       "output_type": "stream",
       "stream": "stdout",
       "text": [
        " <=> 2  -  True  \n",
        "7 <=> 7  -  True  \n",
        "1"
       ]
      },
      {
       "output_type": "stream",
       "stream": "stdout",
       "text": [
        " <=> 1  -  True  \n",
        "8 <=> 8  -  True  \n",
        "1"
       ]
      },
      {
       "output_type": "stream",
       "stream": "stdout",
       "text": [
        " <=> 1  -  True  \n",
        "8 <=> 8  -  True  \n",
        "1"
       ]
      },
      {
       "output_type": "stream",
       "stream": "stdout",
       "text": [
        " <=> 1  -  True  \n",
        "8 <=> 8  -  True  \n",
        "5"
       ]
      },
      {
       "output_type": "stream",
       "stream": "stdout",
       "text": [
        " <=> 5  -  True  \n",
        "0 <=> 0  -  True  \n",
        "8"
       ]
      },
      {
       "output_type": "stream",
       "stream": "stdout",
       "text": [
        " <=> 8  -  True  \n",
        "9 <=> 9  -  True  \n",
        "2"
       ]
      },
      {
       "output_type": "stream",
       "stream": "stdout",
       "text": [
        " <=> 2  -  True  \n",
        "5 <=> 5  -  True  \n",
        "0"
       ]
      },
      {
       "output_type": "stream",
       "stream": "stdout",
       "text": [
        " <=> 0  -  True  \n",
        "1 <=> 1  -  True  \n",
        "1"
       ]
      },
      {
       "output_type": "stream",
       "stream": "stdout",
       "text": [
        " <=> 1  -  True  \n",
        "1 <=> 1  -  True  \n",
        "0"
       ]
      },
      {
       "output_type": "stream",
       "stream": "stdout",
       "text": [
        " <=> 0  -  True  \n",
        "9 <=> 9  -  True  \n",
        "0"
       ]
      },
      {
       "output_type": "stream",
       "stream": "stdout",
       "text": [
        " <=> 0  -  True  \n",
        "3 <=> 8  -  False  \n",
        "1"
       ]
      },
      {
       "output_type": "stream",
       "stream": "stdout",
       "text": [
        " <=> 1  -  True  \n",
        "6 <=> 6  -  True  \n",
        "4"
       ]
      },
      {
       "output_type": "stream",
       "stream": "stdout",
       "text": [
        " <=> 4  -  True  \n",
        "2 <=> 2  -  True  \n",
        "3"
       ]
      },
      {
       "output_type": "stream",
       "stream": "stdout",
       "text": [
        " <=> 3  -  True  \n",
        "6 <=> 6  -  True  \n",
        "1"
       ]
      },
      {
       "output_type": "stream",
       "stream": "stdout",
       "text": [
        " <=> 1  -  True  \n",
        "1 <=> 1  -  True  \n",
        "1"
       ]
      },
      {
       "output_type": "stream",
       "stream": "stdout",
       "text": [
        " <=> 1  -  True  \n",
        "3 <=> 3  -  True  \n",
        "9"
       ]
      },
      {
       "output_type": "stream",
       "stream": "stdout",
       "text": [
        " <=> 9  -  True  \n",
        "5 <=> 5  -  True  \n",
        "2"
       ]
      },
      {
       "output_type": "stream",
       "stream": "stdout",
       "text": [
        " <=> 2  -  True  \n",
        "9 <=> 9  -  True  \n",
        "4"
       ]
      },
      {
       "output_type": "stream",
       "stream": "stdout",
       "text": [
        " <=> 4  -  True  \n",
        "5 <=> 5  -  True  \n",
        "9"
       ]
      },
      {
       "output_type": "stream",
       "stream": "stdout",
       "text": [
        " <=> 9  -  True  \n",
        "3 <=> 3  -  True  \n",
        "9"
       ]
      },
      {
       "output_type": "stream",
       "stream": "stdout",
       "text": [
        " <=> 9  -  True  \n",
        "0 <=> 0  -  True  \n",
        "3"
       ]
      },
      {
       "output_type": "stream",
       "stream": "stdout",
       "text": [
        " <=> 3  -  True  \n",
        "6 <=> 6  -  True  \n",
        "5"
       ]
      },
      {
       "output_type": "stream",
       "stream": "stdout",
       "text": [
        " <=> 5  -  True  \n",
        "5 <=> 5  -  True  \n",
        "7"
       ]
      },
      {
       "output_type": "stream",
       "stream": "stdout",
       "text": [
        " <=> 7  -  True  \n",
        "2 <=> 2  -  True  \n",
        "2"
       ]
      },
      {
       "output_type": "stream",
       "stream": "stdout",
       "text": [
        " <=> 2  -  True  \n",
        "7 <=> 7  -  True  \n",
        "1"
       ]
      },
      {
       "output_type": "stream",
       "stream": "stdout",
       "text": [
        " <=> 1  -  True  \n",
        "2 <=> 2  -  True  \n",
        "8"
       ]
      },
      {
       "output_type": "stream",
       "stream": "stdout",
       "text": [
        " <=> 8  -  True  \n",
        "4 <=> 4  -  True  \n",
        "1"
       ]
      },
      {
       "output_type": "stream",
       "stream": "stdout",
       "text": [
        " <=> 1  -  True  \n",
        "7 <=> 7  -  True  \n",
        "3"
       ]
      },
      {
       "output_type": "stream",
       "stream": "stdout",
       "text": [
        " <=> 3  -  True  \n",
        "3 <=> 3  -  True  \n",
        "8"
       ]
      },
      {
       "output_type": "stream",
       "stream": "stdout",
       "text": [
        " <=> 8  -  True  \n",
        "8 <=> 8  -  True  \n",
        "7"
       ]
      },
      {
       "output_type": "stream",
       "stream": "stdout",
       "text": [
        " <=> 7  -  True  \n",
        "9 <=> 9  -  True  \n",
        "2"
       ]
      },
      {
       "output_type": "stream",
       "stream": "stdout",
       "text": [
        " <=> 2  -  True  \n",
        "2 <=> 2  -  True  \n",
        "4"
       ]
      },
      {
       "output_type": "stream",
       "stream": "stdout",
       "text": [
        " <=> 4  -  True  \n",
        "1 <=> 1  -  True  \n",
        "5"
       ]
      },
      {
       "output_type": "stream",
       "stream": "stdout",
       "text": [
        " <=> 5  -  True  \n",
        "9 <=> 9  -  True  \n",
        "8"
       ]
      },
      {
       "output_type": "stream",
       "stream": "stdout",
       "text": [
        " <=> 8  -  True  \n",
        "7 <=> 7  -  True  \n",
        "2"
       ]
      },
      {
       "output_type": "stream",
       "stream": "stdout",
       "text": [
        " <=> 2  -  True  \n",
        "3 <=> 3  -  True  \n",
        "0"
       ]
      },
      {
       "output_type": "stream",
       "stream": "stdout",
       "text": [
        " <=> 0  -  True  \n",
        "4 <=> 6  -  False  \n",
        "4"
       ]
      },
      {
       "output_type": "stream",
       "stream": "stdout",
       "text": [
        " <=> 4  -  True  \n",
        "2 <=> 2  -  True  \n",
        "4"
       ]
      },
      {
       "output_type": "stream",
       "stream": "stdout",
       "text": [
        " <=> 4  -  True  \n",
        "1 <=> 1  -  True  \n",
        "9"
       ]
      },
      {
       "output_type": "stream",
       "stream": "stdout",
       "text": [
        " <=> 9  -  True  \n",
        "5 <=> 5  -  True  \n",
        "7"
       ]
      },
      {
       "output_type": "stream",
       "stream": "stdout",
       "text": [
        " <=> 7  -  True  \n",
        "7 <=> 7  -  True  \n",
        "2"
       ]
      },
      {
       "output_type": "stream",
       "stream": "stdout",
       "text": [
        " <=> 2  -  True  \n",
        "8 <=> 1  -  False  \n",
        "2"
       ]
      },
      {
       "output_type": "stream",
       "stream": "stdout",
       "text": [
        " <=> 2  -  True  \n",
        "6 <=> 6  -  True  \n",
        "8"
       ]
      },
      {
       "output_type": "stream",
       "stream": "stdout",
       "text": [
        " <=> 8  -  True  \n",
        "5 <=> 5  -  True  \n",
        "7"
       ]
      },
      {
       "output_type": "stream",
       "stream": "stdout",
       "text": [
        " <=> 7  -  True  \n",
        "7 <=> 7  -  True  \n",
        "9"
       ]
      },
      {
       "output_type": "stream",
       "stream": "stdout",
       "text": [
        " <=> 9  -  True  \n",
        "1 <=> 1  -  True  \n",
        "8"
       ]
      },
      {
       "output_type": "stream",
       "stream": "stdout",
       "text": [
        " <=> 8  -  True  \n",
        "1 <=> 1  -  True  \n",
        "8"
       ]
      },
      {
       "output_type": "stream",
       "stream": "stdout",
       "text": [
        " <=> 8  -  True  \n",
        "0 <=> 0  -  True  \n",
        "3"
       ]
      },
      {
       "output_type": "stream",
       "stream": "stdout",
       "text": [
        " <=> 3  -  True  \n",
        "0 <=> 0  -  True  \n",
        "1"
       ]
      },
      {
       "output_type": "stream",
       "stream": "stdout",
       "text": [
        " <=> 1  -  True  \n",
        "9 <=> 9  -  True  \n",
        "9"
       ]
      },
      {
       "output_type": "stream",
       "stream": "stdout",
       "text": [
        " <=> 9  -  True  \n",
        "4 <=> 4  -  True  \n",
        "1"
       ]
      },
      {
       "output_type": "stream",
       "stream": "stdout",
       "text": [
        " <=> 1  -  True  \n",
        "8 <=> 8  -  True  \n",
        "2"
       ]
      },
      {
       "output_type": "stream",
       "stream": "stdout",
       "text": [
        " <=> 2  -  True  \n",
        "1 <=> 1  -  True  \n",
        "2"
       ]
      },
      {
       "output_type": "stream",
       "stream": "stdout",
       "text": [
        " <=> 2  -  True  \n",
        "9 <=> 9  -  True  \n",
        "7"
       ]
      },
      {
       "output_type": "stream",
       "stream": "stdout",
       "text": [
        " <=> 7  -  True  \n",
        "5 <=> 5  -  True  \n",
        "9"
       ]
      },
      {
       "output_type": "stream",
       "stream": "stdout",
       "text": [
        " <=> 9  -  True  \n",
        "2 <=> 2  -  True  \n",
        "6"
       ]
      },
      {
       "output_type": "stream",
       "stream": "stdout",
       "text": [
        " <=> 6  -  True  \n",
        "4 <=> 4  -  True  \n",
        "1"
       ]
      },
      {
       "output_type": "stream",
       "stream": "stdout",
       "text": [
        " <=> 1  -  True  \n",
        "5 <=> 5  -  True  \n",
        "8"
       ]
      },
      {
       "output_type": "stream",
       "stream": "stdout",
       "text": [
        " <=> 8  -  True  \n",
        "2 <=> 2  -  True  \n",
        "9"
       ]
      },
      {
       "output_type": "stream",
       "stream": "stdout",
       "text": [
        " <=> 9  -  True  \n",
        "2 <=> 2  -  True  \n",
        "0"
       ]
      },
      {
       "output_type": "stream",
       "stream": "stdout",
       "text": [
        " <=> 0  -  True  \n",
        "4 <=> 4  -  True  \n",
        "0"
       ]
      },
      {
       "output_type": "stream",
       "stream": "stdout",
       "text": [
        " <=> 0  -  True  \n",
        "0 <=> 0  -  True  \n",
        "2"
       ]
      },
      {
       "output_type": "stream",
       "stream": "stdout",
       "text": [
        " <=> 2  -  True  \n",
        "8 <=> 8  -  True  \n",
        "4"
       ]
      },
      {
       "output_type": "stream",
       "stream": "stdout",
       "text": [
        " <=> 4  -  True  \n",
        "7 <=> 7  -  True  \n",
        "1"
       ]
      },
      {
       "output_type": "stream",
       "stream": "stdout",
       "text": [
        " <=> 1  -  True  \n",
        "2 <=> 2  -  True  \n",
        "4"
       ]
      },
      {
       "output_type": "stream",
       "stream": "stdout",
       "text": [
        " <=> 4  -  True  \n",
        "0 <=> 0  -  True  \n",
        "2"
       ]
      },
      {
       "output_type": "stream",
       "stream": "stdout",
       "text": [
        " <=> 2  -  True  \n",
        "7 <=> 7  -  True  \n",
        "4"
       ]
      },
      {
       "output_type": "stream",
       "stream": "stdout",
       "text": [
        " <=> 4  -  True  \n",
        "3 <=> 3  -  True  \n",
        "3"
       ]
      },
      {
       "output_type": "stream",
       "stream": "stdout",
       "text": [
        " <=> 3  -  True  \n",
        "0 <=> 0  -  True  \n",
        "0"
       ]
      },
      {
       "output_type": "stream",
       "stream": "stdout",
       "text": [
        " <=> 0  -  True  \n",
        "3 <=> 3  -  True  \n",
        "1"
       ]
      },
      {
       "output_type": "stream",
       "stream": "stdout",
       "text": [
        " <=> 1  -  True  \n",
        "9 <=> 9  -  True  \n",
        "6"
       ]
      },
      {
       "output_type": "stream",
       "stream": "stdout",
       "text": [
        " <=> 6  -  True  \n",
        "5 <=> 5  -  True  \n",
        "2"
       ]
      },
      {
       "output_type": "stream",
       "stream": "stdout",
       "text": [
        " <=> 2  -  True  \n",
        "5 <=> 5  -  True  \n",
        "9"
       ]
      },
      {
       "output_type": "stream",
       "stream": "stdout",
       "text": [
        " <=> 9  -  True  \n",
        "2 <=> 7  -  False  \n",
        "9"
       ]
      },
      {
       "output_type": "stream",
       "stream": "stdout",
       "text": [
        " <=> 9  -  True  \n",
        "3 <=> 3  -  True  \n",
        "0"
       ]
      },
      {
       "output_type": "stream",
       "stream": "stdout",
       "text": [
        " <=> 0  -  True  \n",
        "4 <=> 4  -  True  \n",
        "2"
       ]
      },
      {
       "output_type": "stream",
       "stream": "stdout",
       "text": [
        " <=> 2  -  True  \n",
        "0 <=> 0  -  True  \n",
        "7"
       ]
      },
      {
       "output_type": "stream",
       "stream": "stdout",
       "text": [
        " <=> 7  -  True  \n",
        "1 <=> 1  -  True  \n",
        "1"
       ]
      },
      {
       "output_type": "stream",
       "stream": "stdout",
       "text": [
        " <=> 1  -  True  \n",
        "2 <=> 2  -  True  \n",
        "1"
       ]
      },
      {
       "output_type": "stream",
       "stream": "stdout",
       "text": [
        " <=> 1  -  True  \n",
        "5 <=> 5  -  True  \n",
        "3"
       ]
      },
      {
       "output_type": "stream",
       "stream": "stdout",
       "text": [
        " <=> 3  -  True  \n",
        "3 <=> 3  -  True  \n",
        "9"
       ]
      },
      {
       "output_type": "stream",
       "stream": "stdout",
       "text": [
        " <=> 9  -  True  \n",
        "7 <=> 7  -  True  \n",
        "8"
       ]
      },
      {
       "output_type": "stream",
       "stream": "stdout",
       "text": [
        " <=> 8  -  True  \n",
        "6 <=> 6  -  True  \n",
        "5"
       ]
      },
      {
       "output_type": "stream",
       "stream": "stdout",
       "text": [
        " <=> 3  -  False  \n",
        "6 <=> 6  -  True  \n",
        "1"
       ]
      },
      {
       "output_type": "stream",
       "stream": "stdout",
       "text": [
        " <=> 1  -  True  \n",
        "3 <=> 3  -  True  \n",
        "8"
       ]
      },
      {
       "output_type": "stream",
       "stream": "stdout",
       "text": [
        " <=> 8  -  True  \n",
        "1 <=> 1  -  True  \n",
        "0"
       ]
      },
      {
       "output_type": "stream",
       "stream": "stdout",
       "text": [
        " <=> 0  -  True  \n",
        "5 <=> 5  -  True  \n",
        "1"
       ]
      },
      {
       "output_type": "stream",
       "stream": "stdout",
       "text": [
        " <=> 1  -  True  \n",
        "3 <=> 3  -  True  \n",
        "1"
       ]
      },
      {
       "output_type": "stream",
       "stream": "stdout",
       "text": [
        " <=> 1  -  True  \n",
        "5 <=> 5  -  True  \n",
        "5"
       ]
      },
      {
       "output_type": "stream",
       "stream": "stdout",
       "text": [
        " <=> 5  -  True  \n",
        "6 <=> 6  -  True  \n",
        "1"
       ]
      },
      {
       "output_type": "stream",
       "stream": "stdout",
       "text": [
        " <=> 1  -  True  \n",
        "8 <=> 8  -  True  \n",
        "5"
       ]
      },
      {
       "output_type": "stream",
       "stream": "stdout",
       "text": [
        " <=> 5  -  True  \n",
        "1 <=> 1  -  True  \n",
        "7"
       ]
      },
      {
       "output_type": "stream",
       "stream": "stdout",
       "text": [
        " <=> 7  -  True  \n",
        "9 <=> 9  -  True  \n",
        "4"
       ]
      },
      {
       "output_type": "stream",
       "stream": "stdout",
       "text": [
        " <=> 4  -  True  \n",
        "6 <=> 6  -  True  \n",
        "2"
       ]
      },
      {
       "output_type": "stream",
       "stream": "stdout",
       "text": [
        " <=> 2  -  True  \n",
        "2 <=> 2  -  True  \n",
        "5"
       ]
      },
      {
       "output_type": "stream",
       "stream": "stdout",
       "text": [
        " <=> 5  -  True  \n",
        "0 <=> 0  -  True  \n",
        "6"
       ]
      },
      {
       "output_type": "stream",
       "stream": "stdout",
       "text": [
        " <=> 6  -  True  \n",
        "5 <=> 5  -  True  \n",
        "6"
       ]
      },
      {
       "output_type": "stream",
       "stream": "stdout",
       "text": [
        " <=> 6  -  True  \n",
        "3 <=> 3  -  True  \n",
        "7"
       ]
      },
      {
       "output_type": "stream",
       "stream": "stdout",
       "text": [
        " <=> 7  -  True  \n",
        "2 <=> 2  -  True  \n",
        "0"
       ]
      },
      {
       "output_type": "stream",
       "stream": "stdout",
       "text": [
        " <=> 0  -  True  \n",
        "8 <=> 8  -  True  \n",
        "8"
       ]
      },
      {
       "output_type": "stream",
       "stream": "stdout",
       "text": [
        " <=> 8  -  True  \n",
        "5 <=> 5  -  True  \n",
        "4"
       ]
      },
      {
       "output_type": "stream",
       "stream": "stdout",
       "text": [
        " <=> 4  -  True  \n",
        "1 <=> 1  -  True  \n",
        "1"
       ]
      },
      {
       "output_type": "stream",
       "stream": "stdout",
       "text": [
        " <=> 1  -  True  \n",
        "4 <=> 4  -  True  \n",
        "0"
       ]
      },
      {
       "output_type": "stream",
       "stream": "stdout",
       "text": [
        " <=> 0  -  True  \n",
        "3 <=> 7  -  False  \n",
        "3"
       ]
      },
      {
       "output_type": "stream",
       "stream": "stdout",
       "text": [
        " <=> 3  -  True  \n",
        "7 <=> 7  -  True  \n",
        "6"
       ]
      },
      {
       "output_type": "stream",
       "stream": "stdout",
       "text": [
        " <=> 6  -  True  \n",
        "1 <=> 1  -  True  \n",
        "6"
       ]
      },
      {
       "output_type": "stream",
       "stream": "stdout",
       "text": [
        " <=> 6  -  True  \n",
        "2 <=> 2  -  True  \n",
        "1"
       ]
      },
      {
       "output_type": "stream",
       "stream": "stdout",
       "text": [
        " <=> 1  -  True  \n",
        "9 <=> 9  -  True  \n",
        "2"
       ]
      },
      {
       "output_type": "stream",
       "stream": "stdout",
       "text": [
        " <=> 2  -  True  \n",
        "8 <=> 8  -  True  \n",
        "6"
       ]
      },
      {
       "output_type": "stream",
       "stream": "stdout",
       "text": [
        " <=> 6  -  True  \n",
        "1 <=> 1  -  True  \n",
        "9"
       ]
      },
      {
       "output_type": "stream",
       "stream": "stdout",
       "text": [
        " <=> 9  -  True  \n",
        "5 <=> 5  -  True  \n",
        "2"
       ]
      },
      {
       "output_type": "stream",
       "stream": "stdout",
       "text": [
        " <=> 2  -  True  \n",
        "5 <=> 5  -  True  \n",
        "4"
       ]
      },
      {
       "output_type": "stream",
       "stream": "stdout",
       "text": [
        " <=> 4  -  True  \n",
        "4 <=> 4  -  True  \n",
        "2"
       ]
      },
      {
       "output_type": "stream",
       "stream": "stdout",
       "text": [
        " <=> 2  -  True  \n",
        "8 <=> 8  -  True  \n",
        "3"
       ]
      },
      {
       "output_type": "stream",
       "stream": "stdout",
       "text": [
        " <=> 3  -  True  \n",
        "8 <=> 8  -  True  \n",
        "2"
       ]
      },
      {
       "output_type": "stream",
       "stream": "stdout",
       "text": [
        " <=> 2  -  True  \n",
        "4 <=> 4  -  True  \n",
        "5"
       ]
      },
      {
       "output_type": "stream",
       "stream": "stdout",
       "text": [
        " <=> 5  -  True  \n",
        "0 <=> 0  -  True  \n",
        "3"
       ]
      },
      {
       "output_type": "stream",
       "stream": "stdout",
       "text": [
        " <=> 3  -  True  \n",
        "1 <=> 1  -  True  \n",
        "7"
       ]
      },
      {
       "output_type": "stream",
       "stream": "stdout",
       "text": [
        " <=> 7  -  True  \n",
        "7 <=> 7  -  True  \n",
        "5"
       ]
      },
      {
       "output_type": "stream",
       "stream": "stdout",
       "text": [
        " <=> 5  -  True  \n",
        "7 <=> 7  -  True  \n",
        "9"
       ]
      },
      {
       "output_type": "stream",
       "stream": "stdout",
       "text": [
        " <=> 9  -  True  \n",
        "7 <=> 7  -  True  \n",
        "1"
       ]
      },
      {
       "output_type": "stream",
       "stream": "stdout",
       "text": [
        " <=> 1  -  True  \n",
        "9 <=> 9  -  True  \n",
        "2"
       ]
      },
      {
       "output_type": "stream",
       "stream": "stdout",
       "text": [
        " <=> 2  -  True  \n",
        "1 <=> 1  -  True  \n",
        "4"
       ]
      },
      {
       "output_type": "stream",
       "stream": "stdout",
       "text": [
        " <=> 4  -  True  \n",
        "2 <=> 2  -  True  \n",
        "9"
       ]
      },
      {
       "output_type": "stream",
       "stream": "stdout",
       "text": [
        " <=> 9  -  True  \n",
        "2 <=> 2  -  True  \n",
        "0"
       ]
      },
      {
       "output_type": "stream",
       "stream": "stdout",
       "text": [
        " <=> 0  -  True  \n",
        "4 <=> 4  -  True  \n",
        "9"
       ]
      },
      {
       "output_type": "stream",
       "stream": "stdout",
       "text": [
        " <=> 9  -  True  \n",
        "1 <=> 1  -  True  \n",
        "4"
       ]
      },
      {
       "output_type": "stream",
       "stream": "stdout",
       "text": [
        " <=> 4  -  True  \n",
        "8 <=> 8  -  True  \n",
        "1"
       ]
      },
      {
       "output_type": "stream",
       "stream": "stdout",
       "text": [
        " <=> 1  -  True  \n",
        "8 <=> 8  -  True  \n",
        "4"
       ]
      },
      {
       "output_type": "stream",
       "stream": "stdout",
       "text": [
        " <=> 4  -  True  \n",
        "5 <=> 5  -  True  \n",
        "9"
       ]
      },
      {
       "output_type": "stream",
       "stream": "stdout",
       "text": [
        " <=> 9  -  True  \n",
        "8 <=> 8  -  True  \n",
        "8"
       ]
      },
      {
       "output_type": "stream",
       "stream": "stdout",
       "text": [
        " <=> 8  -  True  \n",
        "3 <=> 3  -  True  \n",
        "7"
       ]
      },
      {
       "output_type": "stream",
       "stream": "stdout",
       "text": [
        " <=> 7  -  True  \n",
        "6 <=> 6  -  True  \n",
        "0"
       ]
      },
      {
       "output_type": "stream",
       "stream": "stdout",
       "text": [
        " <=> 0  -  True  \n",
        "0 <=> 0  -  True  \n",
        "3"
       ]
      },
      {
       "output_type": "stream",
       "stream": "stdout",
       "text": [
        " <=> 3  -  True  \n",
        "0 <=> 0  -  True  \n",
        "2"
       ]
      },
      {
       "output_type": "stream",
       "stream": "stdout",
       "text": [
        " <=> 2  -  True  \n",
        "6 <=> 0  -  False  \n",
        "6"
       ]
      },
      {
       "output_type": "stream",
       "stream": "stdout",
       "text": [
        " <=> 6  -  True  \n",
        "4 <=> 4  -  True  \n",
        "9"
       ]
      },
      {
       "output_type": "stream",
       "stream": "stdout",
       "text": [
        " <=> 9  -  True  \n",
        "3 <=> 3  -  True  \n",
        "3"
       ]
      },
      {
       "output_type": "stream",
       "stream": "stdout",
       "text": [
        " <=> 3  -  True  \n",
        "3 <=> 3  -  True  \n",
        "2"
       ]
      },
      {
       "output_type": "stream",
       "stream": "stdout",
       "text": [
        " <=> 2  -  True  \n",
        "3 <=> 3  -  True  \n",
        "9"
       ]
      },
      {
       "output_type": "stream",
       "stream": "stdout",
       "text": [
        " <=> 9  -  True  \n",
        "1 <=> 1  -  True  \n",
        "2"
       ]
      },
      {
       "output_type": "stream",
       "stream": "stdout",
       "text": [
        " <=> 2  -  True  \n",
        "6 <=> 6  -  True  \n",
        "8"
       ]
      },
      {
       "output_type": "stream",
       "stream": "stdout",
       "text": [
        " <=> 8  -  True  \n",
        "0 <=> 0  -  True  \n",
        "5"
       ]
      },
      {
       "output_type": "stream",
       "stream": "stdout",
       "text": [
        " <=> 5  -  True  \n",
        "6 <=> 6  -  True  \n",
        "6"
       ]
      },
      {
       "output_type": "stream",
       "stream": "stdout",
       "text": [
        " <=> 6  -  True  \n",
        "6 <=> 6  -  True  \n",
        "3"
       ]
      },
      {
       "output_type": "stream",
       "stream": "stdout",
       "text": [
        " <=> 3  -  True  \n",
        "8 <=> 8  -  True  \n",
        "8"
       ]
      },
      {
       "output_type": "stream",
       "stream": "stdout",
       "text": [
        " <=> 8  -  True  \n",
        "2 <=> 2  -  True  \n",
        "7"
       ]
      },
      {
       "output_type": "stream",
       "stream": "stdout",
       "text": [
        " <=> 7  -  True  \n",
        "5 <=> 5  -  True  \n",
        "8"
       ]
      },
      {
       "output_type": "stream",
       "stream": "stdout",
       "text": [
        " <=> 8  -  True  \n",
        "9 <=> 9  -  True  \n",
        "6"
       ]
      },
      {
       "output_type": "stream",
       "stream": "stdout",
       "text": [
        " <=> 6  -  True  \n",
        "1 <=> 1  -  True  \n",
        "8"
       ]
      },
      {
       "output_type": "stream",
       "stream": "stdout",
       "text": [
        " <=> 8  -  True  \n",
        "4 <=> 4  -  True  \n",
        "1"
       ]
      },
      {
       "output_type": "stream",
       "stream": "stdout",
       "text": [
        " <=> 1  -  True  \n",
        "2 <=> 2  -  True  \n",
        "5"
       ]
      },
      {
       "output_type": "stream",
       "stream": "stdout",
       "text": [
        " <=> 5  -  True  \n",
        "9 <=> 9  -  True  \n",
        "1"
       ]
      },
      {
       "output_type": "stream",
       "stream": "stdout",
       "text": [
        " <=> 1  -  True  \n",
        "9 <=> 9  -  True  \n",
        "7"
       ]
      },
      {
       "output_type": "stream",
       "stream": "stdout",
       "text": [
        " <=> 7  -  True  \n",
        "5 <=> 5  -  True  \n",
        "4"
       ]
      },
      {
       "output_type": "stream",
       "stream": "stdout",
       "text": [
        " <=> 4  -  True  \n",
        "0 <=> 0  -  True  \n",
        "8"
       ]
      },
      {
       "output_type": "stream",
       "stream": "stdout",
       "text": [
        " <=> 8  -  True  \n",
        "9 <=> 9  -  True  \n",
        "9"
       ]
      },
      {
       "output_type": "stream",
       "stream": "stdout",
       "text": [
        " <=> 9  -  True  \n",
        "1 <=> 1  -  True  \n",
        "0"
       ]
      },
      {
       "output_type": "stream",
       "stream": "stdout",
       "text": [
        " <=> 0  -  True  \n",
        "5 <=> 5  -  True  \n",
        "2"
       ]
      },
      {
       "output_type": "stream",
       "stream": "stdout",
       "text": [
        " <=> 2  -  True  \n",
        "3 <=> 3  -  True  \n",
        "7"
       ]
      },
      {
       "output_type": "stream",
       "stream": "stdout",
       "text": [
        " <=> 7  -  True  \n",
        "8 <=> 2  -  False  \n",
        "9"
       ]
      },
      {
       "output_type": "stream",
       "stream": "stdout",
       "text": [
        " <=> 9  -  True  \n",
        "4 <=> 4  -  True  \n",
        "0"
       ]
      },
      {
       "output_type": "stream",
       "stream": "stdout",
       "text": [
        " <=> 0  -  True  \n",
        "6 <=> 6  -  True  \n",
        "3"
       ]
      },
      {
       "output_type": "stream",
       "stream": "stdout",
       "text": [
        " <=> 3  -  True  \n",
        "9 <=> 9  -  True  \n",
        "5"
       ]
      },
      {
       "output_type": "stream",
       "stream": "stdout",
       "text": [
        " <=> 5  -  True  \n",
        "2 <=> 2  -  True  \n",
        "1"
       ]
      },
      {
       "output_type": "stream",
       "stream": "stdout",
       "text": [
        " <=> 1  -  True  \n",
        "3 <=> 3  -  True  \n",
        "1"
       ]
      },
      {
       "output_type": "stream",
       "stream": "stdout",
       "text": [
        " <=> 1  -  True  \n",
        "3 <=> 3  -  True  \n",
        "6"
       ]
      },
      {
       "output_type": "stream",
       "stream": "stdout",
       "text": [
        " <=> 6  -  True  \n",
        "5 <=> 5  -  True  \n",
        "7"
       ]
      },
      {
       "output_type": "stream",
       "stream": "stdout",
       "text": [
        " <=> 7  -  True  \n",
        "4 <=> 4  -  True  \n",
        "2"
       ]
      },
      {
       "output_type": "stream",
       "stream": "stdout",
       "text": [
        " <=> 2  -  True  \n",
        "2 <=> 2  -  True  \n",
        "6"
       ]
      },
      {
       "output_type": "stream",
       "stream": "stdout",
       "text": [
        " <=> 6  -  True  \n",
        "3 <=> 3  -  True  \n",
        "2"
       ]
      },
      {
       "output_type": "stream",
       "stream": "stdout",
       "text": [
        " <=> 2  -  True  \n",
        "6 <=> 6  -  True  \n",
        "5"
       ]
      },
      {
       "output_type": "stream",
       "stream": "stdout",
       "text": [
        " <=> 5  -  True  \n",
        "4 <=> 4  -  True  \n",
        "8"
       ]
      },
      {
       "output_type": "stream",
       "stream": "stdout",
       "text": [
        " <=> 8  -  True  \n",
        "9 <=> 9  -  True  \n",
        "7"
       ]
      },
      {
       "output_type": "stream",
       "stream": "stdout",
       "text": [
        " <=> 7  -  True  \n",
        "1 <=> 1  -  True  \n",
        "3"
       ]
      },
      {
       "output_type": "stream",
       "stream": "stdout",
       "text": [
        " <=> 3  -  True  \n",
        "0 <=> 0  -  True  \n",
        "3"
       ]
      },
      {
       "output_type": "stream",
       "stream": "stdout",
       "text": [
        " <=> 3  -  True  \n",
        "8 <=> 8  -  True  \n",
        "3"
       ]
      },
      {
       "output_type": "stream",
       "stream": "stdout",
       "text": [
        " <=> 3  -  True  \n",
        "1 <=> 1  -  True  \n",
        "9"
       ]
      },
      {
       "output_type": "stream",
       "stream": "stdout",
       "text": [
        " <=> 9  -  True  \n",
        "3 <=> 3  -  True  \n",
        "4"
       ]
      },
      {
       "output_type": "stream",
       "stream": "stdout",
       "text": [
        " <=> 4  -  True  \n",
        "4 <=> 4  -  True  \n",
        "6"
       ]
      },
      {
       "output_type": "stream",
       "stream": "stdout",
       "text": [
        " <=> 6  -  True  \n",
        "4 <=> 4  -  True  \n",
        "2"
       ]
      },
      {
       "output_type": "stream",
       "stream": "stdout",
       "text": [
        " <=> 2  -  True  \n",
        "1 <=> 1  -  True  \n",
        "8"
       ]
      },
      {
       "output_type": "stream",
       "stream": "stdout",
       "text": [
        " <=> 8  -  True  \n",
        "2 <=> 2  -  True  \n",
        "5"
       ]
      },
      {
       "output_type": "stream",
       "stream": "stdout",
       "text": [
        " <=> 5  -  True  \n",
        "4 <=> 4  -  True  \n",
        "8"
       ]
      },
      {
       "output_type": "stream",
       "stream": "stdout",
       "text": [
        " <=> 8  -  True  \n",
        "8 <=> 8  -  True  \n",
        "4"
       ]
      },
      {
       "output_type": "stream",
       "stream": "stdout",
       "text": [
        " <=> 4  -  True  \n",
        "0 <=> 0  -  True  \n",
        "0"
       ]
      },
      {
       "output_type": "stream",
       "stream": "stdout",
       "text": [
        " <=> 0  -  True  \n",
        "2 <=> 2  -  True  \n",
        "3"
       ]
      },
      {
       "output_type": "stream",
       "stream": "stdout",
       "text": [
        " <=> 3  -  True  \n",
        "2 <=> 2  -  True  \n",
        "7"
       ]
      },
      {
       "output_type": "stream",
       "stream": "stdout",
       "text": [
        " <=> 7  -  True  \n",
        "7 <=> 7  -  True  \n",
        "0"
       ]
      },
      {
       "output_type": "stream",
       "stream": "stdout",
       "text": [
        " <=> 0  -  True  \n",
        "8 <=> 8  -  True  \n",
        "7"
       ]
      },
      {
       "output_type": "stream",
       "stream": "stdout",
       "text": [
        " <=> 7  -  True  \n",
        "4 <=> 4  -  True  \n",
        "4"
       ]
      },
      {
       "output_type": "stream",
       "stream": "stdout",
       "text": [
        " <=> 4  -  True  \n",
        "7 <=> 7  -  True  \n",
        "9"
       ]
      },
      {
       "output_type": "stream",
       "stream": "stdout",
       "text": [
        " <=> 9  -  True  \n",
        "6 <=> 6  -  True  \n",
        "9"
       ]
      },
      {
       "output_type": "stream",
       "stream": "stdout",
       "text": [
        " <=> 9  -  True  \n",
        "0 <=> 0  -  True  \n",
        "9"
       ]
      },
      {
       "output_type": "stream",
       "stream": "stdout",
       "text": [
        " <=> 9  -  True  \n",
        "8 <=> 8  -  True  \n",
        "0"
       ]
      },
      {
       "output_type": "stream",
       "stream": "stdout",
       "text": [
        " <=> 0  -  True  \n",
        "4 <=> 4  -  True  \n",
        "6"
       ]
      },
      {
       "output_type": "stream",
       "stream": "stdout",
       "text": [
        " <=> 6  -  True  \n",
        "0 <=> 0  -  True  \n",
        "6"
       ]
      },
      {
       "output_type": "stream",
       "stream": "stdout",
       "text": [
        " <=> 6  -  True  \n",
        "3 <=> 3  -  True  \n",
        "5"
       ]
      },
      {
       "output_type": "stream",
       "stream": "stdout",
       "text": [
        " <=> 5  -  True  \n",
        "4 <=> 4  -  True  \n",
        "8"
       ]
      },
      {
       "output_type": "stream",
       "stream": "stdout",
       "text": [
        " <=> 8  -  True  \n",
        "3 <=> 3  -  True  \n",
        "3"
       ]
      },
      {
       "output_type": "stream",
       "stream": "stdout",
       "text": [
        " <=> 3  -  True  \n",
        "9 <=> 9  -  True  \n",
        "3"
       ]
      },
      {
       "output_type": "stream",
       "stream": "stdout",
       "text": [
        " <=> 3  -  True  \n",
        "3 <=> 3  -  True  \n",
        "3"
       ]
      },
      {
       "output_type": "stream",
       "stream": "stdout",
       "text": [
        " <=> 3  -  True  \n",
        "7 <=> 7  -  True  \n",
        "8"
       ]
      },
      {
       "output_type": "stream",
       "stream": "stdout",
       "text": [
        " <=> 8  -  True  \n",
        "0 <=> 0  -  True  \n",
        "8"
       ]
      },
      {
       "output_type": "stream",
       "stream": "stdout",
       "text": [
        " <=> 2  -  False  \n",
        "2 <=> 2  -  True  \n",
        "1"
       ]
      },
      {
       "output_type": "stream",
       "stream": "stdout",
       "text": [
        " <=> 1  -  True  \n",
        "7 <=> 7  -  True  \n",
        "0"
       ]
      },
      {
       "output_type": "stream",
       "stream": "stdout",
       "text": [
        " <=> 0  -  True  \n",
        "6 <=> 6  -  True  \n",
        "5"
       ]
      },
      {
       "output_type": "stream",
       "stream": "stdout",
       "text": [
        " <=> 5  -  True  \n",
        "4 <=> 4  -  True  \n",
        "3"
       ]
      },
      {
       "output_type": "stream",
       "stream": "stdout",
       "text": [
        " <=> 3  -  True  \n",
        "8 <=> 8  -  True  \n",
        "0"
       ]
      },
      {
       "output_type": "stream",
       "stream": "stdout",
       "text": [
        " <=> 0  -  True  \n",
        "9 <=> 9  -  True  \n",
        "6"
       ]
      },
      {
       "output_type": "stream",
       "stream": "stdout",
       "text": [
        " <=> 6  -  True  \n",
        "3 <=> 3  -  True  \n",
        "8"
       ]
      },
      {
       "output_type": "stream",
       "stream": "stdout",
       "text": [
        " <=> 8  -  True  \n",
        "0 <=> 0  -  True  \n",
        "9"
       ]
      },
      {
       "output_type": "stream",
       "stream": "stdout",
       "text": [
        " <=> 9  -  True  \n",
        "9 <=> 9  -  True  \n",
        "6"
       ]
      },
      {
       "output_type": "stream",
       "stream": "stdout",
       "text": [
        " <=> 6  -  True  \n",
        "8 <=> 8  -  True  \n",
        "6"
       ]
      },
      {
       "output_type": "stream",
       "stream": "stdout",
       "text": [
        " <=> 6  -  True  \n",
        "8 <=> 8  -  True  \n",
        "5"
       ]
      },
      {
       "output_type": "stream",
       "stream": "stdout",
       "text": [
        " <=> 5  -  True  \n",
        "7 <=> 7  -  True  \n",
        "8"
       ]
      },
      {
       "output_type": "stream",
       "stream": "stdout",
       "text": [
        " <=> 8  -  True  \n",
        "6 <=> 6  -  True  \n",
        "0"
       ]
      },
      {
       "output_type": "stream",
       "stream": "stdout",
       "text": [
        " <=> 0  -  True  \n",
        "2 <=> 2  -  True  \n",
        "4"
       ]
      },
      {
       "output_type": "stream",
       "stream": "stdout",
       "text": [
        " <=> 4  -  True  \n",
        "0 <=> 0  -  True  \n",
        "2"
       ]
      },
      {
       "output_type": "stream",
       "stream": "stdout",
       "text": [
        " <=> 2  -  True  \n",
        "2 <=> 2  -  True  \n",
        "3"
       ]
      },
      {
       "output_type": "stream",
       "stream": "stdout",
       "text": [
        " <=> 3  -  True  \n",
        "1 <=> 1  -  True  \n",
        "9"
       ]
      },
      {
       "output_type": "stream",
       "stream": "stdout",
       "text": [
        " <=> 9  -  True  \n",
        "7 <=> 7  -  True  \n",
        "5"
       ]
      },
      {
       "output_type": "stream",
       "stream": "stdout",
       "text": [
        " <=> 5  -  True  \n",
        "1 <=> 1  -  True  \n",
        "0"
       ]
      },
      {
       "output_type": "stream",
       "stream": "stdout",
       "text": [
        " <=> 0  -  True  \n",
        "8 <=> 8  -  True  \n",
        "4"
       ]
      },
      {
       "output_type": "stream",
       "stream": "stdout",
       "text": [
        " <=> 4  -  True  \n",
        "6 <=> 6  -  True  \n",
        "2"
       ]
      },
      {
       "output_type": "stream",
       "stream": "stdout",
       "text": [
        " <=> 2  -  True  \n",
        "6 <=> 6  -  True  \n",
        "7"
       ]
      },
      {
       "output_type": "stream",
       "stream": "stdout",
       "text": [
        " <=> 7  -  True  \n",
        "9 <=> 9  -  True  \n",
        "3"
       ]
      },
      {
       "output_type": "stream",
       "stream": "stdout",
       "text": [
        " <=> 3  -  True  \n",
        "2 <=> 2  -  True  \n",
        "9"
       ]
      },
      {
       "output_type": "stream",
       "stream": "stdout",
       "text": [
        " <=> 9  -  True  \n",
        "8 <=> 8  -  True  \n",
        "2"
       ]
      },
      {
       "output_type": "stream",
       "stream": "stdout",
       "text": [
        " <=> 2  -  True  \n",
        "2 <=> 2  -  True  \n",
        "9"
       ]
      },
      {
       "output_type": "stream",
       "stream": "stdout",
       "text": [
        " <=> 9  -  True  \n",
        "2 <=> 2  -  True  \n",
        "7"
       ]
      },
      {
       "output_type": "stream",
       "stream": "stdout",
       "text": [
        " <=> 7  -  True  \n",
        "3 <=> 3  -  True  \n",
        "5"
       ]
      },
      {
       "output_type": "stream",
       "stream": "stdout",
       "text": [
        " <=> 5  -  True  \n",
        "9 <=> 9  -  True  \n",
        "1"
       ]
      },
      {
       "output_type": "stream",
       "stream": "stdout",
       "text": [
        " <=> 1  -  True  \n",
        "8 <=> 8  -  True  \n",
        "0"
       ]
      },
      {
       "output_type": "stream",
       "stream": "stdout",
       "text": [
        " <=> 0  -  True  \n",
        "2 <=> 2  -  True  \n",
        "0"
       ]
      },
      {
       "output_type": "stream",
       "stream": "stdout",
       "text": [
        " <=> 0  -  True  \n",
        "5 <=> 5  -  True  \n",
        "2"
       ]
      },
      {
       "output_type": "stream",
       "stream": "stdout",
       "text": [
        " <=> 2  -  True  \n",
        "1 <=> 1  -  True  \n",
        "3"
       ]
      },
      {
       "output_type": "stream",
       "stream": "stdout",
       "text": [
        " <=> 3  -  True  \n",
        "7 <=> 7  -  True  \n",
        "6"
       ]
      },
      {
       "output_type": "stream",
       "stream": "stdout",
       "text": [
        " <=> 6  -  True  \n",
        "7 <=> 7  -  True  \n",
        "1"
       ]
      },
      {
       "output_type": "stream",
       "stream": "stdout",
       "text": [
        " <=> 1  -  True  \n",
        "2 <=> 2  -  True  \n",
        "5"
       ]
      },
      {
       "output_type": "stream",
       "stream": "stdout",
       "text": [
        " <=> 5  -  True  \n",
        "8 <=> 8  -  True  \n",
        "0"
       ]
      },
      {
       "output_type": "stream",
       "stream": "stdout",
       "text": [
        " <=> 0  -  True  \n",
        "3 <=> 3  -  True  \n",
        "7"
       ]
      },
      {
       "output_type": "stream",
       "stream": "stdout",
       "text": [
        " <=> 7  -  True  \n",
        "2 <=> 2  -  True  \n",
        "4"
       ]
      },
      {
       "output_type": "stream",
       "stream": "stdout",
       "text": [
        " <=> 4  -  True  \n",
        "0 <=> 0  -  True  \n",
        "9"
       ]
      },
      {
       "output_type": "stream",
       "stream": "stdout",
       "text": [
        " <=> 9  -  True  \n",
        "1 <=> 1  -  True  \n",
        "8"
       ]
      },
      {
       "output_type": "stream",
       "stream": "stdout",
       "text": [
        " <=> 8  -  True  \n",
        "6 <=> 6  -  True  \n",
        "7"
       ]
      },
      {
       "output_type": "stream",
       "stream": "stdout",
       "text": [
        " <=> 7  -  True  \n",
        "7 <=> 7  -  True  \n",
        "4"
       ]
      },
      {
       "output_type": "stream",
       "stream": "stdout",
       "text": [
        " <=> 4  -  True  \n",
        "3 <=> 3  -  True  \n",
        "4"
       ]
      },
      {
       "output_type": "stream",
       "stream": "stdout",
       "text": [
        " <=> 4  -  True  \n",
        "9 <=> 9  -  True  \n",
        "1"
       ]
      },
      {
       "output_type": "stream",
       "stream": "stdout",
       "text": [
        " <=> 1  -  True  \n",
        "9 <=> 9  -  True  \n",
        "5"
       ]
      },
      {
       "output_type": "stream",
       "stream": "stdout",
       "text": [
        " <=> 5  -  True  \n",
        "1 <=> 1  -  True  \n",
        "7"
       ]
      },
      {
       "output_type": "stream",
       "stream": "stdout",
       "text": [
        " <=> 7  -  True  \n",
        "3 <=> 3  -  True  \n",
        "9"
       ]
      },
      {
       "output_type": "stream",
       "stream": "stdout",
       "text": [
        " <=> 9  -  True  \n",
        "7 <=> 7  -  True  \n",
        "6"
       ]
      },
      {
       "output_type": "stream",
       "stream": "stdout",
       "text": [
        " <=> 6  -  True  \n",
        "9 <=> 9  -  True  \n",
        "1"
       ]
      },
      {
       "output_type": "stream",
       "stream": "stdout",
       "text": [
        " <=> 1  -  True  \n",
        "3 <=> 3  -  True  \n",
        "7"
       ]
      },
      {
       "output_type": "stream",
       "stream": "stdout",
       "text": [
        " <=> 7  -  True  \n",
        "8 <=> 8  -  True  \n",
        "3"
       ]
      },
      {
       "output_type": "stream",
       "stream": "stdout",
       "text": [
        " <=> 3  -  True  \n",
        "3 <=> 3  -  True  \n",
        "6"
       ]
      },
      {
       "output_type": "stream",
       "stream": "stdout",
       "text": [
        " <=> 6  -  True  \n",
        "7 <=> 7  -  True  \n",
        "2"
       ]
      },
      {
       "output_type": "stream",
       "stream": "stdout",
       "text": [
        " <=> 2  -  True  \n",
        "8 <=> 4  -  False  \n",
        "5"
       ]
      },
      {
       "output_type": "stream",
       "stream": "stdout",
       "text": [
        " <=> 5  -  True  \n",
        "8 <=> 8  -  True  \n",
        "5"
       ]
      },
      {
       "output_type": "stream",
       "stream": "stdout",
       "text": [
        " <=> 5  -  True  \n",
        "1 <=> 1  -  True  \n",
        "1"
       ]
      },
      {
       "output_type": "stream",
       "stream": "stdout",
       "text": [
        " <=> 1  -  True  \n",
        "4 <=> 4  -  True  \n",
        "4"
       ]
      },
      {
       "output_type": "stream",
       "stream": "stdout",
       "text": [
        " <=> 4  -  True  \n",
        "3 <=> 3  -  True  \n",
        "1"
       ]
      },
      {
       "output_type": "stream",
       "stream": "stdout",
       "text": [
        " <=> 1  -  True  \n",
        "0 <=> 0  -  True  \n",
        "7"
       ]
      },
      {
       "output_type": "stream",
       "stream": "stdout",
       "text": [
        " <=> 7  -  True  \n",
        "7 <=> 7  -  True  \n",
        "0"
       ]
      },
      {
       "output_type": "stream",
       "stream": "stdout",
       "text": [
        " <=> 0  -  True  \n",
        "7 <=> 7  -  True  \n",
        "9"
       ]
      },
      {
       "output_type": "stream",
       "stream": "stdout",
       "text": [
        " <=> 9  -  True  \n",
        "4 <=> 4  -  True  \n",
        "4"
       ]
      },
      {
       "output_type": "stream",
       "stream": "stdout",
       "text": [
        " <=> 4  -  True  \n",
        "8 <=> 8  -  True  \n",
        "5"
       ]
      },
      {
       "output_type": "stream",
       "stream": "stdout",
       "text": [
        " <=> 5  -  True  \n",
        "5 <=> 5  -  True  \n",
        "4"
       ]
      },
      {
       "output_type": "stream",
       "stream": "stdout",
       "text": [
        " <=> 4  -  True  \n",
        "0 <=> 0  -  True  \n",
        "8"
       ]
      },
      {
       "output_type": "stream",
       "stream": "stdout",
       "text": [
        " <=> 8  -  True  \n",
        "2 <=> 2  -  True  \n",
        "1"
       ]
      },
      {
       "output_type": "stream",
       "stream": "stdout",
       "text": [
        " <=> 1  -  True  \n",
        "0 <=> 0  -  True  \n",
        "8"
       ]
      },
      {
       "output_type": "stream",
       "stream": "stdout",
       "text": [
        " <=> 8  -  True  \n",
        "4 <=> 4  -  True  \n",
        "5"
       ]
      },
      {
       "output_type": "stream",
       "stream": "stdout",
       "text": [
        " <=> 5  -  True  \n",
        "0 <=> 0  -  True  \n",
        "4"
       ]
      },
      {
       "output_type": "stream",
       "stream": "stdout",
       "text": [
        " <=> 4  -  True  \n",
        "0 <=> 0  -  True  \n",
        "6"
       ]
      },
      {
       "output_type": "stream",
       "stream": "stdout",
       "text": [
        " <=> 6  -  True  \n",
        "1 <=> 1  -  True  \n",
        "7"
       ]
      },
      {
       "output_type": "stream",
       "stream": "stdout",
       "text": [
        " <=> 7  -  True  \n",
        "3 <=> 3  -  True  \n",
        "2"
       ]
      },
      {
       "output_type": "stream",
       "stream": "stdout",
       "text": [
        " <=> 2  -  True  \n",
        "6 <=> 6  -  True  \n",
        "7"
       ]
      },
      {
       "output_type": "stream",
       "stream": "stdout",
       "text": [
        " <=> 7  -  True  \n",
        "2 <=> 2  -  True  \n",
        "6"
       ]
      },
      {
       "output_type": "stream",
       "stream": "stdout",
       "text": [
        " <=> 6  -  True  \n",
        "9 <=> 9  -  True  \n",
        "3"
       ]
      },
      {
       "output_type": "stream",
       "stream": "stdout",
       "text": [
        " <=> 3  -  True  \n",
        "1 <=> 1  -  True  \n",
        "4"
       ]
      },
      {
       "output_type": "stream",
       "stream": "stdout",
       "text": [
        " <=> 4  -  True  \n",
        "6 <=> 6  -  True  \n",
        "2"
       ]
      },
      {
       "output_type": "stream",
       "stream": "stdout",
       "text": [
        " <=> 2  -  True  \n",
        "5 <=> 5  -  True  \n",
        "4"
       ]
      },
      {
       "output_type": "stream",
       "stream": "stdout",
       "text": [
        " <=> 9  -  False  \n",
        "2 <=> 2  -  True  \n",
        "0"
       ]
      },
      {
       "output_type": "stream",
       "stream": "stdout",
       "text": [
        " <=> 0  -  True  \n",
        "6 <=> 6  -  True  \n",
        "2"
       ]
      },
      {
       "output_type": "stream",
       "stream": "stdout",
       "text": [
        " <=> 2  -  True  \n",
        "1 <=> 1  -  True  \n",
        "7"
       ]
      },
      {
       "output_type": "stream",
       "stream": "stdout",
       "text": [
        " <=> 7  -  True  \n",
        "3 <=> 3  -  True  \n",
        "4"
       ]
      },
      {
       "output_type": "stream",
       "stream": "stdout",
       "text": [
        " <=> 4  -  True  \n",
        "1 <=> 1  -  True  \n",
        "0"
       ]
      },
      {
       "output_type": "stream",
       "stream": "stdout",
       "text": [
        " <=> 0  -  True  \n",
        "5 <=> 5  -  True  \n",
        "4"
       ]
      },
      {
       "output_type": "stream",
       "stream": "stdout",
       "text": [
        " <=> 4  -  True  \n",
        "3 <=> 3  -  True  \n",
        "1"
       ]
      },
      {
       "output_type": "stream",
       "stream": "stdout",
       "text": [
        " <=> 1  -  True  \n",
        "1 <=> 1  -  True  \n",
        "7"
       ]
      },
      {
       "output_type": "stream",
       "stream": "stdout",
       "text": [
        " <=> 7  -  True  \n",
        "4 <=> 4  -  True  \n",
        "9"
       ]
      },
      {
       "output_type": "stream",
       "stream": "stdout",
       "text": [
        " <=> 9  -  True  \n",
        "9 <=> 9  -  True  \n",
        "4"
       ]
      },
      {
       "output_type": "stream",
       "stream": "stdout",
       "text": [
        " <=> 4  -  True  \n",
        "8 <=> 8  -  True  \n",
        "4"
       ]
      },
      {
       "output_type": "stream",
       "stream": "stdout",
       "text": [
        " <=> 4  -  True  \n",
        "0 <=> 0  -  True  \n",
        "2"
       ]
      },
      {
       "output_type": "stream",
       "stream": "stdout",
       "text": [
        " <=> 2  -  True  \n",
        "4 <=> 4  -  True  \n",
        "5"
       ]
      },
      {
       "output_type": "stream",
       "stream": "stdout",
       "text": [
        " <=> 5  -  True  \n",
        "1 <=> 1  -  True  \n",
        "1"
       ]
      },
      {
       "output_type": "stream",
       "stream": "stdout",
       "text": [
        " <=> 1  -  True  \n",
        "6 <=> 6  -  True  \n",
        "4"
       ]
      },
      {
       "output_type": "stream",
       "stream": "stdout",
       "text": [
        " <=> 4  -  True  \n",
        "7 <=> 7  -  True  \n",
        "1"
       ]
      },
      {
       "output_type": "stream",
       "stream": "stdout",
       "text": [
        " <=> 1  -  True  \n",
        "9 <=> 9  -  True  \n",
        "4"
       ]
      },
      {
       "output_type": "stream",
       "stream": "stdout",
       "text": [
        " <=> 4  -  True  \n",
        "2 <=> 2  -  True  \n",
        "4"
       ]
      },
      {
       "output_type": "stream",
       "stream": "stdout",
       "text": [
        " <=> 4  -  True  \n",
        "1 <=> 1  -  True  \n",
        "5"
       ]
      },
      {
       "output_type": "stream",
       "stream": "stdout",
       "text": [
        " <=> 5  -  True  \n",
        "5 <=> 5  -  True  \n",
        "3"
       ]
      },
      {
       "output_type": "stream",
       "stream": "stdout",
       "text": [
        " <=> 3  -  True  \n",
        "8 <=> 8  -  True  \n",
        "3"
       ]
      },
      {
       "output_type": "stream",
       "stream": "stdout",
       "text": [
        " <=> 3  -  True  \n",
        "1 <=> 1  -  True  \n",
        "4"
       ]
      },
      {
       "output_type": "stream",
       "stream": "stdout",
       "text": [
        " <=> 4  -  True  \n",
        "5 <=> 5  -  True  \n",
        "6"
       ]
      },
      {
       "output_type": "stream",
       "stream": "stdout",
       "text": [
        " <=> 6  -  True  \n",
        "8 <=> 8  -  True  \n",
        "9"
       ]
      },
      {
       "output_type": "stream",
       "stream": "stdout",
       "text": [
        " <=> 9  -  True  \n",
        "4 <=> 4  -  True  \n",
        "1"
       ]
      },
      {
       "output_type": "stream",
       "stream": "stdout",
       "text": [
        " <=> 1  -  True  \n",
        "5 <=> 5  -  True  \n",
        "3"
       ]
      },
      {
       "output_type": "stream",
       "stream": "stdout",
       "text": [
        " <=> 3  -  True  \n",
        "8 <=> 8  -  True  \n",
        "0"
       ]
      },
      {
       "output_type": "stream",
       "stream": "stdout",
       "text": [
        " <=> 0  -  True  \n",
        "3 <=> 3  -  True  \n",
        "2"
       ]
      },
      {
       "output_type": "stream",
       "stream": "stdout",
       "text": [
        " <=> 2  -  True  \n",
        "5 <=> 5  -  True  \n",
        "1"
       ]
      },
      {
       "output_type": "stream",
       "stream": "stdout",
       "text": [
        " <=> 1  -  True  \n",
        "2 <=> 2  -  True  \n",
        "8"
       ]
      },
      {
       "output_type": "stream",
       "stream": "stdout",
       "text": [
        " <=> 8  -  True  \n",
        "3 <=> 3  -  True  \n",
        "4"
       ]
      },
      {
       "output_type": "stream",
       "stream": "stdout",
       "text": [
        " <=> 4  -  True  \n",
        "4 <=> 4  -  True  \n",
        "0"
       ]
      },
      {
       "output_type": "stream",
       "stream": "stdout",
       "text": [
        " <=> 0  -  True  \n",
        "8 <=> 8  -  True  \n",
        "8"
       ]
      },
      {
       "output_type": "stream",
       "stream": "stdout",
       "text": [
        " <=> 8  -  True  \n",
        "3 <=> 3  -  True  \n",
        "3"
       ]
      },
      {
       "output_type": "stream",
       "stream": "stdout",
       "text": [
        " <=> 3  -  True  \n",
        "1 <=> 1  -  True  \n",
        "7"
       ]
      },
      {
       "output_type": "stream",
       "stream": "stdout",
       "text": [
        " <=> 7  -  True  \n",
        "3 <=> 3  -  True  \n",
        "5"
       ]
      },
      {
       "output_type": "stream",
       "stream": "stdout",
       "text": [
        " <=> 5  -  True  \n",
        "9 <=> 9  -  True  \n",
        "6"
       ]
      },
      {
       "output_type": "stream",
       "stream": "stdout",
       "text": [
        " <=> 6  -  True  \n",
        "3 <=> 3  -  True  \n",
        "2"
       ]
      },
      {
       "output_type": "stream",
       "stream": "stdout",
       "text": [
        " <=> 2  -  True  \n",
        "6 <=> 6  -  True  \n",
        "1"
       ]
      },
      {
       "output_type": "stream",
       "stream": "stdout",
       "text": [
        " <=> 1  -  True  \n",
        "3 <=> 3  -  True  \n",
        "6"
       ]
      },
      {
       "output_type": "stream",
       "stream": "stdout",
       "text": [
        " <=> 6  -  True  \n",
        "0 <=> 0  -  True  \n",
        "7"
       ]
      },
      {
       "output_type": "stream",
       "stream": "stdout",
       "text": [
        " <=> 7  -  True  \n",
        "2 <=> 2  -  True  \n",
        "1"
       ]
      },
      {
       "output_type": "stream",
       "stream": "stdout",
       "text": [
        " <=> 1  -  True  \n",
        "7 <=> 7  -  True  \n",
        "1"
       ]
      },
      {
       "output_type": "stream",
       "stream": "stdout",
       "text": [
        " <=> 1  -  True  \n",
        "4 <=> 4  -  True  \n",
        "2"
       ]
      },
      {
       "output_type": "stream",
       "stream": "stdout",
       "text": [
        " <=> 2  -  True  \n",
        "4 <=> 4  -  True  \n",
        "2"
       ]
      },
      {
       "output_type": "stream",
       "stream": "stdout",
       "text": [
        " <=> 2  -  True  \n",
        "1 <=> 1  -  True  \n",
        "7"
       ]
      },
      {
       "output_type": "stream",
       "stream": "stdout",
       "text": [
        " <=> 7  -  True  \n",
        "9 <=> 9  -  True  \n",
        "6"
       ]
      },
      {
       "output_type": "stream",
       "stream": "stdout",
       "text": [
        " <=> 6  -  True  \n",
        "1 <=> 1  -  True  \n",
        "1"
       ]
      },
      {
       "output_type": "stream",
       "stream": "stdout",
       "text": [
        " <=> 1  -  True  \n",
        "2 <=> 2  -  True  \n",
        "4"
       ]
      },
      {
       "output_type": "stream",
       "stream": "stdout",
       "text": [
        " <=> 4  -  True  \n",
        "8 <=> 8  -  True  \n",
        "1"
       ]
      },
      {
       "output_type": "stream",
       "stream": "stdout",
       "text": [
        " <=> 1  -  True  \n",
        "7 <=> 7  -  True  \n",
        "7"
       ]
      },
      {
       "output_type": "stream",
       "stream": "stdout",
       "text": [
        " <=> 7  -  True  \n",
        "4 <=> 4  -  True  \n",
        "8"
       ]
      },
      {
       "output_type": "stream",
       "stream": "stdout",
       "text": [
        " <=> 8  -  True  \n",
        "0 <=> 0  -  True  \n",
        "7"
       ]
      },
      {
       "output_type": "stream",
       "stream": "stdout",
       "text": [
        " <=> 7  -  True  \n",
        "3 <=> 3  -  True  \n",
        "1"
       ]
      },
      {
       "output_type": "stream",
       "stream": "stdout",
       "text": [
        " <=> 1  -  True  \n",
        "3 <=> 3  -  True  \n",
        "1"
       ]
      },
      {
       "output_type": "stream",
       "stream": "stdout",
       "text": [
        " <=> 1  -  True  \n",
        "0 <=> 0  -  True  \n",
        "7"
       ]
      },
      {
       "output_type": "stream",
       "stream": "stdout",
       "text": [
        " <=> 7  -  True  \n",
        "7 <=> 7  -  True  \n",
        "0"
       ]
      },
      {
       "output_type": "stream",
       "stream": "stdout",
       "text": [
        " <=> 0  -  True  \n",
        "3 <=> 3  -  True  \n",
        "5"
       ]
      },
      {
       "output_type": "stream",
       "stream": "stdout",
       "text": [
        " <=> 5  -  True  \n",
        "5 <=> 5  -  True  \n",
        "2"
       ]
      },
      {
       "output_type": "stream",
       "stream": "stdout",
       "text": [
        " <=> 2  -  True  \n",
        "7 <=> 7  -  True  \n",
        "6"
       ]
      },
      {
       "output_type": "stream",
       "stream": "stdout",
       "text": [
        " <=> 6  -  True  \n",
        "6 <=> 6  -  True  \n",
        "9"
       ]
      },
      {
       "output_type": "stream",
       "stream": "stdout",
       "text": [
        " <=> 9  -  True  \n",
        "2 <=> 2  -  True  \n",
        "8"
       ]
      },
      {
       "output_type": "stream",
       "stream": "stdout",
       "text": [
        " <=> 8  -  True  \n",
        "3 <=> 3  -  True  \n",
        "5"
       ]
      },
      {
       "output_type": "stream",
       "stream": "stdout",
       "text": [
        " <=> 5  -  True  \n",
        "2 <=> 2  -  True  \n",
        "2"
       ]
      },
      {
       "output_type": "stream",
       "stream": "stdout",
       "text": [
        " <=> 2  -  True  \n",
        "5 <=> 5  -  True  \n",
        "6"
       ]
      },
      {
       "output_type": "stream",
       "stream": "stdout",
       "text": [
        " <=> 6  -  True  \n",
        "0 <=> 0  -  True  \n",
        "8"
       ]
      },
      {
       "output_type": "stream",
       "stream": "stdout",
       "text": [
        " <=> 8  -  True  \n",
        "2 <=> 2  -  True  \n",
        "9"
       ]
      },
      {
       "output_type": "stream",
       "stream": "stdout",
       "text": [
        " <=> 9  -  True  \n",
        "2 <=> 2  -  True  \n",
        "8"
       ]
      },
      {
       "output_type": "stream",
       "stream": "stdout",
       "text": [
        " <=> 8  -  True  \n",
        "8 <=> 8  -  True  \n",
        "8"
       ]
      },
      {
       "output_type": "stream",
       "stream": "stdout",
       "text": [
        " <=> 8  -  True  \n",
        "8 <=> 8  -  True  \n",
        "7"
       ]
      },
      {
       "output_type": "stream",
       "stream": "stdout",
       "text": [
        " <=> 7  -  True  \n",
        "4 <=> 4  -  True  \n",
        "9"
       ]
      },
      {
       "output_type": "stream",
       "stream": "stdout",
       "text": [
        " <=> 9  -  True  \n",
        "3 <=> 3  -  True  \n",
        "0"
       ]
      },
      {
       "output_type": "stream",
       "stream": "stdout",
       "text": [
        " <=> 0  -  True  \n",
        "6 <=> 6  -  True  \n",
        "6"
       ]
      },
      {
       "output_type": "stream",
       "stream": "stdout",
       "text": [
        " <=> 6  -  True  \n",
        "3 <=> 3  -  True  \n",
        "2"
       ]
      },
      {
       "output_type": "stream",
       "stream": "stdout",
       "text": [
        " <=> 2  -  True  \n",
        "1 <=> 1  -  True  \n",
        "3"
       ]
      },
      {
       "output_type": "stream",
       "stream": "stdout",
       "text": [
        " <=> 3  -  True  \n",
        "2 <=> 2  -  True  \n",
        "2"
       ]
      },
      {
       "output_type": "stream",
       "stream": "stdout",
       "text": [
        " <=> 2  -  True  \n",
        "9 <=> 9  -  True  \n",
        "3"
       ]
      },
      {
       "output_type": "stream",
       "stream": "stdout",
       "text": [
        " <=> 3  -  True  \n",
        "0 <=> 0  -  True  \n",
        "0"
       ]
      },
      {
       "output_type": "stream",
       "stream": "stdout",
       "text": [
        " <=> 0  -  True  \n",
        "5 <=> 5  -  True  \n",
        "7"
       ]
      },
      {
       "output_type": "stream",
       "stream": "stdout",
       "text": [
        " <=> 7  -  True  \n",
        "8 <=> 8  -  True  \n",
        "1"
       ]
      },
      {
       "output_type": "stream",
       "stream": "stdout",
       "text": [
        " <=> 1  -  True  \n",
        "4 <=> 4  -  True  \n",
        "4"
       ]
      },
      {
       "output_type": "stream",
       "stream": "stdout",
       "text": [
        " <=> 4  -  True  \n",
        "6 <=> 6  -  True  \n",
        "0"
       ]
      },
      {
       "output_type": "stream",
       "stream": "stdout",
       "text": [
        " <=> 0  -  True  \n",
        "2 <=> 2  -  True  \n",
        "9"
       ]
      },
      {
       "output_type": "stream",
       "stream": "stdout",
       "text": [
        " <=> 9  -  True  \n",
        "1 <=> 1  -  True  \n",
        "4"
       ]
      },
      {
       "output_type": "stream",
       "stream": "stdout",
       "text": [
        " <=> 4  -  True  \n",
        "7 <=> 7  -  True  \n",
        "4"
       ]
      },
      {
       "output_type": "stream",
       "stream": "stdout",
       "text": [
        " <=> 4  -  True  \n",
        "7 <=> 7  -  True  \n",
        "3"
       ]
      },
      {
       "output_type": "stream",
       "stream": "stdout",
       "text": [
        " <=> 3  -  True  \n",
        "9 <=> 9  -  True  \n",
        "8"
       ]
      },
      {
       "output_type": "stream",
       "stream": "stdout",
       "text": [
        " <=> 8  -  True  \n",
        "8 <=> 8  -  True  \n",
        "4"
       ]
      },
      {
       "output_type": "stream",
       "stream": "stdout",
       "text": [
        " <=> 4  -  True  \n",
        "7 <=> 7  -  True  \n",
        "1"
       ]
      },
      {
       "output_type": "stream",
       "stream": "stdout",
       "text": [
        " <=> 1  -  True  \n",
        "2 <=> 2  -  True  \n",
        "1"
       ]
      },
      {
       "output_type": "stream",
       "stream": "stdout",
       "text": [
        " <=> 1  -  True  \n",
        "2 <=> 2  -  True  \n",
        "2"
       ]
      },
      {
       "output_type": "stream",
       "stream": "stdout",
       "text": [
        " <=> 2  -  True  \n",
        "3 <=> 3  -  True  \n",
        "2"
       ]
      },
      {
       "output_type": "stream",
       "stream": "stdout",
       "text": [
        " <=> 7  -  False  \n",
        "3 <=> 3  -  True  \n",
        "2"
       ]
      },
      {
       "output_type": "stream",
       "stream": "stdout",
       "text": [
        " <=> 2  -  True  \n",
        "3 <=> 3  -  True  \n",
        "9"
       ]
      },
      {
       "output_type": "stream",
       "stream": "stdout",
       "text": [
        " <=> 9  -  True  \n",
        "1 <=> 1  -  True  \n",
        "7"
       ]
      },
      {
       "output_type": "stream",
       "stream": "stdout",
       "text": [
        " <=> 7  -  True  \n",
        "4 <=> 4  -  True  \n",
        "0"
       ]
      },
      {
       "output_type": "stream",
       "stream": "stdout",
       "text": [
        " <=> 0  -  True  \n",
        "3 <=> 3  -  True  \n",
        "5"
       ]
      },
      {
       "output_type": "stream",
       "stream": "stdout",
       "text": [
        " <=> 5  -  True  \n",
        "5 <=> 5  -  True  \n",
        "8"
       ]
      },
      {
       "output_type": "stream",
       "stream": "stdout",
       "text": [
        " <=> 8  -  True  \n",
        "6 <=> 6  -  True  \n",
        "3"
       ]
      },
      {
       "output_type": "stream",
       "stream": "stdout",
       "text": [
        " <=> 3  -  True  \n",
        "2 <=> 2  -  True  \n",
        "6"
       ]
      },
      {
       "output_type": "stream",
       "stream": "stdout",
       "text": [
        " <=> 6  -  True  \n",
        "7 <=> 7  -  True  \n",
        "6"
       ]
      },
      {
       "output_type": "stream",
       "stream": "stdout",
       "text": [
        " <=> 6  -  True  \n",
        "6 <=> 6  -  True  \n",
        "3"
       ]
      },
      {
       "output_type": "stream",
       "stream": "stdout",
       "text": [
        " <=> 3  -  True  \n",
        "2 <=> 2  -  True  \n",
        "7"
       ]
      },
      {
       "output_type": "stream",
       "stream": "stdout",
       "text": [
        " <=> 7  -  True  \n",
        "8 <=> 9  -  False  \n",
        "1"
       ]
      },
      {
       "output_type": "stream",
       "stream": "stdout",
       "text": [
        " <=> 1  -  True  \n",
        "1 <=> 1  -  True  \n",
        "7"
       ]
      },
      {
       "output_type": "stream",
       "stream": "stdout",
       "text": [
        " <=> 7  -  True  \n",
        "5 <=> 4  -  False  \n",
        "6"
       ]
      },
      {
       "output_type": "stream",
       "stream": "stdout",
       "text": [
        " <=> 6  -  True  \n",
        "4 <=> 4  -  True  \n",
        "9"
       ]
      },
      {
       "output_type": "stream",
       "stream": "stdout",
       "text": [
        " <=> 9  -  True  \n",
        "5 <=> 5  -  True  \n",
        "1"
       ]
      },
      {
       "output_type": "stream",
       "stream": "stdout",
       "text": [
        " <=> 1  -  True  \n",
        "3 <=> 3  -  True  \n",
        "3"
       ]
      },
      {
       "output_type": "stream",
       "stream": "stdout",
       "text": [
        " <=> 3  -  True  \n",
        "4 <=> 4  -  True  \n",
        "7"
       ]
      },
      {
       "output_type": "stream",
       "stream": "stdout",
       "text": [
        " <=> 7  -  True  \n",
        "8 <=> 8  -  True  \n",
        "9"
       ]
      },
      {
       "output_type": "stream",
       "stream": "stdout",
       "text": [
        " <=> 9  -  True  \n",
        "1 <=> 1  -  True  \n",
        "1"
       ]
      },
      {
       "output_type": "stream",
       "stream": "stdout",
       "text": [
        " <=> 1  -  True  \n",
        "6 <=> 6  -  True  \n",
        "9"
       ]
      },
      {
       "output_type": "stream",
       "stream": "stdout",
       "text": [
        " <=> 9  -  True  \n",
        "1 <=> 1  -  True  \n",
        "4"
       ]
      },
      {
       "output_type": "stream",
       "stream": "stdout",
       "text": [
        " <=> 4  -  True  \n",
        "4 <=> 4  -  True  \n",
        "5"
       ]
      },
      {
       "output_type": "stream",
       "stream": "stdout",
       "text": [
        " <=> 5  -  True  \n",
        "4 <=> 4  -  True  \n",
        "0"
       ]
      },
      {
       "output_type": "stream",
       "stream": "stdout",
       "text": [
        " <=> 0  -  True  \n",
        "6 <=> 6  -  True  \n",
        "2"
       ]
      },
      {
       "output_type": "stream",
       "stream": "stdout",
       "text": [
        " <=> 2  -  True  \n",
        "2 <=> 2  -  True  \n",
        "3"
       ]
      },
      {
       "output_type": "stream",
       "stream": "stdout",
       "text": [
        " <=> 3  -  True  \n",
        "1 <=> 1  -  True  \n",
        "5"
       ]
      },
      {
       "output_type": "stream",
       "stream": "stdout",
       "text": [
        " <=> 5  -  True  \n",
        "1 <=> 1  -  True  \n",
        "2"
       ]
      },
      {
       "output_type": "stream",
       "stream": "stdout",
       "text": [
        " <=> 2  -  True  \n",
        "0 <=> 0  -  True  \n",
        "3"
       ]
      },
      {
       "output_type": "stream",
       "stream": "stdout",
       "text": [
        " <=> 3  -  True  \n",
        "8 <=> 8  -  True  \n",
        "1"
       ]
      },
      {
       "output_type": "stream",
       "stream": "stdout",
       "text": [
        " <=> 1  -  True  \n",
        "2 <=> 2  -  True  \n",
        "6"
       ]
      },
      {
       "output_type": "stream",
       "stream": "stdout",
       "text": [
        " <=> 6  -  True  \n",
        "7 <=> 7  -  True  \n",
        "1"
       ]
      },
      {
       "output_type": "stream",
       "stream": "stdout",
       "text": [
        " <=> 1  -  True  \n",
        "6 <=> 6  -  True  \n",
        "2"
       ]
      },
      {
       "output_type": "stream",
       "stream": "stdout",
       "text": [
        " <=> 2  -  True  \n",
        "3 <=> 3  -  True  \n",
        "9"
       ]
      },
      {
       "output_type": "stream",
       "stream": "stdout",
       "text": [
        " <=> 9  -  True  \n",
        "0 <=> 0  -  True  \n",
        "1"
       ]
      },
      {
       "output_type": "stream",
       "stream": "stdout",
       "text": [
        " <=> 1  -  True  \n",
        "2 <=> 2  -  True  \n",
        "2"
       ]
      },
      {
       "output_type": "stream",
       "stream": "stdout",
       "text": [
        " <=> 2  -  True  \n",
        "0 <=> 0  -  True  \n",
        "8"
       ]
      },
      {
       "output_type": "stream",
       "stream": "stdout",
       "text": [
        " <=> 8  -  True  \n",
        "9 <=> 9  -  True  \n",
        "Accuracy = 0.983\n"
       ]
      }
     ],
     "prompt_number": 25
    },
    {
     "cell_type": "code",
     "collapsed": false,
     "input": [],
     "language": "python",
     "metadata": {},
     "outputs": []
    }
   ],
   "metadata": {}
  }
 ]
}