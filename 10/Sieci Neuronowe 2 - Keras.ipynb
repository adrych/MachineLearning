{
 "metadata": {
  "name": "",
  "signature": "sha256:ac7d2cfa339b3eb08d511a209141feec086f014b2a06c7435a3e8e8741306d99"
 },
 "nbformat": 3,
 "nbformat_minor": 0,
 "worksheets": [
  {
   "cells": [
    {
     "cell_type": "markdown",
     "metadata": {},
     "source": [
      "# Wielowarstwowe sieci neuronowe\n",
      "## Uczenie za pomoc\u0105 gotowych pakiet\u00f3w\n",
      "\n",
      "B\u0119dziemy dzi\u015b korzysta\u0107 z zaawansowanego pakietu do sieci neuronowych \"Keras\". \n",
      "\n",
      "### Instalacja\n",
      "* Pod Windowsem powinno by\u0107 wszystko zainstalowane.\n",
      "* Pod Linuxem mo\u017cna zainstalowa\u0107 lokalnie:\n",
      "        pip install --user keras\n",
      "* Lub na w\u0142asnym komputerze:\n",
      "        sudo pip install keras\n",
      "* Mo\u017cliwe, \u017ce konieczne jest ponowne uruchomienie IPython, je\u015bli by\u0142 uruchomiony podczas instalacji.\n",
      "\n",
      "### Dokumentacja\n",
      "* Dosy\u0107 pe\u0142na i obszerna dokumentacja na: http://keras.io\n",
      "* Pomocne przyk\u0142ady na: https://github.com/fchollet/keras/tree/master/examples (zaawansowane)\n",
      "* Szczeg\u00f3lnie przyk\u0142ad: mnist_mlp.py\n",
      "* ***Uwaga:*** pierwsze uruchomienie zazwyczaj trwa jaki\u015b czas, poniewa\u017c pod spodem model kompiluje si\u0119 jako aplikacja w C++. \n",
      "\n",
      "### Zadania\n",
      "\n",
      "#### MNIST\n",
      "1. Uruchom przyk\u0142ad mnist_mlp.py, warto ew. zmieni\u0107 liczb\u0119 epok do 5 \n",
      "1. Przeanalizuj kod za pomoc\u0105 dokumentacji oraz innych \u017ar\u00f3de\u0142 w internecie i opisz w notebooku:\n",
      "    1. Do jakiej postaci autorzy przyk\u0142adu sprowadzaj\u0105 dane Y_train i Y_test?\n",
      "    1. Przedstaw wz\u00f3r matematyczny na funkcj\u0119 b\u0142\u0119du (pojawi\u0142a si\u0119\u00a0na wyk\u0142adzie)\n",
      "    1. Ile warstw ma przyk\u0142adowy model, jakie s\u0105\u00a0rozmiary macierzy odpowiednich wag. Czy mo\u017cna uzyska\u0107 dost\u0119p do tych wag?\n",
      "    1. Jakie funkcje aktywacji u\u017cyto? Podaj ich wzory, dla RELU stw\u00f3rz wykres.\n",
      "    1. Co to jest Dropout? Czemu s\u0142u\u017cy? Jakie znaczenie ma parametr?\n",
      "1. Zmodyfikuj model:\n",
      "    1. Usu\u0144 warstwy Dropout, jaki jest efekt?\n",
      "    1. Stw\u00f3rz model odpowiadaj\u0105cy 10-klasowej regresji logistycznej (om\u00f3wiony na wyk\u0142adzie): jaka jest jako\u015b\u0107?\n",
      "    1. Stw\u00f3rz 6-cio warstwowy model o rozmiarach warstw 2500, 2000, 1500, 1000, 500 oraz 10 bez Dropout, u\u017cyj wsz\u0119dzie funkcji aktywacji `tanh` z wyj\u0105tkiem ostatniej warstwy, gdzie nale\u017cy u\u017cy\u0107 `softmax`. Trenuj model przez 10 epok.\n",
      "    1. Dodaj warstwy Dropout, porownaj jako\u015b\u0107 po 10 epokach. \n",
      "    1. Zamiast RMSprop u\u017cyj algorytm Adagrad, por\u00f3wnaj jako\u015b\u0107. \n",
      "\n",
      "#### XOR\n",
      "1. Poka\u017c, \u017ce jednowarstowa sie\u0107 (z jednym neuronem z sigmoidaln\u0105\u00a0funkcj\u0105 aktywacji) nie potrafi nauczy\u0107\u00a0si\u0119\u00a0funkcji XOR ale za to AND i OR. Wykorzystaj funkcj\u0119 model.predict(...). Przyjmyj, \u017ce warto\u015bci &le;0.1 to 0 oraz warto\u015bci &ge;0.9 to 1. Jaka funkcja bl\u0119du wydaj\u0119\u00a0sie w\u0142asciwa?\n",
      "2. Poka\u017c, \u017ce dwuwarstowy perceptron potrafi nauczy\u0107 si\u0119 funkcji XOR. Wykorzystuj\u0105c model typu `Graph`, zbuduj nast\u0119puj\u0105c\u0105 sie\u0107:\n",
      "        x1 -> nh\n",
      "        x2 -> nh\n",
      "        x1 -> no\n",
      "        x2 -> no\n",
      "        nh -> no\n",
      "Gdzie `x1` i `x2` to wejscia, `nh` to neuron ukryty, `no` to neuron wyj\u015bciowy. Zwr\u00f3c uwag\u0119, \u017ce po\u0142\u0105czenia wychodz\u0105 poza warstwy. W\u0142a\u015bciwym trybem \u0142\u0105czenia wej\u015b\u0107 do neuronu wyj\u015bciowego to `merge_mode='concat'` (skleja wyj\u015bcia poprzednich warstw podanych w `inputs=[w1, w2]` w jeden ci\u0105g). \n",
      "3. **Uwaga**: Konieczna jest du\u017ca liczba epok, ok. 10000. Zbior trenuj\u0105cy to tylko 4 przyk\u0142ady, zatem to p\u00f3jdzie szybko. "
     ]
    },
    {
     "cell_type": "markdown",
     "metadata": {},
     "source": [
      "2A. Do postaci macierzy klas binarnych (z wektor\u00f3w)\n",
      "Y_train = np_utils.to_categorical(y_train, nb_classes)\n",
      "Y_test = np_utils.to_categorical(y_test, nb_classes)\n",
      "\n",
      "2B. Funkcja kosztu:\n",
      "$$J(\\Theta) = \\dfrac{1}{2m} \\sum_{i=1}^{m} (h_\\Theta(x^{(i)})- y^{(i)})^2 $$\n",
      "\n",
      "2C. Model ma 2 warstwy. \n",
      "\n",
      "2D. RELU i softmax.\n",
      "Softmax:\n",
      "$$ \\textrm{softmax}(k,x_1,\\dots,x_n) = \\dfrac{e^{x_k}}{\\sum_{i=i}^{n}e^{x_i}} $$\n",
      "\n",
      "Relu (Rectified Linear Unit):\n",
      "$$ \\textrm{RELU}(x) = \\ln{(1+e^{x})} $$\n",
      "Wykres poni\u017cej\n",
      "\n",
      "2E. Dropout to skr\u00f3t od \"droping out units\", stosuje si\u0119 go do redukcji overfittingu. W fazie treningu wszystkie jednostki aktywacji w warstwie dropout s\u0105 nieaktywne. Jednostki do warstwy dropout s\u0105 wybierane losowo, w zale\u017cno\u015bci od parametru p (jest to u\u0142amek ca\u0142ego zestawu treningowego, ilo\u015b\u0107 jednostek do warstwy dropout.\n",
      "\n",
      "3A. Accuracy si\u0119 obni\u017cy\u0142o, test score wzr\u00f3s\u0142."
     ]
    },
    {
     "cell_type": "code",
     "collapsed": false,
     "input": [
      "#RELU wykres\n",
      "%matplotlib inline\n",
      "import numpy as np\n",
      "import matplotlib.pyplot as plt\n",
      "\n",
      "## initialize the axes\n",
      "fig = plt.figure()\n",
      "ax = fig.add_subplot(111)\n",
      "\n",
      "t = np.arange(-20,20)\n",
      "s = np.log(1+np.exp(t))\n",
      "\n",
      "line, = ax.plot(t, s, color='blue', lw=2)"
     ],
     "language": "python",
     "metadata": {},
     "outputs": [
      {
       "metadata": {},
       "output_type": "display_data",
       "png": "[encoded data removed]",
       "text": [
        "<matplotlib.figure.Figure at 0x7fd078e891d0>"
       ]
      }
     ],
     "prompt_number": 11
    },
    {
     "cell_type": "code",
     "collapsed": false,
     "input": [
      "from __future__ import print_function\n",
      "import numpy as np\n",
      "np.random.seed(1337)  # for reproducibility\n",
      "\n",
      "from keras.datasets import mnist\n",
      "from keras.models import Sequential\n",
      "from keras.layers.core import Dense, Dropout, Activation\n",
      "from keras.optimizers import SGD, Adam, RMSprop, Adagrad\n",
      "from keras.utils import np_utils"
     ],
     "language": "python",
     "metadata": {},
     "outputs": [
      {
       "output_type": "stream",
       "stream": "stdout",
       "text": [
        "Using Theano backend.\n"
       ]
      }
     ],
     "prompt_number": 24
    },
    {
     "cell_type": "code",
     "collapsed": false,
     "input": [
      "# 3B Jako\u015b\u0107: ~0.2984 Accuracy: 0.9151\n",
      "batch_size = 128\n",
      "nb_classes = 10\n",
      "nb_epoch = 5\n",
      "\n",
      "# the data, shuffled and split between tran and test sets\n",
      "(X_train, y_train), (X_test, y_test) = mnist.load_data()\n",
      "\n",
      "X_train = X_train.reshape(60000, 784)\n",
      "X_test = X_test.reshape(10000, 784)\n",
      "X_train = X_train.astype('float32')\n",
      "X_test = X_test.astype('float32')\n",
      "X_train /= 255\n",
      "X_test /= 255\n",
      "print(X_train.shape[0], 'train samples')\n",
      "print(X_test.shape[0], 'test samples')\n",
      "\n",
      "# convert class vectors to binary class matrices\n",
      "Y_train = np_utils.to_categorical(y_train, nb_classes)\n",
      "Y_test = np_utils.to_categorical(y_test, nb_classes)\n",
      "\n",
      "model = Sequential()\n",
      "model.add(Dense(512, input_shape=(784,)))\n",
      "model.add(Activation('tanh'))\n",
      "#model.add(Dropout(0.2))\n",
      "model.add(Dense(512))\n",
      "model.add(Activation('tanh'))\n",
      "#model.add(Dropout(0.2))\n",
      "model.add(Dense(10))\n",
      "model.add(Activation('softmax'))\n",
      "\n",
      "rms = RMSprop()\n",
      "sgd = SGD()\n",
      "model.compile(loss='categorical_crossentropy', optimizer=sgd)\n",
      "\n",
      "model.fit(X_train, Y_train,\n",
      "          batch_size=batch_size, nb_epoch=nb_epoch,\n",
      "          show_accuracy=True, verbose=2,\n",
      "          validation_data=(X_test, Y_test))\n",
      "score = model.evaluate(X_test, Y_test,\n",
      "                       show_accuracy=True, verbose=0)\n",
      "print('Test score:', score[0])\n",
      "print('Test accuracy:', score[1])"
     ],
     "language": "python",
     "metadata": {},
     "outputs": [
      {
       "output_type": "stream",
       "stream": "stdout",
       "text": [
        "60000 train samples\n",
        "10000 test samples\n",
        "Train on 60000 samples, validate on 10000 samples"
       ]
      },
      {
       "output_type": "stream",
       "stream": "stdout",
       "text": [
        "\n",
        "Epoch 1/5\n",
        "15s - loss: 0.7968 - acc: 0.8109 - val_loss: 0.4492 - val_acc: 0.8841\n"
       ]
      },
      {
       "output_type": "stream",
       "stream": "stdout",
       "text": [
        "Epoch 2/5\n",
        "14s - loss: 0.4181 - acc: 0.8879 - val_loss: 0.3621 - val_acc: 0.8984\n"
       ]
      },
      {
       "output_type": "stream",
       "stream": "stdout",
       "text": [
        "Epoch 3/5\n",
        "15s - loss: 0.3622 - acc: 0.8990 - val_loss: 0.3283 - val_acc: 0.9077\n"
       ]
      },
      {
       "output_type": "stream",
       "stream": "stdout",
       "text": [
        "Epoch 4/5\n",
        "14s - loss: 0.3350 - acc: 0.9055 - val_loss: 0.3110 - val_acc: 0.9120\n"
       ]
      },
      {
       "output_type": "stream",
       "stream": "stdout",
       "text": [
        "Epoch 5/5\n",
        "14s - loss: 0.3180 - acc: 0.9096 - val_loss: 0.2984 - val_acc: 0.9151\n"
       ]
      },
      {
       "output_type": "stream",
       "stream": "stdout",
       "text": [
        "Test score: 0.298420210195\n",
        "Test accuracy: 0.9151\n"
       ]
      }
     ],
     "prompt_number": 14
    },
    {
     "cell_type": "code",
     "collapsed": false,
     "input": [
      "# 3C 6 class model 10 epochs\n",
      "#Wyniki:\n",
      "# Test score: 0.950818452835\n",
      "# Test accuracy: 0.783\n",
      "\n",
      "batch_size = 128\n",
      "nb_classes = 10\n",
      "nb_epoch = 10\n",
      "\n",
      "# the data, shuffled and split between tran and test sets\n",
      "(X_train, y_train), (X_test, y_test) = mnist.load_data()\n",
      "\n",
      "X_train = X_train.reshape(60000, 784)\n",
      "X_test = X_test.reshape(10000, 784)\n",
      "#zmniejszona liczba danych bo m\u00f3j komputer nie wyrabia\n",
      "X_train = X_train[:10000,:]\n",
      "X_test = X_test[:1000,:]\n",
      "X_train = X_train.astype('float32')\n",
      "X_test = X_test.astype('float32')\n",
      "X_train /= 255\n",
      "X_test /= 255\n",
      "print(X_train.shape[0], 'train samples')\n",
      "print(X_test.shape[0], 'test samples')\n",
      "\n",
      "# convert class vectors to binary class matrices\n",
      "Y_train = np_utils.to_categorical(y_train, nb_classes)\n",
      "Y_test = np_utils.to_categorical(y_test, nb_classes)\n",
      "\n",
      "model = Sequential()\n",
      "model.add(Dense(2500, input_shape=(784,)))\n",
      "model.add(Activation('tanh'))\n",
      "#model.add(Dropout(0.2))\n",
      "model.add(Dense(2000))\n",
      "model.add(Activation('tanh'))\n",
      "#model.add(Dropout(0.2))\n",
      "model.add(Dense(1500))\n",
      "model.add(Activation('tanh'))\n",
      "model.add(Dense(1000))\n",
      "model.add(Activation('tanh'))\n",
      "model.add(Dense(500))\n",
      "model.add(Activation('tanh'))\n",
      "model.add(Dense(10))\n",
      "model.add(Activation('softmax'))\n",
      "\n",
      "rms = RMSprop()\n",
      "sgd = SGD()\n",
      "model.compile(loss='categorical_crossentropy', optimizer=rms)\n",
      "\n",
      "model.fit(X_train, Y_train,\n",
      "          batch_size=batch_size, nb_epoch=nb_epoch,\n",
      "          show_accuracy=True, verbose=2,\n",
      "          validation_data=(X_test, Y_test))\n",
      "score = model.evaluate(X_test, Y_test,\n",
      "                       show_accuracy=True, verbose=0)\n",
      "print('Test score:', score[0])\n",
      "print('Test accuracy:', score[1])"
     ],
     "language": "python",
     "metadata": {},
     "outputs": [
      {
       "output_type": "stream",
       "stream": "stdout",
       "text": [
        "10000 train samples\n",
        "1000 test samples\n",
        "Train on 10000 samples, validate on 1000 samples"
       ]
      },
      {
       "output_type": "stream",
       "stream": "stdout",
       "text": [
        "\n",
        "Epoch 1/10\n",
        "63s - loss: 2.0586 - acc: 0.4350 - val_loss: 2.1715 - val_acc: 0.4540\n"
       ]
      },
      {
       "output_type": "stream",
       "stream": "stdout",
       "text": [
        "Epoch 2/10\n",
        "63s - loss: 0.5859 - acc: 0.8228 - val_loss: 0.9704 - val_acc: 0.7530\n"
       ]
      },
      {
       "output_type": "stream",
       "stream": "stdout",
       "text": [
        "Epoch 3/10\n",
        "64s - loss: 0.3799 - acc: 0.8898 - val_loss: 0.7392 - val_acc: 0.7680\n"
       ]
      },
      {
       "output_type": "stream",
       "stream": "stdout",
       "text": [
        "Epoch 4/10\n",
        "62s - loss: 0.2793 - acc: 0.9163 - val_loss: 0.7742 - val_acc: 0.7960\n"
       ]
      },
      {
       "output_type": "stream",
       "stream": "stdout",
       "text": [
        "Epoch 5/10\n",
        "64s - loss: 0.2312 - acc: 0.9271 - val_loss: 0.3462 - val_acc: 0.8850\n"
       ]
      },
      {
       "output_type": "stream",
       "stream": "stdout",
       "text": [
        "Epoch 6/10\n",
        "63s - loss: 0.1751 - acc: 0.9450 - val_loss: 1.8024 - val_acc: 0.6690\n"
       ]
      },
      {
       "output_type": "stream",
       "stream": "stdout",
       "text": [
        "Epoch 7/10\n",
        "63s - loss: 0.1960 - acc: 0.9448 - val_loss: 0.3371 - val_acc: 0.9050\n"
       ]
      },
      {
       "output_type": "stream",
       "stream": "stdout",
       "text": [
        "Epoch 8/10\n",
        "64s - loss: 0.1288 - acc: 0.9603 - val_loss: 1.2225 - val_acc: 0.7460\n"
       ]
      },
      {
       "output_type": "stream",
       "stream": "stdout",
       "text": [
        "Epoch 9/10\n",
        "65s - loss: 0.1341 - acc: 0.9595 - val_loss: 1.5531 - val_acc: 0.6910\n"
       ]
      },
      {
       "output_type": "stream",
       "stream": "stdout",
       "text": [
        "Epoch 10/10\n",
        "63s - loss: 0.1174 - acc: 0.9669 - val_loss: 0.9508 - val_acc: 0.7830\n"
       ]
      },
      {
       "output_type": "stream",
       "stream": "stdout",
       "text": [
        "Test score: 0.950818452835\n",
        "Test accuracy: 0.783\n"
       ]
      }
     ],
     "prompt_number": 22
    },
    {
     "cell_type": "code",
     "collapsed": false,
     "input": [
      "#3D dropout added\n",
      "#Wyniki\n",
      "# Test score: 0.482511591434\n",
      "# Test accuracy: 0.888\n",
      "\n",
      "model = Sequential()\n",
      "model.add(Dense(2500, input_shape=(784,)))\n",
      "model.add(Activation('tanh'))\n",
      "model.add(Dropout(0.2))\n",
      "model.add(Dense(2000))\n",
      "model.add(Activation('tanh'))\n",
      "model.add(Dropout(0.2))\n",
      "model.add(Dense(1500))\n",
      "model.add(Activation('tanh'))\n",
      "model.add(Dropout(0.2))\n",
      "model.add(Dense(1000))\n",
      "model.add(Activation('tanh'))\n",
      "model.add(Dropout(0.2))\n",
      "model.add(Dense(500))\n",
      "model.add(Activation('tanh'))\n",
      "model.add(Dropout(0.2))\n",
      "model.add(Dense(10))\n",
      "model.add(Activation('softmax'))\n",
      "\n",
      "sgd = SGD()\n",
      "model.compile(loss='categorical_crossentropy', optimizer=rms)\n",
      "\n",
      "model.fit(X_train, Y_train,\n",
      "          batch_size=batch_size, nb_epoch=nb_epoch,\n",
      "          show_accuracy=True, verbose=2,\n",
      "          validation_data=(X_test, Y_test))\n",
      "score = model.evaluate(X_test, Y_test,\n",
      "                       show_accuracy=True, verbose=0)\n",
      "print('Test score:', score[0])\n",
      "print('Test accuracy:', score[1])"
     ],
     "language": "python",
     "metadata": {},
     "outputs": [
      {
       "output_type": "stream",
       "stream": "stdout",
       "text": [
        "Train on 10000 samples, validate on 1000 samples\n",
        "Epoch 1/10\n",
        "64s - loss: 1.6263 - acc: 0.6101 - val_loss: 2.0947 - val_acc: 0.6010\n"
       ]
      },
      {
       "output_type": "stream",
       "stream": "stdout",
       "text": [
        "Epoch 2/10\n",
        "63s - loss: 0.4440 - acc: 0.8694 - val_loss: 0.4444 - val_acc: 0.8720\n"
       ]
      },
      {
       "output_type": "stream",
       "stream": "stdout",
       "text": [
        "Epoch 3/10\n",
        "63s - loss: 0.2907 - acc: 0.9131 - val_loss: 1.1261 - val_acc: 0.7760\n"
       ]
      },
      {
       "output_type": "stream",
       "stream": "stdout",
       "text": [
        "Epoch 4/10\n",
        "63s - loss: 0.2550 - acc: 0.9252 - val_loss: 0.5195 - val_acc: 0.8230\n"
       ]
      },
      {
       "output_type": "stream",
       "stream": "stdout",
       "text": [
        "Epoch 5/10\n",
        "64s - loss: 0.1872 - acc: 0.9445 - val_loss: 0.2160 - val_acc: 0.9320\n"
       ]
      },
      {
       "output_type": "stream",
       "stream": "stdout",
       "text": [
        "Epoch 6/10\n",
        "63s - loss: 0.1409 - acc: 0.9553 - val_loss: 0.2548 - val_acc: 0.9320\n"
       ]
      },
      {
       "output_type": "stream",
       "stream": "stdout",
       "text": [
        "Epoch 7/10\n",
        "63s - loss: 0.1257 - acc: 0.9593 - val_loss: 0.8626 - val_acc: 0.7910\n"
       ]
      },
      {
       "output_type": "stream",
       "stream": "stdout",
       "text": [
        "Epoch 8/10\n",
        "63s - loss: 0.1270 - acc: 0.9595 - val_loss: 0.2623 - val_acc: 0.9230\n"
       ]
      },
      {
       "output_type": "stream",
       "stream": "stdout",
       "text": [
        "Epoch 9/10\n",
        "63s - loss: 0.0866 - acc: 0.9707 - val_loss: 0.2371 - val_acc: 0.9360\n"
       ]
      },
      {
       "output_type": "stream",
       "stream": "stdout",
       "text": [
        "Epoch 10/10\n",
        "63s - loss: 0.0850 - acc: 0.9719 - val_loss: 0.4825 - val_acc: 0.8880\n"
       ]
      },
      {
       "output_type": "stream",
       "stream": "stdout",
       "text": [
        "Test score: 0.482511591434\n",
        "Test accuracy: 0.888\n"
       ]
      }
     ],
     "prompt_number": 23
    },
    {
     "cell_type": "code",
     "collapsed": false,
     "input": [
      "#3E adagrad\n",
      "#Wyniki:\n",
      "# Test score: 0.411591641665\n",
      "# Test accuracy: 0.886\n",
      "\n",
      "model = Sequential()\n",
      "model.add(Dense(2500, input_shape=(784,)))\n",
      "model.add(Activation('tanh'))\n",
      "model.add(Dropout(0.2))\n",
      "model.add(Dense(2000))\n",
      "model.add(Activation('tanh'))\n",
      "model.add(Dropout(0.2))\n",
      "model.add(Dense(1500))\n",
      "model.add(Activation('tanh'))\n",
      "model.add(Dropout(0.2))\n",
      "model.add(Dense(1000))\n",
      "model.add(Activation('tanh'))\n",
      "model.add(Dropout(0.2))\n",
      "model.add(Dense(500))\n",
      "model.add(Activation('tanh'))\n",
      "model.add(Dropout(0.2))\n",
      "model.add(Dense(10))\n",
      "model.add(Activation('softmax'))\n",
      "\n",
      "adagrad = Adagrad()\n",
      "model.compile(loss='categorical_crossentropy', optimizer=adagrad)\n",
      "\n",
      "model.fit(X_train, Y_train,\n",
      "          batch_size=batch_size, nb_epoch=nb_epoch,\n",
      "          show_accuracy=True, verbose=2,\n",
      "          validation_data=(X_test, Y_test))\n",
      "score = model.evaluate(X_test, Y_test,\n",
      "                       show_accuracy=True, verbose=0)\n",
      "print('Test score:', score[0])\n",
      "print('Test accuracy:', score[1])"
     ],
     "language": "python",
     "metadata": {},
     "outputs": [
      {
       "output_type": "stream",
       "stream": "stdout",
       "text": [
        "Train on 10000 samples, validate on 1000 samples\n",
        "Epoch 1/10\n",
        "65s - loss: 4.0010 - acc: 0.1027 - val_loss: 3.6466 - val_acc: 0.0870\n"
       ]
      },
      {
       "output_type": "stream",
       "stream": "stdout",
       "text": [
        "Epoch 2/10\n",
        "66s - loss: 3.7442 - acc: 0.1046 - val_loss: 3.5849 - val_acc: 0.0870\n"
       ]
      },
      {
       "output_type": "stream",
       "stream": "stdout",
       "text": [
        "Epoch 3/10\n",
        "64s - loss: 3.7244 - acc: 0.1102 - val_loss: 3.5226 - val_acc: 0.0990\n"
       ]
      },
      {
       "output_type": "stream",
       "stream": "stdout",
       "text": [
        "Epoch 4/10\n",
        "73s - loss: 3.4946 - acc: 0.1723 - val_loss: 3.2388 - val_acc: 0.1940\n"
       ]
      },
      {
       "output_type": "stream",
       "stream": "stdout",
       "text": [
        "Epoch 5/10\n",
        "69s - loss: 3.2540 - acc: 0.2158 - val_loss: 3.5567 - val_acc: 0.2010\n"
       ]
      },
      {
       "output_type": "stream",
       "stream": "stdout",
       "text": [
        "Epoch 6/10\n",
        "64s - loss: 2.2995 - acc: 0.3821 - val_loss: 1.4549 - val_acc: 0.4590\n"
       ]
      },
      {
       "output_type": "stream",
       "stream": "stdout",
       "text": [
        "Epoch 7/10\n",
        "66s - loss: 1.1181 - acc: 0.5773 - val_loss: 1.3026 - val_acc: 0.5890\n"
       ]
      },
      {
       "output_type": "stream",
       "stream": "stdout",
       "text": [
        "Epoch 8/10\n",
        "65s - loss: 0.7325 - acc: 0.7633 - val_loss: 1.3236 - val_acc: 0.5950\n"
       ]
      },
      {
       "output_type": "stream",
       "stream": "stdout",
       "text": [
        "Epoch 9/10\n",
        "67s - loss: 0.5283 - acc: 0.8512 - val_loss: 2.0892 - val_acc: 0.5580\n"
       ]
      },
      {
       "output_type": "stream",
       "stream": "stdout",
       "text": [
        "Epoch 10/10\n",
        "67s - loss: 0.4456 - acc: 0.8812 - val_loss: 0.4116 - val_acc: 0.8860\n"
       ]
      },
      {
       "output_type": "stream",
       "stream": "stdout",
       "text": [
        "Test score: 0.411591641665\n",
        "Test accuracy: 0.886\n"
       ]
      }
     ],
     "prompt_number": 21
    },
    {
     "cell_type": "code",
     "collapsed": false,
     "input": [],
     "language": "python",
     "metadata": {},
     "outputs": []
    },
    {
     "cell_type": "code",
     "collapsed": false,
     "input": [
      "#XOR\n",
      "import numpy as np\n",
      "\n",
      "X_train = np.array([[0.0,0.0],[0.0,1.0],[1.0,0.0],[1.0,1.0]])\n",
      "y_train = np.array([[0.0],[1.0],[1.0],[0.0]])\n",
      "\n",
      "X_test = np.array([[0.0,1.0],[1.0,1.0],[0.0,0.0],[1.0,0.0]])\n",
      "y_test = np.array([[1.0],[0.0],[0.0],[1.0]])\n",
      "\n",
      "batch_size = 128\n",
      "nb_classes = 2\n",
      "nb_epoch = 10000\n",
      "\n",
      "\n",
      "# convert class vectors to binary class matrices\n",
      "Y_train = np_utils.to_categorical(y_train, nb_classes)\n",
      "Y_test = np_utils.to_categorical(y_test, nb_classes)\n",
      "\n",
      "model = Sequential()\n",
      "model.add(Dense(2, input_shape=(2,)))\n",
      "model.add(Activation('sigmoid'))\n",
      "\n",
      "rms = RMSprop()\n",
      "sgd = SGD()\n",
      "model.compile(loss='categorical_crossentropy', optimizer=sgd)\n",
      "\n",
      "model.fit(X_train, Y_train,\n",
      "          batch_size=batch_size, nb_epoch=nb_epoch,\n",
      "          show_accuracy=True, verbose=0,\n",
      "          validation_data=(X_test, Y_test))\n",
      "score = model.evaluate(X_test, Y_test,\n",
      "                       show_accuracy=True, verbose=0)\n",
      "print('Test score:', score[0])\n",
      "print('Test accuracy:', score[1])\n"
     ],
     "language": "python",
     "metadata": {},
     "outputs": [
      {
       "output_type": "stream",
       "stream": "stdout",
       "text": [
        "Test score: 0.542351067066\n",
        "Test accuracy: 0.5\n"
       ]
      }
     ],
     "prompt_number": 43
    },
    {
     "cell_type": "code",
     "collapsed": false,
     "input": [
      "#Test accuracy wynosi 0.5 czyli tylko dwie z liczb zosta\u0142y poprawnie sklasyfikowane"
     ],
     "language": "python",
     "metadata": {},
     "outputs": [],
     "prompt_number": 34
    },
    {
     "cell_type": "code",
     "collapsed": false,
     "input": [
      "#AND\n",
      "\n",
      "X_train = np.array([[0.0,0.0],[0.0,1.0],[1.0,0.0],[1.0,1.0]])\n",
      "y_train = np.array([[0.0],[0.0],[0.0],[1.0]])\n",
      "\n",
      "X_test = np.array([[0.0,1.0],[1.0,1.0],[0.0,0.0],[1.0,0.0]])\n",
      "y_test = np.array([[0.0],[1.0],[0.0],[0.0]])\n",
      "\n",
      "batch_size = 128\n",
      "nb_classes = 2\n",
      "nb_epoch = 10000\n",
      "\n",
      "\n",
      "# convert class vectors to binary class matrices\n",
      "Y_train = np_utils.to_categorical(y_train, nb_classes)\n",
      "Y_test = np_utils.to_categorical(y_test, nb_classes)\n",
      "\n",
      "model = Sequential()\n",
      "model.add(Dense(2, input_shape=(2,)))\n",
      "model.add(Activation('sigmoid'))\n",
      "\n",
      "rms = RMSprop()\n",
      "sgd = SGD()\n",
      "model.compile(loss='categorical_crossentropy', optimizer=sgd)\n",
      "\n",
      "model.fit(X_train, Y_train,\n",
      "          batch_size=batch_size, nb_epoch=nb_epoch,\n",
      "          show_accuracy=True, verbose=0,\n",
      "          validation_data=(X_test, Y_test))\n",
      "score = model.evaluate(X_test, Y_test,\n",
      "                       show_accuracy=True, verbose=0)\n",
      "print('Test score:', score[0])\n",
      "print('Test accuracy:', score[1])\n"
     ],
     "language": "python",
     "metadata": {},
     "outputs": [
      {
       "output_type": "stream",
       "stream": "stdout",
       "text": [
        "Test score: 0.103746116161\n",
        "Test accuracy: 1.0\n"
       ]
      }
     ],
     "prompt_number": 45
    },
    {
     "cell_type": "code",
     "collapsed": false,
     "input": [
      "#Test accuracy wysz\u0142o 1.0, czyli si\u0119 uda\u0142o"
     ],
     "language": "python",
     "metadata": {},
     "outputs": [],
     "prompt_number": 36
    },
    {
     "cell_type": "code",
     "collapsed": false,
     "input": [
      "#OR\n",
      "\n",
      "X_train = np.array([[0.0,0.0],[0.0,1.0],[1.0,0.0],[1.0,1.0]])\n",
      "y_train = np.array([[0.0],[1.0],[1.0],[1.0]])\n",
      "\n",
      "X_test = np.array([[0.0,1.0],[1.0,1.0],[0.0,0.0],[1.0,0.0]])\n",
      "y_test = np.array([[1.0],[1.0],[0.0],[1.0]])\n",
      "\n",
      "batch_size = 128\n",
      "nb_classes = 2\n",
      "nb_epoch = 10000\n",
      "\n",
      "\n",
      "# convert class vectors to binary class matrices\n",
      "Y_train = np_utils.to_categorical(y_train, nb_classes)\n",
      "Y_test = np_utils.to_categorical(y_test, nb_classes)\n",
      "\n",
      "model = Sequential()\n",
      "model.add(Dense(2, input_shape=(2,)))\n",
      "model.add(Activation('sigmoid'))\n",
      "\n",
      "rms = RMSprop()\n",
      "sgd = SGD()\n",
      "model.compile(loss='categorical_crossentropy', optimizer=sgd)\n",
      "\n",
      "model.fit(X_train, Y_train,\n",
      "          batch_size=batch_size, nb_epoch=nb_epoch,\n",
      "          show_accuracy=True, verbose=0,\n",
      "          validation_data=(X_test, Y_test))\n",
      "score = model.evaluate(X_test, Y_test,\n",
      "                       show_accuracy=True, verbose=0)\n",
      "print('Test score:', score[0])\n",
      "print('Test accuracy:', score[1])\n"
     ],
     "language": "python",
     "metadata": {},
     "outputs": [
      {
       "output_type": "stream",
       "stream": "stdout",
       "text": [
        "Test score: 0.0731879994273\n",
        "Test accuracy: 1.0\n"
       ]
      }
     ],
     "prompt_number": 46
    },
    {
     "cell_type": "code",
     "collapsed": false,
     "input": [
      "#Test accuracy wynosi 1.0, czyli ok"
     ],
     "language": "python",
     "metadata": {},
     "outputs": [],
     "prompt_number": 47
    },
    {
     "cell_type": "code",
     "collapsed": false,
     "input": [
      "#XOR\n",
      "from keras.models import Graph\n",
      "import numpy as np\n",
      "\n",
      "X_train = np.array([[0.0,0.0],[0.0,1.0],[1.0,0.0],[1.0,1.0]])\n",
      "y_train = np.array([[0.0],[1.0],[1.0],[0.0]])\n",
      "\n",
      "X_test = np.array([[0.0,1.0],[1.0,1.0],[0.0,0.0],[1.0,0.0]])\n",
      "y_test = np.array([[1.0],[0.0],[0.0],[1.0]])\n",
      "\n",
      "batch_size = 128\n",
      "nb_classes = 2\n",
      "nb_epoch = 10000\n",
      "\n",
      "\n",
      "# convert class vectors to binary class matrices\n",
      "Y_train = np_utils.to_categorical(y_train, nb_classes)\n",
      "Y_test = np_utils.to_categorical(y_test, nb_classes)\n",
      "\n",
      "\n",
      "graph = Graph()\n",
      "graph.add_input(name='input', input_shape=(2,))\n",
      "graph.add_node(Dense(input_dim = 2, output_dim = 2, activation = 'sigmoid'), name='nh', input ='input')\n",
      "graph.add_node(Dense(input_dim = 3, output_dim = 2), name='x1x2', inputs=['input', 'nh'])\n",
      "graph.add_output(name='output', input='x1x2', merge_mode='concat')\n",
      "\n",
      "rms = RMSprop()\n",
      "graph.compile(optimizer=rms, loss={'output':'mse'})\n",
      "history = graph.fit({'input':X_train, 'output':Y_train}, batch_size=batch_size, nb_epoch=nb_epoch,\n",
      "          verbose=0)\n",
      "\n",
      "score = graph.evaluate({'input':X_test, 'output':Y_test})\n",
      "print (score)"
     ],
     "language": "python",
     "metadata": {},
     "outputs": [
      {
       "output_type": "stream",
       "stream": "stdout",
       "text": [
        "3.9893993744e-06\n"
       ]
      }
     ],
     "prompt_number": 141
    },
    {
     "cell_type": "code",
     "collapsed": false,
     "input": [],
     "language": "python",
     "metadata": {},
     "outputs": []
    }
   ],
   "metadata": {}
  }
 ]
}