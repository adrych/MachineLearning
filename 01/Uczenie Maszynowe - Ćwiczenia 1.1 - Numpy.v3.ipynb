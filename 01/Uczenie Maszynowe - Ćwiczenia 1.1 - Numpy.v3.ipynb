{
 "metadata": {
  "kernelspec": {
   "display_name": "Python 2",
   "language": "python",
   "name": "python2"
  },
  "language_info": {
   "codemirror_mode": {
    "name": "ipython",
    "version": 2
   },
   "file_extension": ".py",
   "mimetype": "text/x-python",
   "name": "python",
   "nbconvert_exporter": "python",
   "pygments_lexer": "ipython2",
   "version": "2.7.6"
  },
  "name": "",
  "signature": "sha256:ab17bd0ee954dced4da2744d266cd5d1af277f11ccc24e9a77eb2f270f82cf9b"
 },
 "nbformat": 3,
 "nbformat_minor": 0,
 "worksheets": [
  {
   "cells": [
    {
     "cell_type": "heading",
     "level": 1,
     "metadata": {},
     "source": [
      "1.1 NumPy - Tablice"
     ]
    },
    {
     "cell_type": "markdown",
     "metadata": {
      "collapsed": true
     },
     "source": [
      "Wprowadzenie\n",
      "---------\n",
      "\n",
      "G\u0142\u00f3wnym obiektem w NumPy jest *jednorodna*, *wielowymiarowa* tablica. Przyk\u0142adem takiej tablicy jest macierz `x`.\n",
      "\n",
      "Macierz $x =\n",
      "    \\begin{pmatrix}\n",
      "    1 & 2 & 3  \\\\\n",
      "    4 & 5 & 6  \\\\\n",
      "    7 & 8 & 9\n",
      "    \\end{pmatrix}$\n",
      "mo\u017cna zapisa\u0107 jako:"
     ]
    },
    {
     "cell_type": "code",
     "collapsed": false,
     "input": [
      "import numpy as np\n",
      "\n",
      "x = np.array([[1,2,3],[4,5,6],[7,8,9]])\n",
      "print x"
     ],
     "language": "python",
     "metadata": {},
     "outputs": [
      {
       "output_type": "stream",
       "stream": "stdout",
       "text": [
        "[[1 2 3]\n",
        " [4 5 6]\n",
        " [7 8 9]]\n"
       ]
      }
     ],
     "prompt_number": 1
    },
    {
     "cell_type": "code",
     "collapsed": false,
     "input": [
      "x.shape"
     ],
     "language": "python",
     "metadata": {},
     "outputs": [
      {
       "metadata": {},
       "output_type": "pyout",
       "prompt_number": 2,
       "text": [
        "(3, 3)"
       ]
      }
     ],
     "prompt_number": 2
    },
    {
     "cell_type": "markdown",
     "metadata": {},
     "source": [
      "Tablice typu `array` maj\u0105 wiele przydatnych wbudowanych metod."
     ]
    },
    {
     "cell_type": "code",
     "collapsed": false,
     "input": [
      "x.sum(axis=0)"
     ],
     "language": "python",
     "metadata": {},
     "outputs": [
      {
       "metadata": {},
       "output_type": "pyout",
       "prompt_number": 3,
       "text": [
        "array([12, 15, 18])"
       ]
      }
     ],
     "prompt_number": 3
    },
    {
     "cell_type": "code",
     "collapsed": false,
     "input": [
      "x.sum(axis=1)"
     ],
     "language": "python",
     "metadata": {},
     "outputs": [
      {
       "metadata": {},
       "output_type": "pyout",
       "prompt_number": 4,
       "text": [
        "array([ 6, 15, 24])"
       ]
      }
     ],
     "prompt_number": 4
    },
    {
     "cell_type": "code",
     "collapsed": false,
     "input": [
      "x.mean(axis=0)"
     ],
     "language": "python",
     "metadata": {},
     "outputs": [
      {
       "metadata": {},
       "output_type": "pyout",
       "prompt_number": 5,
       "text": [
        "array([ 4.,  5.,  6.])"
       ]
      }
     ],
     "prompt_number": 5
    },
    {
     "cell_type": "code",
     "collapsed": false,
     "input": [
      "x.mean(axis=1)"
     ],
     "language": "python",
     "metadata": {},
     "outputs": [
      {
       "metadata": {},
       "output_type": "pyout",
       "prompt_number": 6,
       "text": [
        "array([ 2.,  5.,  8.])"
       ]
      }
     ],
     "prompt_number": 6
    },
    {
     "cell_type": "markdown",
     "metadata": {},
     "source": [
      "Do tworzenia sekwencji liczbowych jako obiekty typu `array` nale\u017cy wykorzysta\u0107 funkcj\u0119 `arange`."
     ]
    },
    {
     "cell_type": "code",
     "collapsed": false,
     "input": [
      "np.arange(10)"
     ],
     "language": "python",
     "metadata": {},
     "outputs": [
      {
       "metadata": {},
       "output_type": "pyout",
       "prompt_number": 7,
       "text": [
        "array([0, 1, 2, 3, 4, 5, 6, 7, 8, 9])"
       ]
      }
     ],
     "prompt_number": 7
    },
    {
     "cell_type": "code",
     "collapsed": false,
     "input": [
      "np.arange(5,10)"
     ],
     "language": "python",
     "metadata": {},
     "outputs": [
      {
       "metadata": {},
       "output_type": "pyout",
       "prompt_number": 8,
       "text": [
        "array([5, 6, 7, 8, 9])"
       ]
      }
     ],
     "prompt_number": 8
    },
    {
     "cell_type": "code",
     "collapsed": false,
     "input": [
      "np.arange(5,10,0.5)"
     ],
     "language": "python",
     "metadata": {},
     "outputs": [
      {
       "metadata": {},
       "output_type": "pyout",
       "prompt_number": 9,
       "text": [
        "array([ 5. ,  5.5,  6. ,  6.5,  7. ,  7.5,  8. ,  8.5,  9. ,  9.5])"
       ]
      }
     ],
     "prompt_number": 9
    },
    {
     "cell_type": "markdown",
     "metadata": {},
     "source": [
      "Mo\u017cemy r\u00f3wnie\u017c zmienia\u0107 kszta\u0142t (**reshape**) wyj\u015bcia funkcji `arange`."
     ]
    },
    {
     "cell_type": "code",
     "collapsed": false,
     "input": [
      "x = np.arange(1,10).reshape(3,3)\n",
      "x"
     ],
     "language": "python",
     "metadata": {},
     "outputs": [
      {
       "metadata": {},
       "output_type": "pyout",
       "prompt_number": 10,
       "text": [
        "array([[1, 2, 3],\n",
        "       [4, 5, 6],\n",
        "       [7, 8, 9]])"
       ]
      }
     ],
     "prompt_number": 10
    },
    {
     "cell_type": "markdown",
     "metadata": {},
     "source": [
      "Podobn\u0105 funkcj\u0105 do `arange` jest `linspace` kt\u00f3ra wype\u0142nia wektor okre\u015blon\u0105 liczb\u0105 element\u00f3w z przedzia\u0142u o r\u00f3wnych automatycznie obliczonych odst\u0119pach (w `arange` sami musimy poda\u0107\u00a0rozmiar kroku.)"
     ]
    },
    {
     "cell_type": "code",
     "collapsed": false,
     "input": [
      "x = np.linspace(0,5,5)\n",
      "x"
     ],
     "language": "python",
     "metadata": {},
     "outputs": [
      {
       "metadata": {},
       "output_type": "pyout",
       "prompt_number": 11,
       "text": [
        "array([ 0.  ,  1.25,  2.5 ,  3.75,  5.  ])"
       ]
      }
     ],
     "prompt_number": 11
    },
    {
     "cell_type": "markdown",
     "metadata": {},
     "source": [
      "Tak jak w przypadku wszystkich funkcji pythonowych mo\u017cemy uzyska\u0107 dodatkowe informacje o funkcjach NumPy za pomoc\u0105 polecenia `help(nazwa.funkcji)`:"
     ]
    },
    {
     "cell_type": "code",
     "collapsed": false,
     "input": [
      "help(np.linspace)"
     ],
     "language": "python",
     "metadata": {},
     "outputs": [
      {
       "output_type": "stream",
       "stream": "stdout",
       "text": [
        "Help on function linspace in module numpy.core.function_base:\n",
        "\n",
        "linspace(start, stop, num=50, endpoint=True, retstep=False, dtype=None)\n",
        "    Return evenly spaced numbers over a specified interval.\n",
        "    \n",
        "    Returns `num` evenly spaced samples, calculated over the\n",
        "    interval [`start`, `stop` ].\n",
        "    \n",
        "    The endpoint of the interval can optionally be excluded.\n",
        "    \n",
        "    Parameters\n",
        "    ----------\n",
        "    start : scalar\n",
        "        The starting value of the sequence.\n",
        "    stop : scalar\n",
        "        The end value of the sequence, unless `endpoint` is set to False.\n",
        "        In that case, the sequence consists of all but the last of ``num + 1``\n",
        "        evenly spaced samples, so that `stop` is excluded.  Note that the step\n",
        "        size changes when `endpoint` is False.\n",
        "    num : int, optional\n",
        "        Number of samples to generate. Default is 50.\n",
        "    endpoint : bool, optional\n",
        "        If True, `stop` is the last sample. Otherwise, it is not included.\n",
        "        Default is True.\n",
        "    retstep : bool, optional\n",
        "        If True, return (`samples`, `step`), where `step` is the spacing\n",
        "        between samples.\n",
        "    dtype : dtype, optional\n",
        "        The type of the output array.  If `dtype` is not given, infer the data\n",
        "        type from the other input arguments.\n",
        "    \n",
        "        .. versionadded:: 1.9.0\n",
        "    \n",
        "    Returns\n",
        "    -------\n",
        "    samples : ndarray\n",
        "        There are `num` equally spaced samples in the closed interval\n",
        "        ``[start, stop]`` or the half-open interval ``[start, stop)``\n",
        "        (depending on whether `endpoint` is True or False).\n",
        "    step : float\n",
        "        Only returned if `retstep` is True\n",
        "    \n",
        "        Size of spacing between samples.\n",
        "    \n",
        "    \n",
        "    See Also\n",
        "    --------\n",
        "    arange : Similar to `linspace`, but uses a step size (instead of the\n",
        "             number of samples).\n",
        "    logspace : Samples uniformly distributed in log space.\n",
        "    \n",
        "    Examples\n",
        "    --------\n",
        "    >>> np.linspace(2.0, 3.0, num=5)\n",
        "        array([ 2.  ,  2.25,  2.5 ,  2.75,  3.  ])\n",
        "    >>> np.linspace(2.0, 3.0, num=5, endpoint=False)\n",
        "        array([ 2. ,  2.2,  2.4,  2.6,  2.8])\n",
        "    >>> np.linspace(2.0, 3.0, num=5, retstep=True)\n",
        "        (array([ 2.  ,  2.25,  2.5 ,  2.75,  3.  ]), 0.25)\n",
        "    \n",
        "    Graphical illustration:\n",
        "    \n",
        "    >>> import matplotlib.pyplot as plt\n",
        "    >>> N = 8\n",
        "    >>> y = np.zeros(N)\n",
        "    >>> x1 = np.linspace(0, 10, N, endpoint=True)\n",
        "    >>> x2 = np.linspace(0, 10, N, endpoint=False)\n",
        "    >>> plt.plot(x1, y, 'o')\n",
        "    [<matplotlib.lines.Line2D object at 0x...>]\n",
        "    >>> plt.plot(x2, y + 0.5, 'o')\n",
        "    [<matplotlib.lines.Line2D object at 0x...>]\n",
        "    >>> plt.ylim([-0.5, 1])\n",
        "    (-0.5, 1)\n",
        "    >>> plt.show()\n",
        "\n"
       ]
      }
     ],
     "prompt_number": 12
    },
    {
     "cell_type": "markdown",
     "metadata": {},
     "source": [
      "Tablice mog\u0105\u00a0sie sk\u0142ada\u0107 z r\u00f3\u017cnych typ\u00f3w danych (ale tylko jednego typu danych r\u00f3wnocze\u015bnie, st\u0105d jednorodno\u015b\u0107)."
     ]
    },
    {
     "cell_type": "code",
     "collapsed": false,
     "input": [
      "x = np.array([1,2,3])\n",
      "print x.dtype\n",
      "x = np.array([0.1,0.2,0.3])\n",
      "print x\n",
      "print x.dtype\n",
      "x = np.array([1,2,3],dtype='float64')\n",
      "print x.dtype"
     ],
     "language": "python",
     "metadata": {},
     "outputs": [
      {
       "output_type": "stream",
       "stream": "stdout",
       "text": [
        "int64\n",
        "[ 0.1  0.2  0.3]\n",
        "float64\n",
        "float64\n"
       ]
      }
     ],
     "prompt_number": 13
    },
    {
     "cell_type": "markdown",
     "metadata": {},
     "source": [
      "Kilka przydatnych funkcji do tworzenia okre\u015blonych tablic:\n",
      "* `zeros`\n",
      "* `ones`"
     ]
    },
    {
     "cell_type": "code",
     "collapsed": false,
     "input": [
      "x = np.zeros([3,4])\n",
      "x"
     ],
     "language": "python",
     "metadata": {},
     "outputs": [
      {
       "metadata": {},
       "output_type": "pyout",
       "prompt_number": 14,
       "text": [
        "array([[ 0.,  0.,  0.,  0.],\n",
        "       [ 0.,  0.,  0.,  0.],\n",
        "       [ 0.,  0.,  0.,  0.]])"
       ]
      }
     ],
     "prompt_number": 14
    },
    {
     "cell_type": "code",
     "collapsed": false,
     "input": [
      "x = np.ones([3,4])\n",
      "x"
     ],
     "language": "python",
     "metadata": {},
     "outputs": [
      {
       "metadata": {},
       "output_type": "pyout",
       "prompt_number": 15,
       "text": [
        "array([[ 1.,  1.,  1.,  1.],\n",
        "       [ 1.,  1.,  1.,  1.],\n",
        "       [ 1.,  1.,  1.,  1.]])"
       ]
      }
     ],
     "prompt_number": 15
    },
    {
     "cell_type": "markdown",
     "metadata": {},
     "source": [
      " ## Zadania 1.1\n",
      "\n",
      "1. Utw\u00f3rz nast\u0119puj\u0105c\u0105 macierz (za pomoc\u0105 polecenia sk\u0142adaj\u0105cego si\u0119 z jednego wiersza)\n",
      "$a =\n",
      "\\begin{pmatrix}\n",
      "1       & 2      & \\cdots & 10      \\\\\n",
      "11      & 12     & \\cdots & 20      \\\\\n",
      "\\vdots  & \\ddots & \\ddots & \\vdots  \\\\\n",
      "91      & 92     & \\cdots & 100 \n",
      "\\end{pmatrix}$\n",
      "2. Za pomoc\u0105 metod obiektu `array` okre\u015bl liczb\u0119\u00a0element\u00f3w, kolumn i wierszy.\n",
      "3. Stw\u00f3rzy wektory \u015brednich po wiersza oraz po kolumnach.\n",
      "4. Jaki jest wynik operacji: `a[4,:]`\n",
      "5. Sprawd\u017a i opisz (kr\u00f3tko) dzia\u0142ania nast\u0119puj\u0105cych funkcji: \n",
      " * `np.log(a)` \n",
      " * `np.cumsum(a)`\n",
      " * `np.rank(a)`\n",
      " * `np.power(a,2)`\n",
      "6. Stw\u00f3rz wektor sk\u0142adaj\u0105cy si\u0119 z 50 punkt\u00f3w z przedzia\u0142u 11 do 23"
     ]
    },
    {
     "cell_type": "code",
     "collapsed": false,
     "input": [
      "import numpy as np\n",
      "a = np.arange(1,101).reshape(10,10)\n",
      "a"
     ],
     "language": "python",
     "metadata": {},
     "outputs": [
      {
       "metadata": {},
       "output_type": "pyout",
       "prompt_number": 34,
       "text": [
        "array([[  1,   2,   3,   4,   5,   6,   7,   8,   9,  10],\n",
        "       [ 11,  12,  13,  14,  15,  16,  17,  18,  19,  20],\n",
        "       [ 21,  22,  23,  24,  25,  26,  27,  28,  29,  30],\n",
        "       [ 31,  32,  33,  34,  35,  36,  37,  38,  39,  40],\n",
        "       [ 41,  42,  43,  44,  45,  46,  47,  48,  49,  50],\n",
        "       [ 51,  52,  53,  54,  55,  56,  57,  58,  59,  60],\n",
        "       [ 61,  62,  63,  64,  65,  66,  67,  68,  69,  70],\n",
        "       [ 71,  72,  73,  74,  75,  76,  77,  78,  79,  80],\n",
        "       [ 81,  82,  83,  84,  85,  86,  87,  88,  89,  90],\n",
        "       [ 91,  92,  93,  94,  95,  96,  97,  98,  99, 100]])"
       ]
      }
     ],
     "prompt_number": 34
    },
    {
     "cell_type": "code",
     "collapsed": false,
     "input": [
      "a.shape"
     ],
     "language": "python",
     "metadata": {},
     "outputs": [
      {
       "metadata": {},
       "output_type": "pyout",
       "prompt_number": 35,
       "text": [
        "(10, 10)"
       ]
      }
     ],
     "prompt_number": 35
    },
    {
     "cell_type": "code",
     "collapsed": false,
     "input": [
      "a.size"
     ],
     "language": "python",
     "metadata": {},
     "outputs": [
      {
       "metadata": {},
       "output_type": "pyout",
       "prompt_number": 36,
       "text": [
        "100"
       ]
      }
     ],
     "prompt_number": 36
    },
    {
     "cell_type": "code",
     "collapsed": false,
     "input": [
      "a.mean(axis=0)"
     ],
     "language": "python",
     "metadata": {},
     "outputs": [
      {
       "metadata": {},
       "output_type": "pyout",
       "prompt_number": 37,
       "text": [
        "array([ 46.,  47.,  48.,  49.,  50.,  51.,  52.,  53.,  54.,  55.])"
       ]
      }
     ],
     "prompt_number": 37
    },
    {
     "cell_type": "code",
     "collapsed": false,
     "input": [
      "a.mean(axis=1)"
     ],
     "language": "python",
     "metadata": {},
     "outputs": [
      {
       "metadata": {},
       "output_type": "pyout",
       "prompt_number": 38,
       "text": [
        "array([  5.5,  15.5,  25.5,  35.5,  45.5,  55.5,  65.5,  75.5,  85.5,  95.5])"
       ]
      }
     ],
     "prompt_number": 38
    },
    {
     "cell_type": "code",
     "collapsed": false,
     "input": [
      "a[4,:] #prints 4th row, whole range"
     ],
     "language": "python",
     "metadata": {},
     "outputs": [
      {
       "metadata": {},
       "output_type": "pyout",
       "prompt_number": 39,
       "text": [
        "array([41, 42, 43, 44, 45, 46, 47, 48, 49, 50])"
       ]
      }
     ],
     "prompt_number": 39
    },
    {
     "cell_type": "code",
     "collapsed": false,
     "input": [
      "np.log(a) #log method on each element of array"
     ],
     "language": "python",
     "metadata": {},
     "outputs": [
      {
       "metadata": {},
       "output_type": "pyout",
       "prompt_number": 41,
       "text": [
        "array([[ 0.        ,  0.69314718,  1.09861229,  1.38629436,  1.60943791,\n",
        "         1.79175947,  1.94591015,  2.07944154,  2.19722458,  2.30258509],\n",
        "       [ 2.39789527,  2.48490665,  2.56494936,  2.63905733,  2.7080502 ,\n",
        "         2.77258872,  2.83321334,  2.89037176,  2.94443898,  2.99573227],\n",
        "       [ 3.04452244,  3.09104245,  3.13549422,  3.17805383,  3.21887582,\n",
        "         3.25809654,  3.29583687,  3.33220451,  3.36729583,  3.40119738],\n",
        "       [ 3.4339872 ,  3.4657359 ,  3.49650756,  3.52636052,  3.55534806,\n",
        "         3.58351894,  3.61091791,  3.63758616,  3.66356165,  3.68887945],\n",
        "       [ 3.71357207,  3.73766962,  3.76120012,  3.78418963,  3.80666249,\n",
        "         3.8286414 ,  3.8501476 ,  3.87120101,  3.8918203 ,  3.91202301],\n",
        "       [ 3.93182563,  3.95124372,  3.97029191,  3.98898405,  4.00733319,\n",
        "         4.02535169,  4.04305127,  4.06044301,  4.07753744,  4.09434456],\n",
        "       [ 4.11087386,  4.12713439,  4.14313473,  4.15888308,  4.17438727,\n",
        "         4.18965474,  4.20469262,  4.21950771,  4.2341065 ,  4.24849524],\n",
        "       [ 4.26267988,  4.27666612,  4.29045944,  4.30406509,  4.31748811,\n",
        "         4.33073334,  4.34380542,  4.35670883,  4.36944785,  4.38202663],\n",
        "       [ 4.39444915,  4.40671925,  4.41884061,  4.4308168 ,  4.44265126,\n",
        "         4.4543473 ,  4.46590812,  4.47733681,  4.48863637,  4.49980967],\n",
        "       [ 4.51085951,  4.52178858,  4.53259949,  4.54329478,  4.55387689,\n",
        "         4.56434819,  4.57471098,  4.58496748,  4.59511985,  4.60517019]])"
       ]
      }
     ],
     "prompt_number": 41
    },
    {
     "cell_type": "code",
     "collapsed": false,
     "input": [
      "np.cumsum(a) #cumulative sum of each element and all previous from it"
     ],
     "language": "python",
     "metadata": {},
     "outputs": [
      {
       "metadata": {},
       "output_type": "pyout",
       "prompt_number": 42,
       "text": [
        "array([   1,    3,    6,   10,   15,   21,   28,   36,   45,   55,   66,\n",
        "         78,   91,  105,  120,  136,  153,  171,  190,  210,  231,  253,\n",
        "        276,  300,  325,  351,  378,  406,  435,  465,  496,  528,  561,\n",
        "        595,  630,  666,  703,  741,  780,  820,  861,  903,  946,  990,\n",
        "       1035, 1081, 1128, 1176, 1225, 1275, 1326, 1378, 1431, 1485, 1540,\n",
        "       1596, 1653, 1711, 1770, 1830, 1891, 1953, 2016, 2080, 2145, 2211,\n",
        "       2278, 2346, 2415, 2485, 2556, 2628, 2701, 2775, 2850, 2926, 3003,\n",
        "       3081, 3160, 3240, 3321, 3403, 3486, 3570, 3655, 3741, 3828, 3916,\n",
        "       4005, 4095, 4186, 4278, 4371, 4465, 4560, 4656, 4753, 4851, 4950,\n",
        "       5050])"
       ]
      }
     ],
     "prompt_number": 42
    },
    {
     "cell_type": "code",
     "collapsed": false,
     "input": [
      "np.rank(a) #rank of matrix"
     ],
     "language": "python",
     "metadata": {},
     "outputs": [
      {
       "metadata": {},
       "output_type": "pyout",
       "prompt_number": 43,
       "text": [
        "2"
       ]
      }
     ],
     "prompt_number": 43
    },
    {
     "cell_type": "code",
     "collapsed": false,
     "input": [
      "np.power(a,2) #each element^2"
     ],
     "language": "python",
     "metadata": {},
     "outputs": [
      {
       "metadata": {},
       "output_type": "pyout",
       "prompt_number": 45,
       "text": [
        "array([[    1,     4,     9,    16,    25,    36,    49,    64,    81,\n",
        "          100],\n",
        "       [  121,   144,   169,   196,   225,   256,   289,   324,   361,\n",
        "          400],\n",
        "       [  441,   484,   529,   576,   625,   676,   729,   784,   841,\n",
        "          900],\n",
        "       [  961,  1024,  1089,  1156,  1225,  1296,  1369,  1444,  1521,\n",
        "         1600],\n",
        "       [ 1681,  1764,  1849,  1936,  2025,  2116,  2209,  2304,  2401,\n",
        "         2500],\n",
        "       [ 2601,  2704,  2809,  2916,  3025,  3136,  3249,  3364,  3481,\n",
        "         3600],\n",
        "       [ 3721,  3844,  3969,  4096,  4225,  4356,  4489,  4624,  4761,\n",
        "         4900],\n",
        "       [ 5041,  5184,  5329,  5476,  5625,  5776,  5929,  6084,  6241,\n",
        "         6400],\n",
        "       [ 6561,  6724,  6889,  7056,  7225,  7396,  7569,  7744,  7921,\n",
        "         8100],\n",
        "       [ 8281,  8464,  8649,  8836,  9025,  9216,  9409,  9604,  9801,\n",
        "        10000]])"
       ]
      }
     ],
     "prompt_number": 45
    },
    {
     "cell_type": "code",
     "collapsed": false,
     "input": [
      "np.linspace(11,23,50)"
     ],
     "language": "python",
     "metadata": {},
     "outputs": [
      {
       "metadata": {},
       "output_type": "pyout",
       "prompt_number": 46,
       "text": [
        "array([ 11.        ,  11.24489796,  11.48979592,  11.73469388,\n",
        "        11.97959184,  12.2244898 ,  12.46938776,  12.71428571,\n",
        "        12.95918367,  13.20408163,  13.44897959,  13.69387755,\n",
        "        13.93877551,  14.18367347,  14.42857143,  14.67346939,\n",
        "        14.91836735,  15.16326531,  15.40816327,  15.65306122,\n",
        "        15.89795918,  16.14285714,  16.3877551 ,  16.63265306,\n",
        "        16.87755102,  17.12244898,  17.36734694,  17.6122449 ,\n",
        "        17.85714286,  18.10204082,  18.34693878,  18.59183673,\n",
        "        18.83673469,  19.08163265,  19.32653061,  19.57142857,\n",
        "        19.81632653,  20.06122449,  20.30612245,  20.55102041,\n",
        "        20.79591837,  21.04081633,  21.28571429,  21.53061224,\n",
        "        21.7755102 ,  22.02040816,  22.26530612,  22.51020408,\n",
        "        22.75510204,  23.        ])"
       ]
      }
     ],
     "prompt_number": 46
    },
    {
     "cell_type": "code",
     "collapsed": false,
     "input": [],
     "language": "python",
     "metadata": {},
     "outputs": []
    }
   ],
   "metadata": {}
  }
 ]
}